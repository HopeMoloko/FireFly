{
 "cells": [
  {
   "cell_type": "markdown",
   "metadata": {},
   "source": [
    "# \" Keep it Simple Stupid!\"\n",
    "# \" Don't Repeat Yourself!\""
   ]
  },
  {
   "cell_type": "markdown",
   "metadata": {},
   "source": [
    "# Writing a good function:\n",
    "  \n",
    "       -Sensibly named\n",
    "      -Has a single responsibility\n",
    "      -Includes a docstring\n",
    "      -Returns a value\n",
    "      -Is not longer than 50 lines\n",
    "      -Is idempotent and, if possible , pure\n",
    "  "
   ]
  },
  {
   "cell_type": "code",
   "execution_count": 1,
   "metadata": {},
   "outputs": [],
   "source": [
    "########################Import Modules##########################################\n",
    "import numpy as np\n",
    "import matplotlib.pyplot as plt\n",
    "import pandas as pd\n",
    "import scipy.stats as stat\n",
    "import corner\n",
    "import copy as Makecopy\n",
    "import time\n",
    "\n",
    "from ipywidgets import IntProgress\n",
    "from IPython.display import display\n",
    "\n",
    "from mpl_toolkits.axes_grid1 import make_axes_locatable\n",
    "\n",
    "from matplotlib.patches import Ellipse\n",
    "from matplotlib.collections import PatchCollection"
   ]
  },
  {
   "cell_type": "code",
   "execution_count": 2,
   "metadata": {},
   "outputs": [],
   "source": [
    "#import this"
   ]
  },
  {
   "cell_type": "code",
   "execution_count": 3,
   "metadata": {},
   "outputs": [],
   "source": [
    "def Model_function(params,noise):\n",
    "    '''Return the model value given X,Y,R, and A paramters'''\n",
    "       \n",
    "    x = np.arange(0, npix, 1, float)\n",
    "    y = x[:,np.newaxis]\n",
    "    n = noise\n",
    "    \n",
    "    def tau(x,y,X,Y,R,A):  #Circularly  Gaussian Shaped function\n",
    "        term1 = ((x-X)**2 + (y-Y)**2)/(2*R**2)\n",
    "        \n",
    "        return A*np.exp(-term1)\n",
    "    \n",
    "    source_template_model = np.zeros((npix,npix))\n",
    "    params_new = np.reshape(params,(int(len(params)/4),4))  # change shape of array to index each source. from\n",
    "                                                          # n-dimension to a k-4 dimennsion array.\n",
    "    for i in range(len(params_new)):\n",
    "        \n",
    "        X,Y,R,A = params_new[i][0],params_new[i][1],params_new[i][2],params_new[i][3]\n",
    "        source_template_model += tau(x,y,X,Y,R,A)\n",
    "    \n",
    "    return source_template_model +n\n",
    "\n",
    "def Log_Likelihood(data=None,sigma=None,model=None):\n",
    "    \n",
    "    '''Return the Log-Likelihood.\n",
    "    lnLikelihood = sum(f(data|model,sigma^2))\n",
    "                =-(n/2)*ln(2*pi) - (n/2)*ln(sigma^2) - (1/2*sigma^2)*sum((data-model)^2)    \n",
    "    Keyword arguments:\n",
    "    sigma -- noise level\n",
    "    model    -- Model\n",
    "    data     -- The data'''\n",
    "    #Unit test for shape of data amd model\n",
    "    assert data.shape == model.shape\n",
    "    \n",
    "    N = len(data)\n",
    "    \n",
    "    Log_Like =  -0.5*np.sum(((1/sigma**2)*(data-model)**2))\n",
    "    \n",
    "    '''Term2 = np.exp(-0.5*((1/sigma**2)*(data-model)**2))\n",
    "    |-(N/2)*np.log(2*np.pi) - N*np.log(np.prod(sigma))|\n",
    "    Log_Like = np.prod(Term2)'''\n",
    "    \n",
    "    return Log_Like\n",
    "\n",
    "\n",
    "def prior_transform(u=None): #Prior                                                                                \n",
    "    prior_source_list = []                                                                            \n",
    "                                                                                                      \n",
    "    for i in range(num_of_model_sources):                                                             \n",
    "        X_prior = npix*u[i]                                                             \n",
    "        Y_prior = npix*u[i+1]                                                             \n",
    "        R_prior = R_constant_value                                                                    \n",
    "        A_prior = u[i+2]*7 + 18                                                          \n",
    "                                                                                                      \n",
    "        prior_source_list.extend([X_prior,Y_prior,R_prior,A_prior])      #Took out R_prior                               \n",
    "                                                                                                      \n",
    "    return prior_source_list\n",
    "\n",
    "def log_plus(x,y):\n",
    "    '''Return the addition of x + y in log-space'''\n",
    "    if x>y:\n",
    "        return x+np.log(1+np.exp(y-x))\n",
    "    \n",
    "    else:\n",
    "        return y+np.log(1+np.exp(x-y))"
   ]
  },
  {
   "cell_type": "code",
   "execution_count": 28,
   "metadata": {},
   "outputs": [],
   "source": [
    "class Dataset:\n",
    "    \n",
    "    def __init__(self,data):\n",
    "        \n",
    "        self.type = \"csv\"\n",
    "        self.data = data\n",
    "        \n",
    "    def Source(self):\n",
    "        Sources = pd.read_csv(self.data)\n",
    "        \n",
    "        return Sources"
   ]
  },
  {
   "cell_type": "code",
   "execution_count": 29,
   "metadata": {},
   "outputs": [],
   "source": [
    "dataset = Dataset(\"/home/hope-moloko/Masters/Masters_Project/Sources/sources.csv\")"
   ]
  },
  {
   "cell_type": "code",
   "execution_count": null,
   "metadata": {},
   "outputs": [],
   "source": []
  },
  {
   "cell_type": "markdown",
   "metadata": {},
   "source": [
    "## Initialize\n"
   ]
  },
  {
   "cell_type": "code",
   "execution_count": 30,
   "metadata": {},
   "outputs": [],
   "source": [
    "npix = 50\n",
    "noise_level = 1\n",
    "Sources =  dataset.Source()\n",
    "ndim = 4*2\n",
    "num_of_model_sources = 2\n",
    "\n",
    "R_constant_value = 4"
   ]
  },
  {
   "cell_type": "code",
   "execution_count": 31,
   "metadata": {},
   "outputs": [],
   "source": [
    "class CircularGaussian:\n",
    "    \"\"\"Circurlarly Gaussian-shaped onjects.\n",
    "    \n",
    "    Methods:\n",
    "        Function(): Computes the cirular Gaussian given parameters X,Y,R and A.\n",
    "        Image : Produce an image of the sources with added noise\n",
    "        \n",
    "        \n",
    "    Data attributes: \n",
    "        Position: X,Y \n",
    "        Amplitude: A  \n",
    "        Spatial extent:R\n",
    "        npix: Number of pixels\n",
    "        noise_level: rms units\n",
    "        sources = source list\"\"\"\n",
    "    \n",
    "    def __init__(self,x,y,sources,npix,noise_level):\n",
    "        self.x = x \n",
    "        self.y = y \n",
    "        self.npix = npix\n",
    "        self.sources = sources\n",
    "        self.noise_level = noise_level\n",
    "        \n",
    "    def tau(self,x,y,X,Y,R,A):  #Circularly  Gaussian Shaped function\n",
    "        term1 = ((self.x-X)**2 + (self.y-Y)**2)/(2*R**2)\n",
    "        \n",
    "        return A*np.exp(-term1)\n",
    "        \n",
    "    \n",
    "    def GenerateModel(self,):\n",
    "        tau = self.tau\n",
    "        source_template = np.zeros((self.npix,self.npix))\n",
    "        \n",
    "        for i in range(len(self.sources)):\n",
    "            X_true = self.sources['X'][i]\n",
    "            Y_true = self.sources['Y'][i]\n",
    "            R_true = self.sources['R'][i]\n",
    "            A_true = self.sources['A'][i]\n",
    "\n",
    "            source_template += tau(self.x,self.y,X_true,Y_true,R_true,A_true)\n",
    "            \n",
    "        Noise = np.random.normal(0,self.noise_level,source_template.shape)\n",
    "        data_source = source_template  + Noise\n",
    "        \n",
    "        return Noise,data_source\n",
    "        \n",
    "        \n",
    "    def Image(self,data_source):\n",
    "        ax = plt.subplot(111)\n",
    "\n",
    "        \n",
    "        im = ax.imshow(data_source,origin='lower',cmap='afmhot',)\n",
    "        divider = make_axes_locatable(ax)\n",
    "        cax = divider.append_axes(\"right\", size=\"5%\", pad=0.05)\n",
    "\n",
    "        plt.colorbar(im, cax=cax)\n",
    "        ax.set_xlabel('X Position')\n",
    "        ax.set_ylabel('Y Position')\n",
    "        plt.ylabel('Arbitrary Flux')\n",
    "        plt.savefig('Image-50',bbox_inches='tight')\n",
    "        \n",
    "        "
   ]
  },
  {
   "cell_type": "code",
   "execution_count": 32,
   "metadata": {},
   "outputs": [
    {
     "data": {
      "text/plain": [
       "<matplotlib.collections.PolyCollection at 0x7f1bfd71eeb8>"
      ]
     },
     "execution_count": 32,
     "metadata": {},
     "output_type": "execute_result"
    },
    {
     "data": {
      "image/png": "[encoded data removed]",
      "text/plain": [
       "<Figure size 432x288 with 1 Axes>"
      ]
     },
     "metadata": {
      "needs_background": "light"
     },
     "output_type": "display_data"
    }
   ],
   "source": [
    "n = 10000\n",
    "p = np.random.normal(0,1,(5,5))\n",
    "cp = np.cov(p)\n",
    "for i in range(n):\n",
    "    p = np.random.normal(0,1,(5,5))\n",
    "    cp = np.cov(p) + cp\n",
    "    \n",
    "cp = cp/n\n",
    "plt.pcolor(cp)"
   ]
  },
  {
   "cell_type": "code",
   "execution_count": 33,
   "metadata": {},
   "outputs": [
    {
     "data": {
      "text/plain": [
       "array([[ 9.89537250e-01, -6.31844987e-04, -8.24044439e-04,\n",
       "         4.37548174e-03, -1.84690026e-03],\n",
       "       [-6.31844987e-04,  1.00733735e+00,  9.86773701e-04,\n",
       "         4.82523983e-03,  8.49245845e-03],\n",
       "       [-8.24044439e-04,  9.86773701e-04,  9.85691110e-01,\n",
       "        -6.25237053e-04, -8.26540783e-03],\n",
       "       [ 4.37548174e-03,  4.82523983e-03, -6.25237053e-04,\n",
       "         9.97489545e-01,  7.58888432e-03],\n",
       "       [-1.84690026e-03,  8.49245845e-03, -8.26540783e-03,\n",
       "         7.58888432e-03,  1.00761257e+00]])"
      ]
     },
     "execution_count": 33,
     "metadata": {},
     "output_type": "execute_result"
    }
   ],
   "source": [
    "cp"
   ]
  },
  {
   "cell_type": "code",
   "execution_count": 34,
   "metadata": {},
   "outputs": [],
   "source": [
    "x = np.arange(0, 50, 1, float)\n",
    "y = x [:,np.newaxis]"
   ]
  },
  {
   "cell_type": "code",
   "execution_count": 35,
   "metadata": {},
   "outputs": [],
   "source": [
    "Objects1 = CircularGaussian(x,y,Sources,50,1)"
   ]
  },
  {
   "cell_type": "code",
   "execution_count": 36,
   "metadata": {},
   "outputs": [],
   "source": [
    "Noise,Data_source = Objects1.GenerateModel()"
   ]
  },
  {
   "cell_type": "code",
   "execution_count": 37,
   "metadata": {},
   "outputs": [
    {
     "data": {
      "image/png": "[encoded data removed]",
      "text/plain": [
       "<Figure size 432x288 with 2 Axes>"
      ]
     },
     "metadata": {
      "needs_background": "light"
     },
     "output_type": "display_data"
    }
   ],
   "source": [
    "Objects1.Image(Data_source)"
   ]
  },
  {
   "cell_type": "code",
   "execution_count": 38,
   "metadata": {},
   "outputs": [
    {
     "data": {
      "text/html": [
       "<div>\n",
       "<style scoped>\n",
       "    .dataframe tbody tr th:only-of-type {\n",
       "        vertical-align: middle;\n",
       "    }\n",
       "\n",
       "    .dataframe tbody tr th {\n",
       "        vertical-align: top;\n",
       "    }\n",
       "\n",
       "    .dataframe thead th {\n",
       "        text-align: right;\n",
       "    }\n",
       "</style>\n",
       "<table border=\"1\" class=\"dataframe\">\n",
       "  <thead>\n",
       "    <tr style=\"text-align: right;\">\n",
       "      <th></th>\n",
       "      <th>Unnamed: 0</th>\n",
       "      <th>X</th>\n",
       "      <th>Y</th>\n",
       "      <th>R</th>\n",
       "      <th>A</th>\n",
       "    </tr>\n",
       "  </thead>\n",
       "  <tbody>\n",
       "    <tr>\n",
       "      <th>0</th>\n",
       "      <td>0</td>\n",
       "      <td>42.867227</td>\n",
       "      <td>34.835931</td>\n",
       "      <td>4</td>\n",
       "      <td>19.327570</td>\n",
       "    </tr>\n",
       "    <tr>\n",
       "      <th>1</th>\n",
       "      <td>1</td>\n",
       "      <td>14.166760</td>\n",
       "      <td>16.832976</td>\n",
       "      <td>4</td>\n",
       "      <td>21.365226</td>\n",
       "    </tr>\n",
       "  </tbody>\n",
       "</table>\n",
       "</div>"
      ],
      "text/plain": [
       "   Unnamed: 0          X          Y  R          A\n",
       "0           0  42.867227  34.835931  4  19.327570\n",
       "1           1  14.166760  16.832976  4  21.365226"
      ]
     },
     "execution_count": 38,
     "metadata": {},
     "output_type": "execute_result"
    }
   ],
   "source": [
    "Sources"
   ]
  },
  {
   "cell_type": "code",
   "execution_count": null,
   "metadata": {},
   "outputs": [],
   "source": [
    "# Number of live points\n",
    "num_of_live_points = 1000\n",
    "\n",
    "\n",
    "#Save objects\n",
    "points = np.zeros((num_of_live_points,ndim))\n",
    "\n",
    "#log_likelihood of live objects\n",
    "log_like_of_live_points = np.zeros((num_of_live_points))\n",
    "\n",
    "\n",
    "#Generate Live objects\n",
    "for i in range(num_of_live_points):\n",
    "    points[i,:] = prior_transform(u=np.random.uniform(0,1.0,size=ndim))\n",
    "    model = Model_function(params=points[i,:],noise=Noise)\n",
    "    log_like_of_live_points[i] = Log_Likelihood_hyp(data=Data_source,sigma=Noise,model=model)\n",
    " \n"
   ]
  },
  {
   "cell_type": "code",
   "execution_count": null,
   "metadata": {},
   "outputs": [],
   "source": [
    "nest = 50000\n",
    "keep = np.zeros((nest,ndim))  #store bad points\n",
    "logl_sample = []     #Store Log-likelihood of samples\n",
    "X_sample = []        #Store prior mass\n",
    "   \n",
    "\n",
    "\n",
    "logWT = []  #Store  weight =width*likelihood\n",
    "\n",
    "\n",
    "logZ = -1e300     # SUM(weights)= Z Evidence\n",
    "H = 0\n"
   ]
  },
  {
   "cell_type": "code",
   "execution_count": null,
   "metadata": {},
   "outputs": [],
   "source": [
    "# Defined intervals for each parameters\n",
    "Flat_interval = [(0,50),(0,50),(3.7,4.1),(15,28)]\n",
    "mcmc_steps = 60\n",
    "Acceptance = np.empty((nest))"
   ]
  },
  {
   "cell_type": "code",
   "execution_count": null,
   "metadata": {},
   "outputs": [],
   "source": []
  },
  {
   "cell_type": "code",
   "execution_count": null,
   "metadata": {},
   "outputs": [],
   "source": []
  },
  {
   "cell_type": "code",
   "execution_count": null,
   "metadata": {
    "scrolled": false
   },
   "outputs": [],
   "source": [
    "progressor = IntProgress(\n",
    "    value=0,\n",
    "    min=0,\n",
    "    max=nest,\n",
    "    step=1,\n",
    "    description='Loading:',\n",
    "    bar_style='success',\n",
    "    orientation='horizontal'\n",
    ") # instantiate the bar\n",
    "display(progressor)\n",
    "## MAIN NS LOOP##\n",
    "\n",
    "#Outer interval \n",
    "logw = np.log(1.0 - np.exp(-1.0 / num_of_live_points))\n",
    "\n",
    "start = time.time()\n",
    "for i in range(nest):\n",
    "    # Draw worst object with L* from n points\n",
    "    worst = np.argmin(log_like_of_live_points)\n",
    "    \n",
    "    #Save worst opbject\n",
    "    keep[i,:] = points[worst,:]\n",
    "    logl_sample.append(log_like_of_live_points[worst])\n",
    "    \n",
    "    #Save prior mass\n",
    "    X_sample.append(logw)\n",
    "    \n",
    "    #Weight\n",
    "    logwt = logw + log_like_of_live_points[worst]\n",
    "    \n",
    "    \n",
    "    #Save weight\n",
    "    logWT.append(logwt)\n",
    "    \n",
    "    #Update Evidence Z\n",
    "    logZnew = log_plus(logZ,logwt)   #np.logaddexp(logZ,logwt)     #CHANGED THIS LINE\n",
    "    \n",
    "    #Update H information\n",
    "    H = np.exp(logwt-logZnew)*log_like_of_live_points[worst] \\\n",
    "    +np.exp(logZ-logZnew)*(H+logZ)-logZnew\n",
    "    \n",
    "    #Update logZ\n",
    "    logZ = logZnew\n",
    "    #Shrink interval\n",
    "    logw -= 1.0/num_of_live_points\n",
    "    \n",
    "\n",
    "    while True:#----copy a random point and do mcmc from there-----\n",
    "        copy = np.random.randint(len(points))\n",
    "        if (copy != worst):break\n",
    "            \n",
    "    points[worst,:] = Makecopy.deepcopy(points[copy,:])\n",
    "    log_Likelihood_old =  log_like_of_live_points[copy]\n",
    "    \n",
    "    theta = points[copy,:]\n",
    "    \n",
    "    #UNIT TEST check for correct shape\n",
    "    assert theta.shape == (ndim,)\n",
    "    \n",
    "   # initialize mcmc params\n",
    "    \n",
    "    scale = 1.0\n",
    "    accept = 0\n",
    "    reject = 0\n",
    "    for mcmci in range(mcmc_steps):  #Evolve within current worst likelihood L>L* , draw new point under constraint\n",
    "    #while True:   \n",
    "        propose_step = np.random.normal(0,scale=scale,size=ndim)\n",
    "        new_point = theta + propose_step\n",
    "        \n",
    "        #Make all Amp == R_constant\n",
    "        new_point_reshape = np.reshape(new_point,(int(len(new_point)/4),4))\n",
    "        new_point_reshape[:,-2] = R_constant_value\n",
    "        \n",
    "        new_point = new_point_reshape.ravel()\n",
    "        ##############################################################################\n",
    "        add = 0\n",
    "        for j in range(len(new_point_reshape)):\n",
    "            for i in range(4):\n",
    "                if Flat_interval[i][0] <= new_point_reshape[j][i] <= Flat_interval[i][1]:\n",
    "                    add += 1\n",
    "                else:\n",
    "                    pass\n",
    "\n",
    "        if add == len(new_point):\n",
    "            Prior = 1\n",
    "        else:\n",
    "            Prior = 0\n",
    "        np.seterr(divide='ignore')\n",
    "        if np.log(Prior)==-np.inf:\n",
    "            log_Likelihood_new = 0\n",
    "        else:\n",
    "        #Calculate Log_likelihood of new point\n",
    "            model = Model_function(params=new_point,noise=Noise)\n",
    "        \n",
    "            log_Likelihood_new = Log_Likelihood_hyp(data=Data_source,sigma=Noise,model=model) + np.log(Prior)\n",
    "\n",
    "       \n",
    "    ##################################################################################################\n",
    "        #Acceptance ratio alpha\n",
    "        alpha = np.exp(log_Likelihood_new-log_Likelihood_old)\n",
    "        \n",
    "        \n",
    "        if alpha>=1:\n",
    "            points[worst,:] = new_point  #Replace worst point with new point\n",
    "            log_like_of_live_points[worst] = log_Likelihood_new   #Replace the worst likelihood with new one  \n",
    "            accept += 1\n",
    "            break\n",
    "            \n",
    "        else:\n",
    "            u = np.random.uniform()\n",
    "            if u <= alpha :\n",
    "                points[worst,:] = new_point \n",
    "                log_like_of_live_points[worst] = log_Likelihood_new\n",
    "                accept += 1\n",
    "                break\n",
    "                \n",
    "            else:\n",
    "                theta = theta\n",
    "                reject +=1\n",
    "                \n",
    "        #Changing the scale\n",
    "        if accept > reject:\n",
    "            scale *= np.exp(1./accept)\n",
    "        if accept < reject:\n",
    "            scale /= np.exp(1./reject)\n",
    "\n",
    "    \n",
    "    Acceptance_Ratio = accept/(accept+reject)\n",
    "    Acceptance[i] =  Acceptance_Ratio\n",
    "    \n",
    "    progressor.value += 1\n",
    "    \n",
    "                \n",
    "    if i > nest*np.exp(H)/np.log(2.):\n",
    "        #print(\"ok\")\n",
    "        \n",
    "        break\n",
    "\n",
    "end = time.time()\n",
    "if progressor.value == progressor.max:\n",
    "    progressor.description = \"Done!\"\n",
    "    \n",
    "Z = logZ\n",
    "Z_err = np.sqrt((H)/num_of_live_points)\n",
    "H =  H #       np.exp(H)/np.log(2.)\n",
    "#print(\"Acceptance Ratio :\",Acceptance_Ratio)\n",
    "print('Evidence Z = {0} +-{1} : Information H = {2} '.format(Z,Z_err,H))\n",
    "print('time:',end-start)"
   ]
  },
  {
   "cell_type": "code",
   "execution_count": null,
   "metadata": {},
   "outputs": [],
   "source": [
    "plt.figure(figsize=(12,8))\n",
    "plt.plot(X_sample,logl_sample)\n",
    "plt.xlabel('LogX')\n",
    "plt.ylabel('LogL')"
   ]
  },
  {
   "cell_type": "code",
   "execution_count": null,
   "metadata": {
    "scrolled": false
   },
   "outputs": [],
   "source": [
    "plt.figure(figsize=(15,8))\n",
    "plt.plot(np.arange(0,len(Acceptance)),Acceptance,'+')\n",
    "plt.ylabel('Acceptance Ratio')\n",
    "plt.axhline(0.2,c='blue')"
   ]
  },
  {
   "cell_type": "code",
   "execution_count": null,
   "metadata": {},
   "outputs": [],
   "source": [
    "#Normalized samples\n",
    "wt = np.exp((logWT)-max(logWT))\n",
    "Weights = wt/sum(wt)\n",
    "\n",
    "#Effective sample size\n",
    "effective_sample_size = int(np.exp(-np.sum(Weights*np.log(Weights+1e-300))))\n",
    "S = 0\n",
    "sample = np.zeros((effective_sample_size,ndim))\n",
    "\n",
    "\n",
    "print('Effective Sample Size : {}'.format(effective_sample_size))\n",
    "\n",
    "#Progress bar\n",
    "progressor_samples = IntProgress(\n",
    "    value=0,\n",
    "    min=0,\n",
    "    max=effective_sample_size,\n",
    "    step=1,\n",
    "    description='Loading:',\n",
    "    bar_style='success',\n",
    "    orientation='horizontal'\n",
    ") # instantiate the bar\n",
    "display(progressor_samples)\n",
    "\n",
    "# Selecting the Effective sample\n",
    "while True:\n",
    "    rnd_point = np.random.randint(len(keep))\n",
    "    #proba = prob_weighted[rnd_point]/max(prob_weighted)\n",
    "    proba = Weights[rnd_point]/max(Weights)\n",
    "\n",
    "    if np.random.rand() < proba:\n",
    "        sample[S,:] = keep[rnd_point,:]\n",
    "        \n",
    "        S += 1\n",
    "        progressor_samples.value += 1\n",
    "    if S >= effective_sample_size:\n",
    "        break\n"
   ]
  },
  {
   "cell_type": "code",
   "execution_count": null,
   "metadata": {
    "scrolled": false
   },
   "outputs": [],
   "source": [
    "plt.figure(figsize=(15,10))\n",
    "\n",
    "ndim = 8\n",
    "#labels = ['x','y','a','x$_{1}$','y$_{1}$','a$_{1}$']\n",
    "#truth =  [32.4,18.82,9.03,120.5,129.3,13.15]\n",
    "for i in range(ndim):\n",
    "    plt.subplot(4,4,i+1)\n",
    "    plt.hist(sample[:,i],histtype=\"step\")\n",
    "    #plt.xlabel(labels[i])\n",
    "    plt.ylabel('Counts')\n",
    "    #plt.axvline(truth[i])\n",
    "\n",
    "plt.tight_layout()\n",
    "    "
   ]
  },
  {
   "cell_type": "code",
   "execution_count": null,
   "metadata": {},
   "outputs": [],
   "source": [
    "plt.figure(figsize=(15,10))\n",
    "\n",
    "\n",
    "for i in range(ndim):\n",
    "    plt.subplot(4,4,i+1)\n",
    "    \n",
    "    plt.hist(sample[:,i],histtype=\"step\")\n",
    "    \n",
    "    if i%4==0:\n",
    "        plt.xlabel('X')\n",
    "        \n",
    "    elif i%4==1:\n",
    "        plt.xlabel('Y')\n",
    "        \n",
    "    elif i%4==2:\n",
    "        plt.xlabel('R')\n",
    "    else:\n",
    "        plt.xlabel('A')\n",
    "        "
   ]
  },
  {
   "cell_type": "code",
   "execution_count": null,
   "metadata": {},
   "outputs": [],
   "source": [
    "Sources"
   ]
  },
  {
   "cell_type": "code",
   "execution_count": null,
   "metadata": {},
   "outputs": [],
   "source": [
    "import corner "
   ]
  },
  {
   "cell_type": "code",
   "execution_count": null,
   "metadata": {
    "scrolled": false
   },
   "outputs": [],
   "source": [
    "plt.figure(figsize=(15,8))\n",
    "fig = corner.corner(sample,labels=['x$_{0}$','y$_{0}$','a$_{0}$','x$_{1}$','y$_{1}$','a$_{1}$','x$_{1}$','y$_{1}$','a$_{1}$'],show_titles=True,smooth=5,use_math_text=True,max_n_ticks=4,truth_color='blue')\n",
    "#plt.title('Weigthed Posterior')\n",
    "\n",
    "plt.savefig('Posterior-50',bbox_inches='tight')"
   ]
  },
  {
   "cell_type": "code",
   "execution_count": null,
   "metadata": {},
   "outputs": [],
   "source": [
    "plt.figure(figsize=(10,15))\n",
    "ax = plt.gca()\n",
    "ellipses = []\n",
    "plt.xlim([0,npix])\n",
    "plt.ylim([0,npix])\n",
    "X_pos = [32.41,120.55]\n",
    "Y_pos = [18.83,129.38]\n",
    "for ra, dec in zip(X_pos,Y_pos):\n",
    "    ellipse = Ellipse(xy=(ra, dec), width=5, height=5, angle=0)\n",
    "    ellipses.append(ellipse)\n",
    "\n",
    "p = PatchCollection(ellipses)\n",
    "ax.add_collection(p)\n",
    "im = ax.imshow(Data_Source,origin='lower',cmap='afmhot',)\n",
    "divider = make_axes_locatable(ax)\n",
    "cax = divider.append_axes(\"right\", size=\"5%\", pad=0.05)\n",
    "\n",
    "plt.colorbar(im, cax=cax)\n",
    "ax.set_xlabel('X Position')\n",
    "ax.set_ylabel('Y Position')\n",
    "plt.ylabel('Arbitrary Flux')\n",
    "#plt.savefig('Image_Found',bbox_inches='tight')"
   ]
  },
  {
   "cell_type": "code",
   "execution_count": null,
   "metadata": {},
   "outputs": [],
   "source": []
  },
  {
   "cell_type": "code",
   "execution_count": null,
   "metadata": {},
   "outputs": [],
   "source": []
  },
  {
   "cell_type": "code",
   "execution_count": null,
   "metadata": {},
   "outputs": [],
   "source": []
  },
  {
   "cell_type": "markdown",
   "metadata": {},
   "source": [
    "## Updates and changes to the Main nest"
   ]
  },
  {
   "cell_type": "markdown",
   "metadata": {},
   "source": [
    "## Old interval checking code"
   ]
  },
  {
   "cell_type": "code",
   "execution_count": null,
   "metadata": {},
   "outputs": [],
   "source": [
    "add = 0\n",
    "for j in range(len(theta)):\n",
    "    if Flat_interval[j][0] <= new_point[j] <= Flat_interval[j][1]:\n",
    "         add += 1\n",
    "    else:\n",
    "        pass\n",
    "\n",
    "if add == len(theta):\n",
    "    Prior = 1\n",
    "else:\n",
    "    Prior = 0\n",
    "        \n",
    "#Calculate Log_likelihood of new point\n",
    "model = Model_function(params=new_point,noise=Noise)\n",
    "        \n",
    "#Ignore divde by zero runtimewarining\n",
    "np.seterr(divide='ignore')\n",
    "        \n",
    "log_Likelihood_new = Log_Likelihood_hyp(data=Data_source,sigma=Noise,model=model) + np.log(Prior)"
   ]
  },
  {
   "cell_type": "markdown",
   "metadata": {},
   "source": [
    "## New interval checking code"
   ]
  },
  {
   "cell_type": "code",
   "execution_count": null,
   "metadata": {},
   "outputs": [],
   "source": [
    "add = 0\n",
    "for j in range(len(new_point_reshape)):\n",
    "    for i in range(4):\n",
    "        if FLAT_INTER[i][0] <= new_point_reshape[j][i] <= FLAT_INTER[i][1]:\n",
    "            add += 1\n",
    "        else:\n",
    "            pass\n",
    "\n",
    "if add == len(new_point):\n",
    "    Prior = 1\n",
    "else:\n",
    "    Prior = 0\n",
    "\n",
    "if np.log(Prior)==-np.inf:\n",
    "    log_Likelihood_new = 0\n",
    "else:\n",
    "    #Calculate Log_likelihood of new point\n",
    "    model = Model_function(params=new_point,noise=Noise)\n",
    "        \n",
    "    log_Likelihood_new = Log_Likelihood_hyp(data=Data_source,sigma=Noise,model=model) + np.log(Prior)\n"
   ]
  },
  {
   "cell_type": "code",
   "execution_count": null,
   "metadata": {},
   "outputs": [],
   "source": []
  },
  {
   "cell_type": "code",
   "execution_count": null,
   "metadata": {},
   "outputs": [],
   "source": []
  },
  {
   "cell_type": "markdown",
   "metadata": {},
   "source": [
    "# NEW APPROACH"
   ]
  },
  {
   "cell_type": "code",
   "execution_count": 143,
   "metadata": {},
   "outputs": [],
   "source": [
    "import scipy as sp"
   ]
  },
  {
   "cell_type": "code",
   "execution_count": 144,
   "metadata": {},
   "outputs": [],
   "source": [
    "def prior(params):\n",
    "    x,y,a,r = params[0],params[1],params[2],params[3]\n",
    "    \n",
    "    mu_x = 42.8\n",
    "    scale_x = 0.5\n",
    "    \n",
    "    mu_y = 34.8 \n",
    "    scale_y = 0.5\n",
    "    \n",
    "    P_X = sp.stats.norm.pdf(x,mu_x,scale_x)\n",
    "    P_Y = sp.stats.norm.pdf(y,mu_y,scale_y)\n",
    "    P_A = np.exp(-a)\n",
    "    P_r = 1\n",
    "    \n",
    "    return P_X*P_Y*P_A*P_r"
   ]
  },
  {
   "cell_type": "code",
   "execution_count": 145,
   "metadata": {},
   "outputs": [],
   "source": [
    "def Cube_points(u):                                                                               \n",
    "    points_source_list = []                                                                            \n",
    "                                                                                                      \n",
    "    for i in range(num_of_model_sources):                                                             \n",
    "        X = npix*u[i]                                                             \n",
    "        Y = npix*u[i+1]                                                             \n",
    "        R = 4                                                                   \n",
    "        A = u[i+2]*7 + 18                                                          \n",
    "                                                                                                      \n",
    "        points_source_list.extend([X,Y,R,A])      #Took out R_prior                               \n",
    "                                                                                                      \n",
    "    return points_source_list"
   ]
  },
  {
   "cell_type": "code",
   "execution_count": 146,
   "metadata": {},
   "outputs": [],
   "source": [
    "def Log_Likelihood(data=None,sigma=None,model=None):\n",
    "    \n",
    "    '''Return the Log-Likelihood.\n",
    "       \n",
    "    Keyword arguments:\n",
    "    sigma -- noise level\n",
    "    model    -- Model\n",
    "    data     -- The data'''\n",
    "    #Unit test for shape of data amd model\n",
    "    assert data.shape == model.shape\n",
    "    \n",
    "    N = len(data)\n",
    "    \n",
    "    Log_Like =  -0.5*np.sum(((1/sigma**2)*(data-model)**2))\n",
    "    \n",
    "    return Log_Like\n",
    "\n"
   ]
  },
  {
   "cell_type": "code",
   "execution_count": 147,
   "metadata": {},
   "outputs": [],
   "source": [
    "def Model_function(params,noise):\n",
    "    '''Return the model value given X,Y,R, and A paramters'''\n",
    "       \n",
    "    x = np.arange(0, npix, 1, float)\n",
    "    y = x[:,np.newaxis]\n",
    "    n = noise\n",
    "    \n",
    "    def tau(x,y,X,Y,R,A):  #Circularly  Gaussian Shaped function\n",
    "        term1 = ((x-X)**2 + (y-Y)**2)/(2*R**2)\n",
    "        \n",
    "        return A*np.exp(-term1)\n",
    "    \n",
    "    source_template_model = np.zeros((npix,npix))\n",
    "    params_new = np.reshape(params,(int(len(params)/4),4))  # change shape of array to index each source. from\n",
    "                                                          # n-dimension to a k-4 dimennsion array.\n",
    "    for i in range(len(params_new)):\n",
    "        \n",
    "        X,Y,R,A = params_new[i][0],params_new[i][1],params_new[i][2],params_new[i][3]\n",
    "        source_template_model += tau(x,y,X,Y,R,A)\n",
    "    \n",
    "    return source_template_model + n"
   ]
  },
  {
   "cell_type": "code",
   "execution_count": 148,
   "metadata": {},
   "outputs": [],
   "source": [
    "def tau(x,y,X,Y,R,A,Noise):  #Circularly  Gaussian Shaped function\n",
    "    term1 = ((x-X)**2 + (y-Y)**2)/(2*R**2)\n",
    "    \n",
    "    return A*np.exp(-term1) + Noise"
   ]
  },
  {
   "cell_type": "markdown",
   "metadata": {},
   "source": [
    "# Generate an Image"
   ]
  },
  {
   "cell_type": "code",
   "execution_count": 149,
   "metadata": {},
   "outputs": [],
   "source": [
    "x = np.arange(0, 50, 1, float)\n",
    "y = x[:,np.newaxis]"
   ]
  },
  {
   "cell_type": "code",
   "execution_count": 150,
   "metadata": {},
   "outputs": [],
   "source": [
    "X1 = 32.8\n",
    "Y1 = 24.8 \n",
    "R1 = 4\n",
    "A1 = 20"
   ]
  },
  {
   "cell_type": "code",
   "execution_count": 151,
   "metadata": {},
   "outputs": [],
   "source": [
    "Noise = np.random.normal(0,1,(50,50))"
   ]
  },
  {
   "cell_type": "code",
   "execution_count": 152,
   "metadata": {},
   "outputs": [],
   "source": [
    "Source_Image = tau(x,y,X1,Y1,R1,A1,Noise) "
   ]
  },
  {
   "cell_type": "code",
   "execution_count": 153,
   "metadata": {},
   "outputs": [
    {
     "data": {
      "text/plain": [
       "Text(0,0.5,'Arbitrary Flux')"
      ]
     },
     "execution_count": 153,
     "metadata": {},
     "output_type": "execute_result"
    },
    {
     "data": {
      "image/png": "[encoded data removed]",
      "text/plain": [
       "<Figure size 432x288 with 2 Axes>"
      ]
     },
     "metadata": {
      "needs_background": "light"
     },
     "output_type": "display_data"
    }
   ],
   "source": [
    "ax = plt.subplot(111)\n",
    "im = ax.imshow(Source_Image,origin='lower',cmap='afmhot',)\n",
    "divider = make_axes_locatable(ax)\n",
    "cax = divider.append_axes(\"right\", size=\"5%\", pad=0.05)\n",
    "\n",
    "plt.colorbar(im, cax=cax)\n",
    "ax.set_xlabel('X Position')\n",
    "ax.set_ylabel('Y Position')\n",
    "plt.ylabel('Arbitrary Flux')\n"
   ]
  },
  {
   "cell_type": "markdown",
   "metadata": {},
   "source": [
    "# Active Points"
   ]
  },
  {
   "cell_type": "code",
   "execution_count": 176,
   "metadata": {},
   "outputs": [],
   "source": [
    "num_of_active_points = 1000\n",
    "num_of_model_sources = 1\n",
    "ndim = 4\n",
    "#Save objects\n",
    "points = np.zeros((num_of_active_points,ndim))\n",
    "\n",
    "#log_likelihood of live objects\n",
    "log_like_of_live_points = np.zeros((num_of_active_points))\n",
    "\n",
    "\n",
    "#Generate Live objects\n",
    "for i in range(num_of_active_points):\n",
    "    points[i,:] = Cube_points(u=np.random.uniform(0,1.0,size=ndim))\n",
    "    model = Model_function(params=points[i,:],noise=Noise)\n",
    "    log_like_of_live_points[i] = Log_Likelihood(data=Source_Image,sigma=Noise,model=model)\n",
    " \n"
   ]
  },
  {
   "cell_type": "code",
   "execution_count": 177,
   "metadata": {},
   "outputs": [
    {
     "data": {
      "text/plain": [
       "array([39.4955394 , 11.85150433,  4.        , 18.3098173 ])"
      ]
     },
     "execution_count": 177,
     "metadata": {},
     "output_type": "execute_result"
    }
   ],
   "source": [
    "points[0]"
   ]
  },
  {
   "cell_type": "markdown",
   "metadata": {},
   "source": [
    "# Nest Intilialize"
   ]
  },
  {
   "cell_type": "code",
   "execution_count": 178,
   "metadata": {},
   "outputs": [],
   "source": [
    "nest = 2\n",
    "keep = np.zeros((nest,ndim))  #store bad points\n",
    "logl_sample = []     #Store Log-likelihood of samples\n",
    "X_sample = []        #Store prior mass\n",
    "   \n",
    "\n",
    "\n",
    "logWT = []  #Store  weight =width*likelihood\n",
    "\n",
    "\n",
    "logZ = -1e300     # SUM(weights)= Z Evidence\n",
    "H = 0\n",
    "\n",
    "\n",
    "mcmc_steps = 50"
   ]
  },
  {
   "cell_type": "code",
   "execution_count": 179,
   "metadata": {
    "scrolled": false
   },
   "outputs": [
    {
     "data": {
      "application/vnd.jupyter.widget-view+json": {
       "model_id": "9384bc79bc9f4997852c743b4081edd0",
       "version_major": 2,
       "version_minor": 0
      },
      "text/plain": [
       "IntProgress(value=0, bar_style='success', description='Loading:', max=2)"
      ]
     },
     "metadata": {},
     "output_type": "display_data"
    },
    {
     "name": "stdout",
     "output_type": "stream",
     "text": [
      "[16.29620474 13.9506746   4.         18.49312306] [15.71736253 14.44696599  4.         19.12184374]\n",
      "[15.55490228 14.29762837  4.         18.90188202] [15.71736253 14.44696599  4.         19.12184374]\n",
      "[15.3074415  14.36438505  4.         18.97239937] [15.71736253 14.44696599  4.         19.12184374]\n",
      "[15.60011414 14.20641672  4.         18.81228896] [15.71736253 14.44696599  4.         19.12184374]\n",
      "[15.7800112  14.53305969  4.         19.29411691] [15.71736253 14.44696599  4.         19.12184374]\n",
      "[15.62752834 14.30651013  4.         18.89069651] [15.71736253 14.44696599  4.         19.12184374]\n",
      "[15.69981664 14.41165033  4.         19.18256761] [15.71736253 14.44696599  4.         19.12184374]\n",
      "[15.69782688 14.43463003  4.         19.13941543] [15.71736253 14.44696599  4.         19.12184374]\n",
      "[15.60491744 14.36846817  4.         19.10700889] [15.71736253 14.44696599  4.         19.12184374]\n",
      "[15.76239485 14.41564905  4.         19.0574994 ] [15.71736253 14.44696599  4.         19.12184374]\n",
      "[15.78118219 14.47069108  4.         19.14602394] [15.71736253 14.44696599  4.         19.12184374]\n",
      "[15.78609037 14.45999484  4.         19.16712338] [15.71736253 14.44696599  4.         19.12184374]\n",
      "[15.62887768 14.50895828  4.         19.14310114] [15.71736253 14.44696599  4.         19.12184374]\n",
      "[15.73236885 14.47495504  4.         19.09317546] [15.71736253 14.44696599  4.         19.12184374]\n",
      "[15.7262359  14.38771968  4.         19.07180202] [15.71736253 14.44696599  4.         19.12184374]\n",
      "[15.71995932 14.42990023  4.         19.16103907] [15.71736253 14.44696599  4.         19.12184374]\n",
      "[15.70624868 14.43511448  4.         19.07011915] [15.71736253 14.44696599  4.         19.12184374]\n",
      "[15.69756585 14.45662971  4.         19.11058464] [15.71736253 14.44696599  4.         19.12184374]\n",
      "[15.75036393 14.50253736  4.         19.15807235] [15.71736253 14.44696599  4.         19.12184374]\n",
      "[15.75104817 14.40025096  4.         19.06317195] [15.71736253 14.44696599  4.         19.12184374]\n",
      "[15.70631353 14.44998834  4.         19.07984937] [15.71736253 14.44696599  4.         19.12184374]\n",
      "[15.7472989  14.42206174  4.         19.12339579] [15.71736253 14.44696599  4.         19.12184374]\n",
      "[15.69429691 14.43090742  4.         19.09745792] [15.71736253 14.44696599  4.         19.12184374]\n",
      "[15.68289088 14.43750063  4.         19.10704168] [15.71736253 14.44696599  4.         19.12184374]\n",
      "[15.72517021 14.46103027  4.         19.1081582 ] [15.71736253 14.44696599  4.         19.12184374]\n",
      "[15.73693773 14.45072311  4.         19.1016296 ] [15.71736253 14.44696599  4.         19.12184374]\n",
      "[15.71081048 14.49990394  4.         19.1211154 ] [15.71736253 14.44696599  4.         19.12184374]\n",
      "[15.68832947 14.47271008  4.         19.14422859] [15.71736253 14.44696599  4.         19.12184374]\n",
      "[15.73339118 14.46909268  4.         19.13603472] [15.71736253 14.44696599  4.         19.12184374]\n",
      "[15.68656244 14.45709686  4.         19.10061278] [15.71736253 14.44696599  4.         19.12184374]\n",
      "[15.70030099 14.4377603   4.         19.10900681] [15.71736253 14.44696599  4.         19.12184374]\n",
      "[15.73488776 14.46208572  4.         19.10239502] [15.71736253 14.44696599  4.         19.12184374]\n",
      "[15.77203749 14.41329597  4.         19.13595127] [15.71736253 14.44696599  4.         19.12184374]\n",
      "[15.71003863 14.42833197  4.         19.12589107] [15.71736253 14.44696599  4.         19.12184374]\n",
      "[15.70543517 14.43753692  4.         19.11613427] [15.71736253 14.44696599  4.         19.12184374]\n",
      "[15.72610745 14.46143957  4.         19.12872065] [15.71736253 14.44696599  4.         19.12184374]\n",
      "[15.71605935 14.470331    4.         19.09653323] [15.71736253 14.44696599  4.         19.12184374]\n",
      "[15.7031383  14.41396491  4.         19.10357107] [15.71736253 14.44696599  4.         19.12184374]\n",
      "[15.71266834 14.47795009  4.         19.11316599] [15.71736253 14.44696599  4.         19.12184374]\n",
      "[15.73471869 14.46453861  4.         19.12191714] [15.71736253 14.44696599  4.         19.12184374]\n",
      "[15.7280698  14.45172964  4.         19.12731417] [15.71736253 14.44696599  4.         19.12184374]\n",
      "[15.70598273 14.44281884  4.         19.13057348] [15.71736253 14.44696599  4.         19.12184374]\n",
      "[15.70872013 14.44256465  4.         19.11345202] [15.71736253 14.44696599  4.         19.12184374]\n",
      "[15.72744526 14.46446065  4.         19.11195425] [15.71736253 14.44696599  4.         19.12184374]\n",
      "[15.72827467 14.42766542  4.         19.12263371] [15.71736253 14.44696599  4.         19.12184374]\n",
      "[15.72456659 14.46249746  4.         19.13451528] [15.71736253 14.44696599  4.         19.12184374]\n",
      "[15.7404993  14.45754585  4.         19.10766084] [15.71736253 14.44696599  4.         19.12184374]\n",
      "[15.68518795 14.43525726  4.         19.11761442] [15.71736253 14.44696599  4.         19.12184374]\n",
      "[15.69790919 14.46744342  4.         19.11910411] [15.71736253 14.44696599  4.         19.12184374]\n",
      "[15.74609262 14.44155356  4.         19.12238263] [15.71736253 14.44696599  4.         19.12184374]\n",
      "[13.27840667  9.41255828  4.         21.94277212] [13.1445362  11.24088561  4.         24.03689024]\n",
      "[12.85859778 10.78275689  4.         23.97966805] [13.1445362  11.24088561  4.         24.03689024]\n",
      "[13.13311567 11.82579786  4.         24.03299846] [13.1445362  11.24088561  4.         24.03689024]\n",
      "[12.95286842 11.26694915  4.         24.02456519] [13.1445362  11.24088561  4.         24.03689024]\n",
      "[13.22002268 10.85569789  4.         23.97455228] [13.1445362  11.24088561  4.         24.03689024]\n",
      "[13.13491284 11.24986721  4.         24.11711369] [13.1445362  11.24088561  4.         24.03689024]\n",
      "[13.0258533  11.26095154  4.         24.0427429 ] [13.1445362  11.24088561  4.         24.03689024]\n",
      "[13.11159716 11.26405272  4.         24.13897363] [13.1445362  11.24088561  4.         24.03689024]\n",
      "[13.1722111  11.27472595  4.         23.95664995] [13.1445362  11.24088561  4.         24.03689024]\n",
      "[13.19638354 11.2908393   4.         23.90584547] [13.1445362  11.24088561  4.         24.03689024]\n",
      "[13.19042515 11.32778316  4.         24.04959994] [13.1445362  11.24088561  4.         24.03689024]\n",
      "[13.04274654 11.23851251  4.         24.02148767] [13.1445362  11.24088561  4.         24.03689024]\n",
      "[13.13582044 11.29569379  4.         24.03818983] [13.1445362  11.24088561  4.         24.03689024]\n",
      "[13.11236517 11.24372982  4.         24.06554548] [13.1445362  11.24088561  4.         24.03689024]\n",
      "[13.12327322 11.24145092  4.         24.08746465] [13.1445362  11.24088561  4.         24.03689024]\n",
      "[13.18760727 11.25037512  4.         24.05094097] [13.1445362  11.24088561  4.         24.03689024]\n",
      "[13.15390132 11.18629463  4.         24.05594487] [13.1445362  11.24088561  4.         24.03689024]\n",
      "[13.17916417 11.23945146  4.         24.03256549] [13.1445362  11.24088561  4.         24.03689024]\n",
      "[13.12694008 11.30116253  4.         24.06557492] [13.1445362  11.24088561  4.         24.03689024]\n",
      "[13.13443798 11.2609023   4.         24.03291367] [13.1445362  11.24088561  4.         24.03689024]\n",
      "[13.12544288 11.25622383  4.         24.04319637] [13.1445362  11.24088561  4.         24.03689024]\n",
      "[13.17426136 11.23064669  4.         24.00224904] [13.1445362  11.24088561  4.         24.03689024]\n",
      "[13.12463563 11.20252142  4.         24.0548965 ] [13.1445362  11.24088561  4.         24.03689024]\n",
      "[13.1558732  11.22384103  4.         24.03227421] [13.1445362  11.24088561  4.         24.03689024]\n",
      "[13.15816825 11.26960611  4.         24.05947973] [13.1445362  11.24088561  4.         24.03689024]\n",
      "[13.12153637 11.28893891  4.         24.02771578] [13.1445362  11.24088561  4.         24.03689024]\n",
      "[13.12314266 11.23241669  4.         24.04292803] [13.1445362  11.24088561  4.         24.03689024]\n",
      "[13.10788072 11.21194042  4.         24.05495762] [13.1445362  11.24088561  4.         24.03689024]\n",
      "[13.14621008 11.21407318  4.         24.02206342] [13.1445362  11.24088561  4.         24.03689024]\n",
      "[13.16375354 11.22610696  4.         24.03914395] [13.1445362  11.24088561  4.         24.03689024]\n",
      "[13.11093085 11.23785104  4.         24.04947803] [13.1445362  11.24088561  4.         24.03689024]\n",
      "[13.10782357 11.25809663  4.         24.06293327] [13.1445362  11.24088561  4.         24.03689024]\n",
      "[13.13892701 11.27864966  4.         24.04452941] [13.1445362  11.24088561  4.         24.03689024]\n",
      "[13.13425143 11.22039048  4.         24.04893287] [13.1445362  11.24088561  4.         24.03689024]\n",
      "[13.14577733 11.25305866  4.         24.02486359] [13.1445362  11.24088561  4.         24.03689024]\n",
      "[13.15100889 11.26846109  4.         24.0394584 ] [13.1445362  11.24088561  4.         24.03689024]\n",
      "[13.14524089 11.25286995  4.         24.03885203] [13.1445362  11.24088561  4.         24.03689024]\n",
      "[13.15687864 11.25160228  4.         24.03378294] [13.1445362  11.24088561  4.         24.03689024]\n",
      "[13.15728806 11.2193917   4.         24.05146292] [13.1445362  11.24088561  4.         24.03689024]\n",
      "[13.15227    11.25275838  4.         24.0109755 ] [13.1445362  11.24088561  4.         24.03689024]\n",
      "[13.15667581 11.24090578  4.         24.04004682] [13.1445362  11.24088561  4.         24.03689024]\n",
      "[13.14494592 11.22619522  4.         24.05323059] [13.1445362  11.24088561  4.         24.03689024]\n",
      "[13.12689344 11.24216908  4.         24.05129641] [13.1445362  11.24088561  4.         24.03689024]\n",
      "[13.14972818 11.227676    4.         24.0219274 ] [13.1445362  11.24088561  4.         24.03689024]\n",
      "[13.14720455 11.22869001  4.         24.03387968] [13.1445362  11.24088561  4.         24.03689024]\n",
      "[13.12258923 11.24442524  4.         24.01452677] [13.1445362  11.24088561  4.         24.03689024]\n",
      "[13.15430651 11.26101397  4.         24.02439758] [13.1445362  11.24088561  4.         24.03689024]\n",
      "[13.14436473 11.25384622  4.         24.03871806] [13.1445362  11.24088561  4.         24.03689024]\n",
      "[13.12536533 11.26491082  4.         24.04371633] [13.1445362  11.24088561  4.         24.03689024]\n",
      "[13.15594244 11.21737833  4.         24.03697319] [13.1445362  11.24088561  4.         24.03689024]\n",
      "Evidence Z = -11549496464.413105 +-nan : Information H = -6926.628551483154 \n",
      "time: 0.08457446098327637\n"
     ]
    },
    {
     "name": "stderr",
     "output_type": "stream",
     "text": [
      "/home/hope-moloko/anaconda3/lib/python3.7/site-packages/ipykernel_launcher.py:89: RuntimeWarning: divide by zero encountered in log\n",
      "/home/hope-moloko/anaconda3/lib/python3.7/site-packages/ipykernel_launcher.py:91: RuntimeWarning: divide by zero encountered in log\n",
      "/home/hope-moloko/anaconda3/lib/python3.7/site-packages/ipykernel_launcher.py:95: RuntimeWarning: invalid value encountered in double_scalars\n",
      "/home/hope-moloko/anaconda3/lib/python3.7/site-packages/ipykernel_launcher.py:139: RuntimeWarning: invalid value encountered in sqrt\n"
     ]
    }
   ],
   "source": [
    "progressor = IntProgress(\n",
    "    value=0,\n",
    "    min=0,\n",
    "    max=nest,\n",
    "    step=1,\n",
    "    description='Loading:',\n",
    "    bar_style='success',\n",
    "    orientation='horizontal'\n",
    ") # instantiate the bar\n",
    "display(progressor)\n",
    "## MAIN NS LOOP##\n",
    "\n",
    "#Outer interval \n",
    "logw = np.log(1.0 - np.exp(-1.0 / num_of_active_points))\n",
    "\n",
    "start = time.time()\n",
    "for i in range(nest):\n",
    "    # Draw worst object with L* from n points\n",
    "    worst = np.argmin(log_like_of_live_points)\n",
    "    \n",
    "    #Save worst opbject\n",
    "    keep[i,:] = points[worst]\n",
    "    logl_sample.append(log_like_of_live_points[worst])\n",
    "    \n",
    "    #Save prior mass\n",
    "    X_sample.append(logw)\n",
    "    \n",
    "    #Weight\n",
    "    logwt = logw + log_like_of_live_points[worst]\n",
    "    \n",
    "    \n",
    "    #Save weight\n",
    "    logWT.append(logwt)\n",
    "    \n",
    "    #Update Evidence Z\n",
    "    logZnew = log_plus(logZ,logwt)   #np.logaddexp(logZ,logwt)     #CHANGED THIS LINE\n",
    "    \n",
    "    #Update H information\n",
    "    H = np.exp(logwt-logZnew)*log_like_of_live_points[worst] \\\n",
    "    +np.exp(logZ-logZnew)*(H+logZ)-logZnew\n",
    "    \n",
    "    #Update logZ\n",
    "    logZ = logZnew\n",
    "    #Shrink interval\n",
    "    logw -= 1.0/num_of_active_points\n",
    "    \n",
    "\n",
    "    while True:#----copy a random point and do mcmc from there-----\n",
    "        copy = np.random.randint(len(points))\n",
    "        if (copy != worst):break\n",
    "            \n",
    "    points[worst] = Makecopy.deepcopy(points[copy])\n",
    "    log_Likelihood_old =  log_like_of_live_points[copy]\n",
    "    \n",
    "    theta = points[copy]\n",
    "    \n",
    "    #UNIT TEST check for correct shape\n",
    "    assert theta.shape == (ndim,)\n",
    "    \n",
    "   # initialize mcmc params\n",
    "    \n",
    "    scale = 1.0\n",
    "    accept = 0\n",
    "    reject = 0\n",
    "    for mcmci in range(mcmc_steps):  #Evolve within current worst likelihood L>L* , draw new point under constraint\n",
    "    #while True:   \n",
    "        propose_step = np.random.normal(0,scale=scale,size=ndim)\n",
    "        new_point = theta + propose_step\n",
    "        \n",
    "        #Make all Amp == R_constant\n",
    "        new_point_reshape = np.reshape(new_point,(int(len(new_point)/4),4))\n",
    "        new_point_reshape[:,-2] = 4\n",
    "        \n",
    "        new_point = new_point_reshape.ravel()\n",
    "        ##############################################################################\n",
    "        #np.seterr(divide='ignore')\n",
    "\n",
    "        #Calculate Log_likelihood of new point\n",
    "        model = Model_function(params=new_point,noise=Noise)\n",
    "        \n",
    "        #Prior_current and Prior_old\n",
    "        \n",
    "        Prior_current = prior(new_point)\n",
    "        Prior_old     = prior(theta)\n",
    "        \n",
    "        print(new_point,theta)\n",
    "        #Posterior_current and Posterior_old\n",
    "        Log_Like_new = Log_Likelihood(data=Source_Image,sigma=Noise,model=model)\n",
    "        \n",
    "        Posterior_current = Log_Like_new + np.log(Prior_current)\n",
    "        \n",
    "        Posterior_old = log_Likelihood_old + np.log(Prior_old)\n",
    "       \n",
    "    ##################################################################################################\n",
    "        #Acceptance ratio alpha\n",
    "        alpha = np.exp(Posterior_current-Posterior_old)\n",
    "        \n",
    "        \n",
    "        if alpha>=1:\n",
    "            points[worst,:] = new_point  #Replace worst point with new point\n",
    "            log_like_of_live_points[worst] = Log_Like_new   #Replace the worst likelihood with new one  \n",
    "            accept += 1\n",
    "            break\n",
    "            \n",
    "        else:\n",
    "            u = np.random.uniform()\n",
    "            if u <= alpha :\n",
    "                points[worst,:] = new_point \n",
    "                log_like_of_live_points[worst] = Log_Like_new\n",
    "                accept += 1\n",
    "                break\n",
    "                \n",
    "            else:\n",
    "                theta = theta\n",
    "                reject +=1\n",
    "                \n",
    "        #Changing the scale\n",
    "        if accept > reject:\n",
    "            scale *= np.exp(1./accept)\n",
    "        if accept < reject:\n",
    "            scale /= np.exp(1./reject)\n",
    "\n",
    "    \n",
    "    #Acceptance_Ratio = accept/(accept+reject)\n",
    "    #Acceptance[i] =  Acceptance_Ratio\n",
    "    \n",
    "    progressor.value += 1\n",
    "    \n",
    "                \n",
    "    if i > nest*np.exp(H)/np.log(2.):\n",
    "        #print(\"ok\")\n",
    "        \n",
    "        break\n",
    "\n",
    "end = time.time()\n",
    "if progressor.value == progressor.max:\n",
    "    progressor.description = \"Done!\"\n",
    "    \n",
    "Z = logZ\n",
    "Z_err = np.sqrt((H)/num_of_active_points)\n",
    "H =  H #       np.exp(H)/np.log(2.)\n",
    "#print(\"Acceptance Ratio :\",Acceptance_Ratio)\n",
    "print('Evidence Z = {0} +-{1} : Information H = {2} '.format(Z,Z_err,H))\n",
    "print('time:',end-start)"
   ]
  },
  {
   "cell_type": "code",
   "execution_count": null,
   "metadata": {},
   "outputs": [],
   "source": []
  }
 ],
 "metadata": {
  "kernelspec": {
   "display_name": "Python 3",
   "language": "python",
   "name": "python3"
  },
  "language_info": {
   "codemirror_mode": {
    "name": "ipython",
    "version": 3
   },
   "file_extension": ".py",
   "mimetype": "text/x-python",
   "name": "python",
   "nbconvert_exporter": "python",
   "pygments_lexer": "ipython3",
   "version": "3.7.0"
  }
 },
 "nbformat": 4,
 "nbformat_minor": 2
}
