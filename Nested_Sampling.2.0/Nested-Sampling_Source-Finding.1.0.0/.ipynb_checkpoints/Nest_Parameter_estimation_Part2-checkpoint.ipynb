{
 "cells": [
  {
   "cell_type": "code",
   "execution_count": 1,
   "metadata": {},
   "outputs": [],
   "source": [
    "import numpy as np\n",
    "import matplotlib.pyplot as plt\n",
    "import pandas as pd\n",
    "import scipy.stats as stat\n",
    "import corner\n",
    "import copy as COPY\n",
    "\n",
    "%matplotlib nbagg\n",
    "%matplotlib inline\n",
    "np.random.seed(1)\n",
    "plt.style.use('ggplot')"
   ]
  },
  {
   "cell_type": "code",
   "execution_count": 2,
   "metadata": {},
   "outputs": [],
   "source": [
    "def Model_cubic(thetas,x):\n",
    "    a = thetas[0]\n",
    "    b = thetas[1]\n",
    "    c = thetas[2]\n",
    "    d = thetas[3]\n",
    "    y_ii = a*x**3 + b*x**2 + c*x + d\n",
    "    return y_ii\n",
    "\n",
    "def prior_transform(u = None):\n",
    "    a = 15.0*u[0]\n",
    "    b = 15.0*u[1]\n",
    "    c = 15.1*u[2]\n",
    "    d = 15.0*u[3]\n",
    "    return np.array([a,b,c,d])\n",
    "\n",
    "def Likelihood(y=None,sigma=None,mu=None):\n",
    "    term1 = np.log(2*np.pi*(sigma**2))\n",
    "    term2 = ((y-mu)**2)/(2*sigma**2)\n",
    "    return sum((term1-term2))\n",
    "\n",
    "def plus(x,y):\n",
    "    if x>y:\n",
    "        return x+np.log(1+np.exp(y-x))\n",
    "    \n",
    "    else:\n",
    "        return y+np.log(1+np.exp(x-y))"
   ]
  },
  {
   "cell_type": "code",
   "execution_count": 3,
   "metadata": {},
   "outputs": [],
   "source": [
    "Data_cubic = pd.read_csv('example_cubic_data.txt',delimiter=' ',names=['x','y','err'])\n",
    "x_values_cubic = Data_cubic.x\n",
    "y_values_cubic = Data_cubic.y\n",
    "error_cubic = Data_cubic.err"
   ]
  },
  {
   "cell_type": "code",
   "execution_count": 4,
   "metadata": {},
   "outputs": [
    {
     "data": {
      "text/plain": [
       "[<matplotlib.lines.Line2D at 0x7ffa45e4d588>]"
      ]
     },
     "execution_count": 4,
     "metadata": {},
     "output_type": "execute_result"
    },
    {
     "data": {
      "image/png": "[encoded data removed]",
      "text/plain": [
       "<Figure size 720x432 with 1 Axes>"
      ]
     },
     "metadata": {
      "needs_background": "light"
     },
     "output_type": "display_data"
    }
   ],
   "source": [
    "plt.figure(figsize=(10,6))\n",
    "plt.plot(x_values_cubic,y_values_cubic,'o',color='blue')"
   ]
  },
  {
   "cell_type": "code",
   "execution_count": 13,
   "metadata": {},
   "outputs": [],
   "source": [
    "n = 200  # Number of live points\n",
    "ndim = 4\n",
    "objects = np.zeros((n,ndim))\n",
    "live_objects = np.zeros((n))\n",
    "\n",
    "for i in range(n):\n",
    "    objects[i,:] = prior_transform(u =  np.random.uniform(0,0.6,size=ndim))\n",
    "    assert objects[i,:].shape == (4,)\n",
    "    live_objects[i] = Likelihood(y=y_values_cubic,sigma=error_cubic,mu=Model_cubic(objects[i,:],x_values_cubic))"
   ]
  },
  {
   "cell_type": "code",
   "execution_count": null,
   "metadata": {},
   "outputs": [],
   "source": []
  },
  {
   "cell_type": "code",
   "execution_count": 14,
   "metadata": {},
   "outputs": [],
   "source": [
    "nest = 10000\n",
    "keep = np.zeros((nest,ndim))\n",
    "logl_sample = []     #Store Log-likelihood of samples\n",
    "X_sample = []        #Store prior mass\n",
    "   \n",
    "\n",
    "\n",
    "logWT = []  #Store  weight =width*likelihood\n",
    "\n",
    "\n",
    "logZ = -1e300     # SUM(weights)= Z Evidence\n",
    "H = 0\n"
   ]
  },
  {
   "cell_type": "code",
   "execution_count": 15,
   "metadata": {},
   "outputs": [],
   "source": [
    "# Defined intervals for each parameters\n",
    "Flat_interval = [(0,10),(0,11),(0,12),(0,10)]\n",
    "mcmc_steps = 100"
   ]
  },
  {
   "cell_type": "code",
   "execution_count": 16,
   "metadata": {},
   "outputs": [
    {
     "name": "stdout",
     "output_type": "stream",
     "text": [
      "Acceptance Ratio : 0.732323\n",
      "Evidence Z = 514.9472176412696 +-0.2842863850742286 : Information H = 16.16374974771452 \n"
     ]
    }
   ],
   "source": [
    "## MAIN NS LOOP##\n",
    "accept = 0\n",
    "reject = 0\n",
    "#Outer interval \n",
    "logw = np.log(1.0 - np.exp(-1.0 / n))\n",
    "\n",
    "for i in range(nest):\n",
    "    # Draw worst object with L* from n points\n",
    "    worst = np.argmin(live_objects)\n",
    "    \n",
    "    #Save worst opbject\n",
    "    keep[i,:] = objects[worst,:]\n",
    "    logl_sample.append(live_objects[worst])\n",
    "    \n",
    "    #Save prior mass\n",
    "    X_sample.append(logw)\n",
    "    \n",
    "    #Weight\n",
    "    logwt = logw + live_objects[worst]\n",
    "    \n",
    "    \n",
    "    #Save weight\n",
    "    logWT.append(logwt)\n",
    "    \n",
    "    #Update Evidence Z\n",
    "    logZnew = plus(logZ,logwt)  \n",
    "    \n",
    "    #Update H information\n",
    "    H = np.exp(logwt-logZnew)*live_objects[worst] \\\n",
    "    +np.exp(logZ-logZnew)*(H+logZ)-logZnew\n",
    "    \n",
    "    #Update logZ\n",
    "    logZ = logZnew\n",
    "    #Shrink interval\n",
    "    logw -= 1.0/n \n",
    "    \n",
    "\n",
    "    while True:#----copy a random point and do mcmc from there-----\n",
    "        copy = np.random.randint(len(objects))\n",
    "        if (copy != worst):break\n",
    "            \n",
    "    objects[worst,:] = COPY.deepcopy(objects[copy,:])\n",
    "    Likelihood_thresh =  live_objects[copy]\n",
    "\n",
    "    theta = objects[copy,:]\n",
    "    \n",
    "    #UNIT TEST check for correct shape\n",
    "    assert theta.shape == (4,)\n",
    "    \n",
    "    scale = 1.0\n",
    "    for i in range(mcmc_steps):  #Evolve within current worst likelihood L>L* , draw new point under constraint\n",
    "        \n",
    "        propose_step = np.random.uniform(0,scale,size=ndim)\n",
    "        new_point = theta + np.random.uniform(0,scale,size=ndim)\n",
    "        \n",
    "        \n",
    "        add = 0\n",
    "        for j in range(len(theta)):\n",
    "                if Flat_interval[j][0] <= new_point[j] <= Flat_interval[j][1]:\n",
    "                    add += 1\n",
    "                else:\n",
    "                    pass\n",
    "\n",
    "        if add == len(theta):\n",
    "            Prior = 1\n",
    "        else:\n",
    "            Prior = 0\n",
    "        \n",
    "        Likelihood_new = Likelihood(y=y_values_cubic,sigma=error_cubic,mu=Model_cubic(new_point,x_values_cubic))*Prior\n",
    "    \n",
    "        #Acceptance ratio alpha\n",
    "        alpha = Likelihood_new/Likelihood_thresh\n",
    "        \n",
    "        \n",
    "        if alpha>=1:\n",
    "            objects[worst,:] = new_point  #Replace worst point with new point\n",
    "            live_objects[worst] = Likelihood_new   #Replace the worst likelihood with new one  \n",
    "            accept += 1\n",
    "            \n",
    "        else:\n",
    "            u = np.random.uniform()\n",
    "            if u <= alpha :\n",
    "                objects[worst,:] = new_point \n",
    "                live_objects[worst] = Likelihood_new\n",
    "                accept += 1\n",
    "                \n",
    "            else:\n",
    "                u = u\n",
    "                reject +=1\n",
    "                \n",
    "        #Changing the scale\n",
    "        if accept > reject:\n",
    "            scale *= np.exp(1./accept)\n",
    "        if accept < reject:\n",
    "            scale /= np.exp(1./reject)\n",
    "\n",
    "    \n",
    "    \n",
    "                \n",
    "    if i >nest*np.exp(H)/np.log(2.):\n",
    "        break\n",
    "        \n",
    "\n",
    "Z = logZ\n",
    "Z_err = np.sqrt((H)/n)\n",
    "H = H        #np.exp(H)/np.log(2.)\n",
    "Acceptance_Ratio = accept/(accept+reject)\n",
    "print(\"Acceptance Ratio :\",Acceptance_Ratio)\n",
    "print('Evidence Z = {0} +-{1} : Information H = {2} '.format(Z,Z_err,H))"
   ]
  },
  {
   "cell_type": "code",
   "execution_count": null,
   "metadata": {},
   "outputs": [],
   "source": []
  },
  {
   "cell_type": "code",
   "execution_count": 17,
   "metadata": {},
   "outputs": [
    {
     "name": "stdout",
     "output_type": "stream",
     "text": [
      "Effective Sample Size : 256\n"
     ]
    }
   ],
   "source": [
    "#Normalized samples\n",
    "wt = np.exp((logWT)-max(logWT))\n",
    "Weights = wt/sum(wt)\n",
    "\n",
    "#Effective sample size\n",
    "effective_sample_size = int(np.exp(-np.sum(Weights*np.log(Weights+1e-300))))\n",
    "S = 0\n",
    "sample = np.zeros((effective_sample_size,ndim))\n",
    "\n",
    "# Selecting the Effective sample\n",
    "while True:\n",
    "    rnd_point = np.random.randint(len(keep))\n",
    "    #proba = prob_weighted[rnd_point]/max(prob_weighted)\n",
    "    proba = Weights[rnd_point]/max(Weights)\n",
    "    \n",
    "    if np.random.rand() < proba:\n",
    "        sample[S,:] = keep[rnd_point,:]\n",
    "        S += 1\n",
    "    if S >= effective_sample_size:\n",
    "        break\n",
    "print('Effective Sample Size : {}'.format(effective_sample_size))"
   ]
  },
  {
   "cell_type": "code",
   "execution_count": 18,
   "metadata": {},
   "outputs": [
    {
     "data": {
      "image/png": "[encoded data removed]",
      "text/plain": [
       "<Figure size 1080x720 with 4 Axes>"
      ]
     },
     "metadata": {
      "needs_background": "light"
     },
     "output_type": "display_data"
    }
   ],
   "source": [
    "plt.figure(figsize=(15,10))\n",
    "\n",
    "labels = ['a','b','c','d']\n",
    "for i in range(4):\n",
    "    plt.subplot(2,2,i+1)\n",
    "    plt.hist(sample[:,i],bins=4)\n",
    "    plt.ylabel(labels[i])\n",
    "    "
   ]
  },
  {
   "cell_type": "code",
   "execution_count": 20,
   "metadata": {},
   "outputs": [],
   "source": [
    "a,b,c,d = np.mean(sample[:,0]),np.mean(sample[:,1]),np.mean(sample[:,2]),np.mean(sample[:,2])"
   ]
  },
  {
   "cell_type": "code",
   "execution_count": null,
   "metadata": {},
   "outputs": [],
   "source": []
  },
  {
   "cell_type": "code",
   "execution_count": null,
   "metadata": {},
   "outputs": [],
   "source": []
  },
  {
   "cell_type": "code",
   "execution_count": 22,
   "metadata": {},
   "outputs": [],
   "source": [
    "y_model = a*x_values_cubic**3 + b*x_values_cubic**2 + c*x_values_cubic + d"
   ]
  },
  {
   "cell_type": "code",
   "execution_count": 23,
   "metadata": {
    "scrolled": false
   },
   "outputs": [
    {
     "data": {
      "text/plain": [
       "[<matplotlib.lines.Line2D at 0x7ffa415d21d0>]"
      ]
     },
     "execution_count": 23,
     "metadata": {},
     "output_type": "execute_result"
    },
    {
     "data": {
      "image/png": "[encoded data removed]",
      "text/plain": [
       "<Figure size 720x432 with 1 Axes>"
      ]
     },
     "metadata": {
      "needs_background": "light"
     },
     "output_type": "display_data"
    }
   ],
   "source": [
    "plt.figure(figsize=(10,6))\n",
    "plt.plot(x_values_cubic,y_values_cubic,'o',color='blue')\n",
    "plt.plot(x_values_cubic,y_model)"
   ]
  },
  {
   "cell_type": "code",
   "execution_count": null,
   "metadata": {},
   "outputs": [],
   "source": []
  }
 ],
 "metadata": {
  "kernelspec": {
   "display_name": "Python 3",
   "language": "python",
   "name": "python3"
  },
  "language_info": {
   "codemirror_mode": {
    "name": "ipython",
    "version": 3
   },
   "file_extension": ".py",
   "mimetype": "text/x-python",
   "name": "python",
   "nbconvert_exporter": "python",
   "pygments_lexer": "ipython3",
   "version": "3.7.0"
  }
 },
 "nbformat": 4,
 "nbformat_minor": 2
}
