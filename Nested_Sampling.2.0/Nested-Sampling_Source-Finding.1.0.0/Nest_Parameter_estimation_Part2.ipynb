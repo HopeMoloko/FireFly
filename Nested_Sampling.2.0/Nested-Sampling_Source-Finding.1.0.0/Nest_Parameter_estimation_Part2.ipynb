{
 "cells": [
  {
   "cell_type": "code",
   "execution_count": 1,
   "metadata": {},
   "outputs": [],
   "source": [
    "import numpy as np\n",
    "import matplotlib.pyplot as plt\n",
    "import pandas as pd\n",
    "import scipy.stats as stat\n",
    "import corner\n",
    "import copy as COPY\n",
    "\n",
    "%matplotlib nbagg\n",
    "%matplotlib inline\n",
    "np.random.seed(1)\n",
    "plt.style.use('ggplot')\n",
    "import numba as num"
   ]
  },
  {
   "cell_type": "code",
   "execution_count": 22,
   "metadata": {},
   "outputs": [],
   "source": [
    "def Model_cubic(thetas,x):\n",
    "    a = thetas[0]\n",
    "    b = thetas[1]\n",
    "    c = thetas[2]\n",
    "    d = thetas[3]\n",
    "    y_ii = a*x**3 + b*x**2 + c*x + d\n",
    "    return y_ii\n",
    "\n",
    "def prior_transform(u = None):\n",
    "    a = 15.0*u[0]\n",
    "    b = 15.0*u[1]\n",
    "    c = 15.1*u[2]\n",
    "    d = 15.0*u[3]\n",
    "    return np.array([a,b,c,d])\n",
    "\n",
    "def Likelihood(y=None,sigma=None,mu=None):\n",
    "    term1 = -1*np.log(2*np.pi*(sigma**2))\n",
    "    term2 = ((y-mu)**2)/(2*sigma**2)\n",
    "    return sum((term1-term2))\n",
    "\n",
    "def plus(x,y):\n",
    "    if x>y:\n",
    "        return x+np.log(1+np.exp(y-x))\n",
    "    \n",
    "    else:\n",
    "        return y+np.log(1+np.exp(x-y))"
   ]
  },
  {
   "cell_type": "code",
   "execution_count": 23,
   "metadata": {},
   "outputs": [],
   "source": [
    "Data_cubic = pd.read_csv('example_cubic_data.txt',delimiter=' ',names=['x','y','err'])\n",
    "x_values_cubic = Data_cubic.x\n",
    "y_values_cubic = Data_cubic.y\n",
    "error_cubic = Data_cubic.err"
   ]
  },
  {
   "cell_type": "code",
   "execution_count": 24,
   "metadata": {},
   "outputs": [
    {
     "data": {
      "text/plain": [
       "[<matplotlib.lines.Line2D at 0x7f9eb7274908>]"
      ]
     },
     "execution_count": 24,
     "metadata": {},
     "output_type": "execute_result"
    },
    {
     "data": {
      "image/png": "[encoded data removed]",
      "text/plain": [
       "<Figure size 720x432 with 1 Axes>"
      ]
     },
     "metadata": {
      "needs_background": "light"
     },
     "output_type": "display_data"
    }
   ],
   "source": [
    "plt.figure(figsize=(10,6))\n",
    "plt.plot(x_values_cubic,y_values_cubic,'o',color='blue')"
   ]
  },
  {
   "cell_type": "code",
   "execution_count": 25,
   "metadata": {},
   "outputs": [],
   "source": [
    "n = 200  # Number of live points\n",
    "ndim = 4\n",
    "objects = np.zeros((n,ndim))\n",
    "live_objects = np.zeros((n))\n",
    "\n",
    "for i in range(n):\n",
    "    objects[i,:] = prior_transform(u =  np.random.uniform(0,0.6,size=ndim))\n",
    "    assert objects[i,:].shape == (4,)\n",
    "    live_objects[i] = Likelihood(y=y_values_cubic,sigma=error_cubic,mu=Model_cubic(objects[i,:],x_values_cubic))"
   ]
  },
  {
   "cell_type": "code",
   "execution_count": 26,
   "metadata": {},
   "outputs": [
    {
     "data": {
      "text/plain": [
       "array([-1052.30407796, -1587.99958197,  -990.26823679, -1003.01559055,\n",
       "       -1264.60383644, -1139.9110048 , -2020.26188303, -1386.89014174,\n",
       "        -850.91359512,  -896.69864579, -1223.09765844, -1066.11453548,\n",
       "       -1183.09636543, -1190.66297519, -1731.98594245,  -801.08827966,\n",
       "       -1293.26763508, -1123.88722315, -1379.31643802, -1505.87595951,\n",
       "       -1276.4220812 ,  -850.02914131, -1244.983314  ,  -849.26710781,\n",
       "       -1074.33621478, -1590.03839831, -1139.73211823, -1198.4663192 ,\n",
       "        -885.26441058, -1189.80371139, -1210.79858323, -1352.4679097 ,\n",
       "       -1917.18527299,  -868.38927298,  -913.18031691, -1293.75541336,\n",
       "       -1613.21488499, -1746.23920057, -1507.57092772,  -996.40611684,\n",
       "       -1148.47533282,  -801.11670917, -1164.16126617, -1142.81175621,\n",
       "       -1176.15301079,  -978.54217646,  -813.72250214,  -854.05723192,\n",
       "       -1657.14503461, -1140.66960381, -1234.99105604,  -891.99197698,\n",
       "       -1519.82902852, -1939.62940936, -1109.93622987, -1214.94275674,\n",
       "        -954.274742  ,  -865.18418843, -1002.61059148, -1458.79212814,\n",
       "       -1272.95947178, -1525.94332664,  -918.40264388, -1499.85008733,\n",
       "       -1029.99587653,  -963.14829984,  -917.48711587, -1792.16475658,\n",
       "       -1609.76837089, -1175.80662567, -1453.68009965,  -795.0620572 ,\n",
       "        -979.35066499,  -841.81170194,  -947.48501458,  -991.77246463,\n",
       "       -1821.69149197,  -940.34135947,  -924.72333814, -1453.27631398,\n",
       "       -1066.87399709, -1372.40831599, -1620.51874435, -1046.9828663 ,\n",
       "       -1291.52991003, -1186.1809487 , -1270.28988276,  -963.95334801,\n",
       "       -1243.16627404,  -858.13414306,  -975.68548801, -1070.35431036,\n",
       "       -1537.18996143, -1394.77823626, -1655.08469383, -1381.12080755,\n",
       "       -1031.156782  ,  -864.0037316 , -1378.28963533, -1214.55915925,\n",
       "       -1003.15469775, -1303.22883213, -1062.56639907,  -929.5981713 ,\n",
       "        -915.57917082, -1067.8298877 , -1577.7440411 ,  -867.93709868,\n",
       "       -1113.23838927,  -833.80312786,  -784.11305571,  -972.20784752,\n",
       "       -1149.55452   ,  -833.12505692,  -777.60848848,  -818.75195648,\n",
       "        -825.59946112, -1297.1115917 ,  -998.29906005, -1028.06652746,\n",
       "       -1018.60489793,  -985.51027616, -1178.68253434, -1517.11566995,\n",
       "        -914.41319106,  -875.0259395 , -1067.60717683,  -885.46672525,\n",
       "        -842.40553411, -1035.12191229,  -798.94281263,  -812.82431687,\n",
       "       -1796.95034003, -1673.55110836, -1134.26491887, -1673.00474305,\n",
       "       -1153.55579839,  -882.90642928,  -884.98466269,  -956.54710853,\n",
       "       -1144.30224627,  -948.70171838, -1594.98562776, -1221.55538294,\n",
       "       -1590.29465799, -1257.77544927,  -992.52810352,  -962.18210508,\n",
       "       -1243.15575053, -1721.32639608, -1283.4209791 ,  -820.17649993,\n",
       "        -993.85300881, -1179.97915573, -1527.23491235,  -983.19977607,\n",
       "       -1277.16644141, -2170.94944969, -1497.53432691, -1035.8417469 ,\n",
       "       -1570.67087998,  -982.42368694, -1388.37074925,  -869.72179569,\n",
       "        -878.80606901, -2125.69389318, -1404.15858341, -1043.04231893,\n",
       "       -1007.78579634, -1632.92161006, -1381.91715478,  -988.59980527,\n",
       "       -1414.99307222, -1074.29138537, -1978.88713132, -1466.07438273,\n",
       "       -1188.54704858, -1086.18358955,  -941.84646917, -1303.10408024,\n",
       "       -1039.78975132, -1190.48410948, -1024.31975264, -1099.79709755,\n",
       "        -826.92099379,  -886.91315054, -1817.87971803, -1690.28310341,\n",
       "       -1087.4714505 , -1485.98786818, -1306.44058856, -1464.07331916,\n",
       "       -1259.06888362,  -934.29760304,  -937.3258805 ,  -930.21053693,\n",
       "        -978.09541754, -1560.2166567 , -1300.85984078, -1115.52984841])"
      ]
     },
     "execution_count": 26,
     "metadata": {},
     "output_type": "execute_result"
    }
   ],
   "source": [
    "live_objects"
   ]
  },
  {
   "cell_type": "code",
   "execution_count": 62,
   "metadata": {},
   "outputs": [],
   "source": [
    "nest = 1000\n",
    "keep = np.zeros((nest,ndim))\n",
    "logl_sample = []     #Store Log-likelihood of samples\n",
    "X_sample = []        #Store prior mass\n",
    "   \n",
    "\n",
    "\n",
    "logWT = []  #Store  weight =width*likelihood\n",
    "\n",
    "\n",
    "logZ = -1e300     # SUM(weights)= Z Evidence\n",
    "H = 0\n"
   ]
  },
  {
   "cell_type": "code",
   "execution_count": 63,
   "metadata": {},
   "outputs": [],
   "source": [
    "# Defined intervals for each parameters\n",
    "Flat_interval = [(0,10),(0,11),(0,12),(0,10)]\n",
    "mcmc_steps = 100"
   ]
  },
  {
   "cell_type": "code",
   "execution_count": 64,
   "metadata": {},
   "outputs": [
    {
     "name": "stderr",
     "output_type": "stream",
     "text": [
      "/home/hope-moloko/anaconda3/lib/python3.7/site-packages/ipykernel_launcher.py:68: RuntimeWarning: divide by zero encountered in log\n"
     ]
    },
    {
     "name": "stdout",
     "output_type": "stream",
     "text": [
      "Acceptance Ratio : 0.19377\n",
      "Evidence Z = 484.32995798999013 +-0.18627898948036067 : Information H = 6.939972384364864 \n"
     ]
    }
   ],
   "source": [
    "## MAIN NS LOOP##\n",
    "accept = 0\n",
    "reject = 0\n",
    "#Outer interval \n",
    "logw = np.log(1.0 - np.exp(-1.0 / n))\n",
    "\n",
    "for i in range(nest):\n",
    "    # Draw worst object with L* from n points\n",
    "    worst = np.argmin(live_objects)\n",
    "    \n",
    "    #Save worst opbject\n",
    "    keep[i,:] = objects[worst,:]\n",
    "    logl_sample.append(live_objects[worst])\n",
    "    \n",
    "    #Save prior mass\n",
    "    X_sample.append(logw)\n",
    "    \n",
    "    #Weight\n",
    "    logwt = logw + live_objects[worst]\n",
    "    \n",
    "    \n",
    "    #Save weight\n",
    "    logWT.append(logwt)\n",
    "    \n",
    "    #Update Evidence Z\n",
    "    logZnew = plus(logZ,logwt)  \n",
    "    \n",
    "    #Update H information\n",
    "    H = np.exp(logwt-logZnew)*live_objects[worst] \\\n",
    "    +np.exp(logZ-logZnew)*(H+logZ)-logZnew\n",
    "    \n",
    "    #Update logZ\n",
    "    logZ = logZnew\n",
    "    #Shrink interval\n",
    "    logw -= 1.0/n \n",
    "    \n",
    "\n",
    "    while True:#----copy a random point and do mcmc from there-----\n",
    "        copy = np.random.randint(len(objects))\n",
    "        if (copy != worst):break\n",
    "            \n",
    "    objects[worst,:] = COPY.deepcopy(objects[copy,:])\n",
    "    Likelihood_thresh =  live_objects[copy]\n",
    "\n",
    "    theta = objects[copy,:]\n",
    "    \n",
    "    #UNIT TEST check for correct shape\n",
    "    assert theta.shape == (4,)\n",
    "    \n",
    "    scale = 1.0\n",
    "    for i in range(mcmc_steps):  #Evolve within current worst likelihood L>L* , draw new point under constraint\n",
    "        \n",
    "        propose_step = np.random.uniform(0,scale,size=ndim)\n",
    "        new_point = theta + np.random.uniform(0,scale,size=ndim)\n",
    "        \n",
    "        \n",
    "        add = 0\n",
    "        for j in range(len(theta)):\n",
    "                if Flat_interval[j][0] <= new_point[j] <= Flat_interval[j][1]:\n",
    "                    add += 1\n",
    "                else:\n",
    "                    pass\n",
    "\n",
    "        if add == len(theta):\n",
    "            Prior = 1\n",
    "        else:\n",
    "            Prior = 0\n",
    "        \n",
    "        Likelihood_new = Likelihood(y=y_values_cubic,sigma=error_cubic,mu=Model_cubic(new_point,x_values_cubic))+np.log(Prior)\n",
    "    \n",
    "        #Acceptance ratio alpha\n",
    "        logalpha = Likelihood_new-Likelihood_thresh\n",
    "        alpha = np.exp(logalpha)\n",
    "        \n",
    "        if alpha>=1:\n",
    "            objects[worst,:] = new_point  #Replace worst point with new point\n",
    "            live_objects[worst] = Likelihood_new   #Replace the worst likelihood with new one  \n",
    "            accept += 1\n",
    "            \n",
    "        else:\n",
    "            u = np.random.uniform()\n",
    "            if u <= alpha :\n",
    "                objects[worst,:] = new_point \n",
    "                live_objects[worst] = Likelihood_new\n",
    "                accept += 1\n",
    "                \n",
    "            else:\n",
    "                u = u\n",
    "                reject +=1\n",
    "                \n",
    "        #Changing the scale\n",
    "        if accept > reject:\n",
    "            scale *= np.exp(1./accept)\n",
    "        if accept < reject:\n",
    "            scale /= np.exp(1./reject)\n",
    "\n",
    "    \n",
    "    \n",
    "                \n",
    "    if i >nest*np.exp(H)/np.log(2.):\n",
    "        break\n",
    "        \n",
    "\n",
    "Z = logZ\n",
    "Z_err = np.sqrt((H)/n)\n",
    "H = H        #np.exp(H)/np.log(2.)\n",
    "Acceptance_Ratio = accept/(accept+reject)\n",
    "print(\"Acceptance Ratio :\",Acceptance_Ratio)\n",
    "print('Evidence Z = {0} +-{1} : Information H = {2} '.format(Z,Z_err,H))"
   ]
  },
  {
   "cell_type": "code",
   "execution_count": null,
   "metadata": {},
   "outputs": [],
   "source": []
  },
  {
   "cell_type": "code",
   "execution_count": 65,
   "metadata": {},
   "outputs": [
    {
     "name": "stdout",
     "output_type": "stream",
     "text": [
      "Effective Sample Size : 27\n"
     ]
    }
   ],
   "source": [
    "#Normalized samples\n",
    "wt = np.exp((logWT)-max(logWT))\n",
    "Weights = wt/sum(wt)\n",
    "\n",
    "#Effective sample size\n",
    "effective_sample_size = int(np.exp(-np.sum(Weights*np.log(Weights+1e-300))))\n",
    "S = 0\n",
    "sample = np.zeros((effective_sample_size,ndim))\n",
    "\n",
    "# Selecting the Effective sample\n",
    "while True:\n",
    "    rnd_point = np.random.randint(len(keep))\n",
    "    #proba = prob_weighted[rnd_point]/max(prob_weighted)\n",
    "    proba = Weights[rnd_point]/max(Weights)\n",
    "    \n",
    "    if np.random.rand() < proba:\n",
    "        sample[S,:] = keep[rnd_point,:]\n",
    "        S += 1\n",
    "    if S >= effective_sample_size:\n",
    "        break\n",
    "print('Effective Sample Size : {}'.format(effective_sample_size))"
   ]
  },
  {
   "cell_type": "code",
   "execution_count": 66,
   "metadata": {},
   "outputs": [
    {
     "data": {
      "image/png": "[encoded data removed]",
      "text/plain": [
       "<Figure size 1080x720 with 4 Axes>"
      ]
     },
     "metadata": {},
     "output_type": "display_data"
    }
   ],
   "source": [
    "plt.figure(figsize=(15,10))\n",
    "\n",
    "labels = ['a','b','c','d']\n",
    "for i in range(4):\n",
    "    plt.subplot(2,2,i+1)\n",
    "    plt.hist(sample[:,i],bins=8)\n",
    "    plt.ylabel(labels[i])\n",
    "    "
   ]
  },
  {
   "cell_type": "code",
   "execution_count": 67,
   "metadata": {},
   "outputs": [],
   "source": [
    "a,b,c,d = np.mean(sample[:,0]),np.mean(sample[:,1]),np.mean(sample[:,2]),np.mean(sample[:,2])"
   ]
  },
  {
   "cell_type": "code",
   "execution_count": 68,
   "metadata": {},
   "outputs": [
    {
     "data": {
      "text/plain": [
       "(6.577970281748936, 6.836498924808203, 3.386587892712357, 3.386587892712357)"
      ]
     },
     "execution_count": 68,
     "metadata": {},
     "output_type": "execute_result"
    }
   ],
   "source": [
    "a,b,c,d"
   ]
  },
  {
   "cell_type": "code",
   "execution_count": null,
   "metadata": {},
   "outputs": [],
   "source": []
  },
  {
   "cell_type": "code",
   "execution_count": 69,
   "metadata": {},
   "outputs": [],
   "source": [
    "y_model = a*x_values_cubic**3 + b*x_values_cubic**2 + c*x_values_cubic + d"
   ]
  },
  {
   "cell_type": "code",
   "execution_count": 70,
   "metadata": {
    "scrolled": false
   },
   "outputs": [
    {
     "data": {
      "text/plain": [
       "[<matplotlib.lines.Line2D at 0x7ffa3cac8470>]"
      ]
     },
     "execution_count": 70,
     "metadata": {},
     "output_type": "execute_result"
    },
    {
     "data": {
      "image/png": "[encoded data removed]",
      "text/plain": [
       "<Figure size 720x432 with 1 Axes>"
      ]
     },
     "metadata": {},
     "output_type": "display_data"
    }
   ],
   "source": [
    "plt.figure(figsize=(10,6))\n",
    "plt.plot(x_values_cubic,y_values_cubic,'o',color='blue')\n",
    "plt.plot(x_values_cubic,y_model)"
   ]
  },
  {
   "cell_type": "code",
   "execution_count": null,
   "metadata": {},
   "outputs": [],
   "source": []
  }
 ],
 "metadata": {
  "kernelspec": {
   "display_name": "Python 3",
   "language": "python",
   "name": "python3"
  },
  "language_info": {
   "codemirror_mode": {
    "name": "ipython",
    "version": 3
   },
   "file_extension": ".py",
   "mimetype": "text/x-python",
   "name": "python",
   "nbconvert_exporter": "python",
   "pygments_lexer": "ipython3",
   "version": "3.7.0"
  }
 },
 "nbformat": 4,
 "nbformat_minor": 2
}
