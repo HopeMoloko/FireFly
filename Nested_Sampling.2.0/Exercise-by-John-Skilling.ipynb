{
 "cells": [
  {
   "cell_type": "code",
   "execution_count": 111,
   "metadata": {},
   "outputs": [],
   "source": [
    "import numpy as np\n",
    "import matplotlib.pylab as plt"
   ]
  },
  {
   "cell_type": "code",
   "execution_count": 112,
   "metadata": {},
   "outputs": [],
   "source": [
    "def Prob(number):  #Return Pobability of each numberber\n",
    "    if number == 1:\n",
    "        return .1\n",
    "    if number == 2:\n",
    "        return .2\n",
    "    if number == 3:\n",
    "        return .3\n",
    "    if number == 4:\n",
    "        return .4\n",
    "    else:\n",
    "        return 0.0\n",
    "    "
   ]
  },
  {
   "cell_type": "code",
   "execution_count": 183,
   "metadata": {},
   "outputs": [],
   "source": [
    "number = 1\n",
    "N1,N2,N3,N4 = [],[],[],[]\n",
    "\n",
    "for i in range(1000):\n",
    "    \n",
    "    number_new = number + [-1,1][np.random.randint(0,2)]\n",
    "    \n",
    "    u = np.random.uniform()\n",
    "    \n",
    "    if number_new == 1:\n",
    "            #N1 += 1\n",
    "        N1.append(number_new)\n",
    "    if number_new == 2:\n",
    "            #N2 += 1\n",
    "        N2.append(number_new)\n",
    "    if number_new == 3:\n",
    "            #N3 += 1\n",
    "        N3.append(number_new)\n",
    "    if number_new == 4:\n",
    "            #N4 += 1\n",
    "        N4.append(number_new)\n",
    "            \n",
    "    if number_new >4:\n",
    "        N4.append(number_new)\n",
    "    if number < 1:\n",
    "        N1.append(number_new)\n",
    "\n",
    "\n",
    "    if Prob(number_new)/Prob(number)> u:  # Accept \n",
    "\n",
    "        number = number_new\n",
    "        if number_new == 1:\n",
    "            #N1 += 1\n",
    "            N1.append(number_new)\n",
    "        if number_new == 2:\n",
    "            #N2 += 1\n",
    "            N2.append(number_new)\n",
    "        if number_new == 3:\n",
    "            #N3 += 1\n",
    "            N3.append(number_new)\n",
    "        if number_new == 4:\n",
    "            #N4 += 1\n",
    "            N4.append(number_new)\n",
    "        else:\n",
    "            pass\n",
    "        \n",
    "    else:                           #Reject\n",
    "        number = number\n",
    "        \n",
    "        #print(number_new)\n",
    "    Results = np.array([N1,N2,N3,N4])"
   ]
  },
  {
   "cell_type": "code",
   "execution_count": 185,
   "metadata": {},
   "outputs": [
    {
     "data": {
      "text/plain": [
       "Text(0,0.5,'Counts')"
      ]
     },
     "execution_count": 185,
     "metadata": {},
     "output_type": "execute_result"
    },
    {
     "data": {
      "image/png": "[encoded data removed]",
      "text/plain": [
       "<Figure size 432x288 with 1 Axes>"
      ]
     },
     "metadata": {
      "needs_background": "light"
     },
     "output_type": "display_data"
    }
   ],
   "source": [
    "plt.hist(Results,bins=1);\n",
    "plt.xlabel('Numbers')\n",
    "plt.ylabel('Counts')"
   ]
  },
  {
   "cell_type": "code",
   "execution_count": 173,
   "metadata": {},
   "outputs": [
    {
     "data": {
      "text/plain": [
       "50"
      ]
     },
     "execution_count": 173,
     "metadata": {},
     "output_type": "execute_result"
    }
   ],
   "source": [
    "len(Results[0])"
   ]
  },
  {
   "cell_type": "code",
   "execution_count": 174,
   "metadata": {},
   "outputs": [
    {
     "data": {
      "text/plain": [
       "100.0"
      ]
     },
     "execution_count": 174,
     "metadata": {},
     "output_type": "execute_result"
    }
   ],
   "source": [
    "0.1*1000"
   ]
  },
  {
   "cell_type": "code",
   "execution_count": null,
   "metadata": {},
   "outputs": [],
   "source": []
  }
 ],
 "metadata": {
  "kernelspec": {
   "display_name": "Python 3",
   "language": "python",
   "name": "python3"
  },
  "language_info": {
   "codemirror_mode": {
    "name": "ipython",
    "version": 3
   },
   "file_extension": ".py",
   "mimetype": "text/x-python",
   "name": "python",
   "nbconvert_exporter": "python",
   "pygments_lexer": "ipython3",
   "version": "3.7.0"
  }
 },
 "nbformat": 4,
 "nbformat_minor": 2
}
