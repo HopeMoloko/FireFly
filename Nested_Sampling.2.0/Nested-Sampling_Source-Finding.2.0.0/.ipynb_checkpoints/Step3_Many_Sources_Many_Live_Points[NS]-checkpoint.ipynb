{
 "cells": [
  {
   "cell_type": "code",
   "execution_count": 1,
   "metadata": {},
   "outputs": [],
   "source": [
    "########################Import Modules##########################################\n",
    "import numpy as np\n",
    "import matplotlib.pyplot as plt\n",
    "import pandas as pd\n",
    "import scipy.stats as stats\n",
    "import corner\n",
    "import copy as duplicate\n",
    "import time\n",
    "from matplotlib import colors\n",
    "import scipy as sp\n",
    "\n",
    "from ipywidgets import IntProgress\n",
    "from IPython.display import display\n",
    "\n",
    "from mpl_toolkits.axes_grid1 import make_axes_locatable\n",
    "\n",
    "from matplotlib.patches import Ellipse\n",
    "from matplotlib.collections import PatchCollection\n",
    "\n",
    "#####################################"
   ]
  },
  {
   "cell_type": "markdown",
   "metadata": {},
   "source": [
    "# Generate Many sources"
   ]
  },
  {
   "cell_type": "code",
   "execution_count": 2,
   "metadata": {},
   "outputs": [],
   "source": [
    "def Template_Equation(theta,params):\n",
    "    \"\"\" Returns Gaussian shaped Function\n",
    "    \n",
    "    theta : list,array\n",
    "            List of parameters X , Y and A.\n",
    "    params: list,array\n",
    "            x,y - row by coloumn pix\n",
    "    output: matrix\n",
    "            pix by pix model\"\"\"\n",
    "    x,y = params\n",
    "    X,Y,A = theta\n",
    "    R = 3\n",
    "    template = A*np.exp(-(((x-X)**2 + (y-Y)**2)/(2*R**2)))\n",
    "    return template"
   ]
  },
  {
   "cell_type": "code",
   "execution_count": 31,
   "metadata": {},
   "outputs": [],
   "source": [
    "def adds_Multiple_Sources(model,model_params,theta,num_of_sources,npix,noise=0):\n",
    "    \"\"\"This function returns an addition of the *models*\n",
    "    \n",
    "    Inputs: \n",
    "    model : Function\n",
    "            single model equation\n",
    "    model_params: list,array\n",
    "            parameters of the model\n",
    "            \n",
    "    output: Matrix\n",
    "            Addition of models [pix by pix]\"\"\"\n",
    "    \n",
    "    Added_models = np.zeros((npix,npix))\n",
    "    for i in range(num_of_sources):\n",
    "        Added_models += model(theta[i],model_params)\n",
    "    \n",
    "    return Added_models + noise"
   ]
  },
  {
   "cell_type": "code",
   "execution_count": 32,
   "metadata": {},
   "outputs": [],
   "source": [
    "npix = 80             #Pixel size\n",
    "num_of_sources = 2    #Number of sources\n",
    "\n",
    "x = np.arange(0, npix, 1, float)\n",
    "y = x[:,np.newaxis]\n",
    "\n",
    "\n",
    "#Locations ,Spatial extent and Flux\n",
    "X = 25\n",
    "Y = 25\n",
    "A = 15\n",
    "\n",
    "X1 = 45\n",
    "Y1 = 45\n",
    "A1 = 15\n",
    "\n",
    "theta_sources = [[X,Y,A],[X1,Y1,A1]]\n",
    "\n",
    "#Gaussian Noise\n",
    "noise_sigma = 1.0\n",
    "Noise = np.random.normal(0,noise_sigma,(npix,npix))\n",
    "\n",
    "# Image data\n",
    "    \n",
    "Img_data = adds_Multiple_Sources(Template_Equation,[x,y],theta_sources,num_of_sources,npix,Noise)"
   ]
  },
  {
   "cell_type": "code",
   "execution_count": 33,
   "metadata": {},
   "outputs": [
    {
     "data": {
      "text/plain": [
       "Text(0,0.5,'Arbitrary Flux')"
      ]
     },
     "execution_count": 33,
     "metadata": {},
     "output_type": "execute_result"
    },
    {
     "data": {
      "image/png": "[encoded data removed]",
      "text/plain": [
       "<Figure size 432x288 with 2 Axes>"
      ]
     },
     "metadata": {
      "needs_background": "light"
     },
     "output_type": "display_data"
    }
   ],
   "source": [
    "ax = plt.subplot(111)\n",
    "im = ax.imshow(Img_data,origin='lower',cmap='afmhot',)\n",
    "divider = make_axes_locatable(ax)\n",
    "cax = divider.append_axes(\"right\", size=\"5%\", pad=0.05)\n",
    "\n",
    "\n",
    "# Simulated Image\n",
    "plt.colorbar(im, cax=cax)\n",
    "ax.set_xlabel('X Position')\n",
    "ax.set_ylabel('Y Position')\n",
    "plt.ylabel('Arbitrary Flux')"
   ]
  },
  {
   "cell_type": "markdown",
   "metadata": {},
   "source": [
    "# Prior on [X,Y,A]"
   ]
  },
  {
   "cell_type": "code",
   "execution_count": 34,
   "metadata": {},
   "outputs": [],
   "source": [
    "def LogPrior(theta,theta_limits):\n",
    "    \"\"\"Evaluate the prior probability of each X,Y and A\n",
    "    \n",
    "    Input:\n",
    "    theta : list,array\n",
    "            [X,Y,A] parameters to be evaluated\n",
    "    theta_limits: list,array \n",
    "            The limits of X,Y and A.\n",
    "     output: scalar\n",
    "            The log Prior of X,Y and A.\n",
    "        \"\"\"\n",
    "    \n",
    "    log_X_prior = 0\n",
    "    log_Y_prior = 0 \n",
    "    log_A_prior = 0\n",
    "    for i in range(num_of_sources):\n",
    "        theta_source = theta[i]\n",
    "    \n",
    "        X,Y,A = theta_source\n",
    "        Xlimits,Ylimits = theta_limits\n",
    "    \n",
    "        if (X < Xlimits[0]) | (X > Xlimits[1]):\n",
    "            log_X_prior += -np.inf\n",
    "        else:\n",
    "            log_X_prior += np.log(1.0/(Xlimits[1] - Xlimits[0]))\n",
    "        \n",
    "        if (Y < Ylimits[0]) | (Y > Ylimits[1]):\n",
    "            log_Y_prior += -np.inf\n",
    "        else:\n",
    "            log_Y_prior += np.log(1.0/(Ylimits[1] - Ylimits[0]))\n",
    "    \n",
    "        if (A<0):\n",
    "            log_A_prior += -np.inf\n",
    "        else:\n",
    "            log_A_prior += np.log(np.exp(-A))\n",
    "    \n",
    "    return log_X_prior + log_Y_prior + log_A_prior"
   ]
  },
  {
   "cell_type": "markdown",
   "metadata": {},
   "source": [
    "# Likelihood"
   ]
  },
  {
   "cell_type": "code",
   "execution_count": 35,
   "metadata": {},
   "outputs": [],
   "source": [
    "def LogL(model,theta,data,sigmay):\n",
    "    '''\n",
    "    Returns the log-likelihood of drawing data values *y* at\n",
    "    known values *x* given Gaussian measurement noise with standard\n",
    "    deviation with known *sigmay*, where the \"true\" y values \n",
    "    \n",
    "    Input:\n",
    "    model : Function\n",
    "            Model function\n",
    "    theta: list,array\n",
    "            model parameters [X,Y,A]\n",
    "    \n",
    "    data : matrix\n",
    "            Image data\n",
    "    sigmay : matrix\n",
    "            each pixel noise (Gaussian noise)\n",
    "            \n",
    "    Returns: scalar\n",
    "            log likelihood\n",
    "    '''\n",
    "    \n",
    "    y_data = data\n",
    "    logL = (np.sum(np.log(1./(np.sqrt((2.*np.pi)*sigmay**2)))) +\n",
    "            np.sum(-0.5 * (y_data - model)**2 / sigmay**2))\n",
    "    return logL"
   ]
  },
  {
   "cell_type": "markdown",
   "metadata": {},
   "source": [
    "# Generate walkers"
   ]
  },
  {
   "cell_type": "code",
   "execution_count": 36,
   "metadata": {},
   "outputs": [],
   "source": [
    "def Get_particles_from_prior():   # Sampling from the prior space\n",
    "    \"\"\"Sample X,Y and A parameters from prior space\"\"\"\n",
    "    theta = []\n",
    "    for i in range(num_of_sources):\n",
    "        X = sp.stats.uniform.rvs(0,npix)\n",
    "        Y = sp.stats.uniform.rvs(0,npix)\n",
    "        A = sp.stats.uniform.rvs(5,20)\n",
    "        theta.append([X,Y,A])\n",
    "    \n",
    "    return theta"
   ]
  },
  {
   "cell_type": "code",
   "execution_count": 77,
   "metadata": {},
   "outputs": [],
   "source": [
    "#Generate walkers\n",
    "\n",
    "#Number of walkers\n",
    "N = 3\n",
    "\n",
    "particles = []\n",
    "logp = np.empty(N)\n",
    "logl = np.empty(N)\n",
    "\n",
    "#Data and Noise \n",
    "data = Img_data\n",
    "sigmay = Noise\n",
    "\n",
    "#parameter limits\n",
    "Xlimits = [0.0, npix]\n",
    "Ylimits = [0.0,npix]\n",
    "theta_limits = (Xlimits, Ylimits)\n",
    "\n",
    "# Generate walkers\n",
    "for i in range(0, N):\n",
    "    \n",
    "    theta = Get_particles_from_prior()\n",
    "    particles.append(theta)              #Save each sample\n",
    "    \n",
    "    model = adds_Multiple_Sources(Template_Equation,[x,y],theta,num_of_sources,npix,Noise)\n",
    "    logl[i] = LogL(model,theta,data,sigmay)    # Save Likelihood of each sample\n",
    "    logp[i] = LogPrior(theta,theta_limits)      #Save prior prob of each sample"
   ]
  },
  {
   "cell_type": "markdown",
   "metadata": {},
   "source": [
    "# Initialize"
   ]
  },
  {
   "cell_type": "code",
   "execution_count": 112,
   "metadata": {},
   "outputs": [],
   "source": [
    "# Number of NS iterations\n",
    "nest_steps = 1\n",
    "\n",
    "# MCMC steps per NS iteration\n",
    "mcmc_steps = 1\n",
    "\n",
    "# mcmc stepsize\n",
    "Xstep , Ystep , Astep ,Xstep1 , Ystep1 , Astep1  = 0.1,0.1,0.3, 0.1,0.1,0.3\n",
    "stepsize = np.array([[Xstep,Ystep,Astep],[Xstep1 , Ystep1 , Astep1]])\n",
    "\n",
    "#Number of parameters\n",
    "num_params = 3\n",
    "\n",
    "\n",
    "\n",
    "# Storage for results\n",
    "keep = [] # np.empty((nest_steps, num_params,num_of_sources+1))\n",
    "\n",
    "nacceptance = np.zeros(nest_steps)\n",
    "nrejectance = np.zeros(nest_steps)"
   ]
  },
  {
   "cell_type": "code",
   "execution_count": 111,
   "metadata": {},
   "outputs": [
    {
     "data": {
      "text/plain": [
       "array([[[-1.,  0.,  0.],\n",
       "        [ 0.,  1.,  0.],\n",
       "        [ 4.,  4.,  4.]]])"
      ]
     },
     "execution_count": 111,
     "metadata": {},
     "output_type": "execute_result"
    }
   ],
   "source": [
    "keep"
   ]
  },
  {
   "cell_type": "code",
   "execution_count": 83,
   "metadata": {},
   "outputs": [
    {
     "ename": "ValueError",
     "evalue": "cannot copy sequence with size 2 to array axis with dimension 1",
     "output_type": "error",
     "traceback": [
      "\u001b[0;31m---------------------------------------------------------------------------\u001b[0m",
      "\u001b[0;31mValueError\u001b[0m                                Traceback (most recent call last)",
      "\u001b[0;32m<ipython-input-83-62fdc56d18a3>\u001b[0m in \u001b[0;36m<module>\u001b[0;34m()\u001b[0m\n\u001b[1;32m      3\u001b[0m     \u001b[0mworst\u001b[0m \u001b[0;34m=\u001b[0m \u001b[0mnp\u001b[0m\u001b[0;34m.\u001b[0m\u001b[0margmin\u001b[0m\u001b[0;34m(\u001b[0m\u001b[0mlogl\u001b[0m\u001b[0;34m)\u001b[0m   \u001b[0;31m# Particle with worst likelihood\u001b[0m\u001b[0;34m\u001b[0m\u001b[0m\n\u001b[1;32m      4\u001b[0m \u001b[0;34m\u001b[0m\u001b[0m\n\u001b[0;32m----> 5\u001b[0;31m     \u001b[0mkeep\u001b[0m\u001b[0;34m[\u001b[0m\u001b[0mi\u001b[0m\u001b[0;34m,\u001b[0m\u001b[0;34m:\u001b[0m\u001b[0;34m-\u001b[0m\u001b[0;36m1\u001b[0m\u001b[0;34m]\u001b[0m \u001b[0;34m=\u001b[0m \u001b[0mparticles\u001b[0m\u001b[0;34m[\u001b[0m\u001b[0mworst\u001b[0m\u001b[0;34m]\u001b[0m \u001b[0;31m# Save the details of the worst particle , (m,c) and (likelihood)\u001b[0m\u001b[0;34m\u001b[0m\u001b[0m\n\u001b[0m\u001b[1;32m      6\u001b[0m     \u001b[0mkeep\u001b[0m\u001b[0;34m[\u001b[0m\u001b[0mi\u001b[0m\u001b[0;34m,\u001b[0m\u001b[0;34m-\u001b[0m\u001b[0;36m1\u001b[0m\u001b[0;34m]\u001b[0m \u001b[0;34m=\u001b[0m \u001b[0mlogl\u001b[0m\u001b[0;34m[\u001b[0m\u001b[0mworst\u001b[0m\u001b[0;34m]\u001b[0m\u001b[0;34m\u001b[0m\u001b[0m\n\u001b[1;32m      7\u001b[0m \u001b[0;34m\u001b[0m\u001b[0m\n",
      "\u001b[0;31mValueError\u001b[0m: cannot copy sequence with size 2 to array axis with dimension 1"
     ]
    }
   ],
   "source": [
    "for i in range(nest_steps):\n",
    "    \n",
    "    worst = np.argmin(logl)   # Particle with worst likelihood\n",
    "    \n",
    "    keep[i,:-1] = particles[worst] # Save the details of the worst particle , (m,c) and (likelihood)\n",
    "    keep[i,-1] = logl[worst]\n",
    "    \n",
    "    # Copy random survivor\n",
    "    while True:#----copy a random point and do mcmc from there-----\n",
    "        copy = np.random.randint(len(particles))\n",
    "        if (copy != worst):break\n",
    "            \n",
    "    particles[worst] = duplicate.deepcopy(particles[copy]) # Throw away worst particle and replace with random particle \n",
    "                                                            #and do mcmc from the random particle (will change with new sample)\n",
    "    \n",
    "    logl_threshold = duplicate.deepcopy(logl[worst])    # Likelihood of worst point\n",
    "    \n",
    "    naccept = 0      #count number of accepted samples\n",
    "    nreject = 0     #count number of rejected samples\n",
    "    for mcmci in range(mcmc_steps):   # Do mcmc on the random survivor\n",
    "        theta_new = particles[worst] + stepsize * np.random.randn(2,3)  #Generate new sample\n",
    "        logl_new = LogL(theta_new,data,sigmay)                                 #Likelihood of new sample\n",
    "        \n",
    "        logp_new = LogPrior(theta_new,theta_limits)                           #prior prob of new sample\n",
    "        \n",
    "        if (logl_new>logl_threshold) and (logp_new-logp[worst])>=np.log(np.random.rand()): #Accept new sample\n",
    "            particles[worst] = theta_new                                #replace worst sample with new sample\n",
    "            logp[worst] = logp_new                                      # replace worstp with newp of new sample\n",
    "            logl[worst] = logl_new                                      #replace worstL with newL of new sample\n",
    "            \n",
    "            naccept += 1                                              #increment number of accepted sample \n",
    "            \n",
    "        else: # otherwise reject new sample \n",
    "            particles[worst] = particles[worst]     #stay at current position and look for new sample again\n",
    "            nreject += 1\n",
    "    \n",
    "    nacceptance[i] = naccept/mcmc_steps #evaluate mcmc acceptance ratio\n",
    "\n",
    "\n",
    "\n",
    "#Prior Mass    \n",
    "logX = -(np.arange(0, (nest_steps))+ 1.)/N  # evalute prior mass"
   ]
  },
  {
   "cell_type": "code",
   "execution_count": 84,
   "metadata": {},
   "outputs": [
    {
     "data": {
      "text/plain": [
       "array([[[ 4.64341295e-310,  4.64341288e-310,  9.84440000e+001,\n",
       "          1.50079000e+002, -4.50075667e-001,  1.12776566e-001,\n",
       "          5.53353523e-322],\n",
       "        [ 3.95252517e-322,  4.64341299e-310,  9.88131292e-324,\n",
       "          7.90505033e-323,  3.95252517e-323,  6.91457753e-310,\n",
       "          4.64341299e-310]]])"
      ]
     },
     "execution_count": 84,
     "metadata": {},
     "output_type": "execute_result"
    }
   ],
   "source": [
    "keep"
   ]
  },
  {
   "cell_type": "code",
   "execution_count": null,
   "metadata": {},
   "outputs": [],
   "source": []
  }
 ],
 "metadata": {
  "kernelspec": {
   "display_name": "Python 3",
   "language": "python",
   "name": "python3"
  },
  "language_info": {
   "codemirror_mode": {
    "name": "ipython",
    "version": 3
   },
   "file_extension": ".py",
   "mimetype": "text/x-python",
   "name": "python",
   "nbconvert_exporter": "python",
   "pygments_lexer": "ipython3",
   "version": "3.7.0"
  }
 },
 "nbformat": 4,
 "nbformat_minor": 2
}
