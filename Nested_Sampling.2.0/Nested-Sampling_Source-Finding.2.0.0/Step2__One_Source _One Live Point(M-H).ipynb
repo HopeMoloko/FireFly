{
 "cells": [
  {
   "cell_type": "markdown",
   "metadata": {},
   "source": [
    "# Objectives ( Source Finding )\n",
    "\n",
    "In this notebook , I simulated a single Gaussian shaped source defined by the equation:\n",
    "$$\\tau(X,Y,A,R) = A\\exp{[-\\frac{(x-X)^{2} + (y-Y)^{2}}{2R^{2}}]}$$\n",
    "\n",
    "\n",
    "I used Bayesian techniques to infer the parameters of the single source i.e doing basic source finding by recovering the location X, Y and the flux(amplitude) A of the source and keeping the spatial extent R fixed.\n",
    "\n",
    " I evalute the posterior of the paramaters using baye's equation:\n",
    " \n",
    " $$P(X,Y,A|Data) = \\frac{P(Data|(X,Y,A))P(X,Y,A)}{Z}$$\n",
    " \n",
    " where $P(Data|(X,Y,A))$ is the likelihood of the data given the parameters;$P(X,Y,A)$ is prior probbility of the parameters ; Z is the marginalizing term called the \"Evidence\" and $P(X,Y,A|Data)$ is the posterior of the parameters.\n",
    " \n",
    " 1. To evaluate the Posterior I use Metropolis Hasting MCMC."
   ]
  },
  {
   "cell_type": "markdown",
   "metadata": {},
   "source": [
    "# Import needed Modules"
   ]
  },
  {
   "cell_type": "code",
   "execution_count": 1,
   "metadata": {},
   "outputs": [],
   "source": [
    "########################Import Modules##########################################\n",
    "import numpy as np\n",
    "import matplotlib.pyplot as plt\n",
    "import pandas as pd\n",
    "import scipy.stats as stats\n",
    "import corner\n",
    "import copy as Makecopy\n",
    "import time\n",
    "from matplotlib import colors\n",
    "import scipy as sp\n",
    "\n",
    "from ipywidgets import IntProgress\n",
    "from IPython.display import display\n",
    "\n",
    "from mpl_toolkits.axes_grid1 import make_axes_locatable\n",
    "\n",
    "from matplotlib.patches import Ellipse\n",
    "from matplotlib.collections import PatchCollection\n",
    "\n",
    "#####################################"
   ]
  },
  {
   "cell_type": "markdown",
   "metadata": {},
   "source": [
    "# Generate Image with One Source"
   ]
  },
  {
   "cell_type": "markdown",
   "metadata": {},
   "source": [
    "### TODO: Define Gaussian shaped function\n",
    "\n",
    "$$\\tau(X,Y,A,R) = A\\exp{[-\\frac{(x-X)^{2} + (y-Y)^{2}}{2R^{2}}]}$$\n",
    "\n",
    "### the above equation is used to model each source."
   ]
  },
  {
   "cell_type": "code",
   "execution_count": 2,
   "metadata": {},
   "outputs": [],
   "source": [
    "def Template_Equation(x,y,theta):\n",
    "\n",
    "    \"\"\"\n",
    "         Returns Gaussian shaped Function\n",
    "    \n",
    "    Parameters\n",
    "    \n",
    "    ---------------------\n",
    "    x:  array  (1,number of pixels)\n",
    "        column vector\n",
    "        \n",
    "    y:  array (number of pixels,1)\n",
    "        row vector\n",
    "        \n",
    "    theta : list or array\n",
    "            List of parameters X , Y and A.\n",
    "            \n",
    "    params: list or array\n",
    "            x,y - row by coloumn pix\n",
    "    ---------------------- \n",
    "    \n",
    "    output: Dataset\n",
    "            pix by pix model\"\"\"\n",
    "    X,Y,A = theta\n",
    "    R = 3\n",
    "    template = A*np.exp(-(((x-X)**2 + (y-Y)**2)/(2*R**2)))\n",
    "    return template"
   ]
  },
  {
   "cell_type": "markdown",
   "metadata": {},
   "source": [
    "# Prior [ X,Y,A]\n",
    "\n",
    "TODO : Define functions of the prior probability on X , Y and A,\n",
    "\n",
    "The prior probabilities on X and Y are flat priors definied by.\n",
    "                \n",
    "$$P(X) = \\frac{1}{X_{upper}-X_{lower}}$$\n",
    "$$P(Y) = \\frac{1}{Y_{upper}-Y_{lower}}$$\n",
    "                    \n",
    "and the prior on A is an exponential prior.\n",
    "                        $$P(A) = \\exp{(-A)}$$"
   ]
  },
  {
   "cell_type": "code",
   "execution_count": 3,
   "metadata": {},
   "outputs": [],
   "source": [
    "def LogPrior(theta,theta_limits):\n",
    "    \"\"\"Evaluate the prior probability of each X,Y and A\n",
    "    \n",
    "    Parameters\n",
    "    \n",
    "    ----------------\n",
    "    \n",
    "    theta : list or array\n",
    "            [X,Y,A] parameters to be evaluated\n",
    "            \n",
    "    theta_limits: list or array \n",
    "            The limits of X,Y and A.\n",
    "    \n",
    "    ----------------\n",
    "     output: scalar\n",
    "            The log Prior of X,Y and A.\n",
    "    \n",
    "    \"\"\"\n",
    "    X,Y,A = theta\n",
    "    Xlimits,Ylimits = theta_limits\n",
    "    \n",
    "    if (X < Xlimits[0]) | (X > Xlimits[1]):\n",
    "        log_X_prior = -np.inf\n",
    "    else:\n",
    "        log_X_prior = np.log(1.0/(Xlimits[1] - Xlimits[0]))\n",
    "        \n",
    "    if (Y < Ylimits[0]) | (Y > Ylimits[1]):\n",
    "        log_Y_prior = -np.inf\n",
    "    else:\n",
    "        log_Y_prior = np.log(1.0/(Ylimits[1] - Ylimits[0]))\n",
    "    \n",
    "    if (A<0):\n",
    "        log_A_prior = -np.inf\n",
    "    else:\n",
    "        log_A_prior = np.log(np.exp(-A))\n",
    "    \n",
    "    return log_X_prior + log_Y_prior + log_A_prior"
   ]
  },
  {
   "cell_type": "markdown",
   "metadata": {},
   "source": [
    "# Likelihood\n",
    "\n",
    "TODO: I define a Gaussian log-likelihood function given by;\n",
    "\n",
    "$$\\log{L} = \\sum_{i}^{n}{\\log{\\frac{1}{\\sqrt{2\\pi\\sigma_{i}^{2}}}}} + \\sum_{i}^{n}{-\\frac{(data - model)^{2}}{2\\sigma_{i}^{2}}}$$"
   ]
  },
  {
   "cell_type": "code",
   "execution_count": 4,
   "metadata": {},
   "outputs": [],
   "source": [
    "def LogL(theta,data,sigmay):\n",
    "    \"\"\"Returns the log-likelihood the of the model given Gaussian measurement noise with standard\n",
    "    deviation with known *sigmay*, where \"y_data\" is the known data values \n",
    "    \n",
    "    Parameters\n",
    "    \n",
    "    ----------------\n",
    "    \n",
    "    model : Function\n",
    "            Model function\n",
    "    theta: list or array\n",
    "            model parameters [X,Y,A]\n",
    "    \n",
    "    data : matrix\n",
    "            Image data\n",
    "    sigmay : matrix\n",
    "            each pixel noise (Gaussian noise)\n",
    "    \n",
    "    ----------------\n",
    "    Output: scalar\n",
    "            log likelihood\"\"\"\n",
    "\n",
    "    y_data = data\n",
    "    model = Template_Equation(x,y,theta)\n",
    "    logL = (np.sum(np.log(1./(np.sqrt((2.*np.pi)*sigmay**2)))) +\n",
    "            np.sum(-0.5 * (y_data - model)**2 / sigmay**2))\n",
    "    return logL"
   ]
  },
  {
   "cell_type": "markdown",
   "metadata": {},
   "source": [
    "# Posterior\n",
    "\n",
    "TODOD: I define the posterior probability by,\n",
    "\n",
    "$$log- Posterior = log-Likelihood + log-Prior$$"
   ]
  },
  {
   "cell_type": "code",
   "execution_count": 5,
   "metadata": {},
   "outputs": [],
   "source": [
    "def LogPosterior(theta,theta_limits,data,sigmay):\n",
    "    \"\"\"\n",
    "    Evaluates the Posterior \n",
    "    \n",
    "    Parameters\n",
    "    \n",
    "    --------------\n",
    "    \n",
    "    theta : list or array\n",
    "            parameters X,Y,A\n",
    "            \n",
    "    theta_limits: list or array\n",
    "                parameter limits\n",
    "                \n",
    "    data: array (npix,npix)\n",
    "            data set\n",
    "            \n",
    "    sigmay:  array (npix,npix)\n",
    "            Data noise\n",
    "    ---------------\n",
    "    \n",
    "    output: scalar\n",
    "            Log-Posterior\n",
    "    \"\"\"\n",
    "    logP = LogL(theta,data,sigmay) + LogPrior(theta,theta_limits)\n",
    "    return logP"
   ]
  },
  {
   "cell_type": "markdown",
   "metadata": {},
   "source": [
    "# Metropolis Hasting"
   ]
  },
  {
   "cell_type": "code",
   "execution_count": 6,
   "metadata": {},
   "outputs": [],
   "source": [
    "def metropolis(log_posterior,theta,data,sigmay,stepsize, nsteps):\n",
    "    \n",
    "    \"\"\"Metropolis Hasing MCMC\n",
    "    \n",
    "    Parameters\n",
    "    ----------------\n",
    "    log_posterior : Function\n",
    "                    Log-posterior function\n",
    "                    \n",
    "    theta:  List or array\n",
    "            Initial X,Y and A parameters\n",
    "            \n",
    "    data: array\n",
    "            The data set\n",
    "    \n",
    "    sigmay: array\n",
    "            Noise of each pixel\n",
    "    \n",
    "    stepsie: list or array\n",
    "            stepsize of each paramter X,Y and A.\n",
    "            \n",
    "    nsteps: scalar\n",
    "            Number of mcmc steps to perform.\n",
    "            \n",
    "    --------------\n",
    "    Output : array , array , scalar\n",
    "            chains ,log probabilty , acceptance ratio\n",
    "    \"\"\"\n",
    "    #Calculate posterior of initial X,Y and A\n",
    "    log_prob = log_posterior(theta,theta_limits,data,sigmay)\n",
    "    \n",
    "    # Store Markov chain as an array of samples:\n",
    "    chain = np.empty((nsteps, len(theta)))\n",
    "    log_probs = np.empty(nsteps)\n",
    "    \n",
    "    # Count accepted proposals:\n",
    "    naccept = 0\n",
    "    \n",
    "    for i in range(nsteps): \n",
    "        theta_new = theta + stepsize * np.random.randn(len(theta)) #Generate new sample\n",
    "        log_prob_new = log_posterior(theta_new,theta_limits,data, sigmay) # calculate post prob of new sample\n",
    "        \n",
    "        if (log_prob_new-log_prob) > np.log(np.random.rand()): # Accept new\n",
    "            \n",
    "            theta = theta_new        #\n",
    "            log_prob = log_prob_new\n",
    "            naccept += 1\n",
    "            \n",
    "        else:                    # Reject proposed sample\n",
    "            theta = theta         #stay at current position\n",
    "            \n",
    "        chain[i] = theta          # record each position\n",
    "        log_probs[i] = log_prob   # record loglikelihood of each position\n",
    "        \n",
    "    acceptance_rate = naccept/float(nsteps)     #Evaluate acceptance ratio\n",
    "    \n",
    "    return chain,log_probs,acceptance_rate"
   ]
  },
  {
   "cell_type": "markdown",
   "metadata": {},
   "source": [
    "## TODO: \n",
    " In this section i define the image size (pixel-by-pixel) and generate y a row vector (number of pixels,1)  and x a  column vector (1,number of pixels) to generate the Image data set.\n",
    "\n",
    " I then define the location X ,Y and flux A of the source."
   ]
  },
  {
   "cell_type": "code",
   "execution_count": 7,
   "metadata": {},
   "outputs": [],
   "source": [
    "npix = 50                                # number of pixels\n",
    "x = np.arange(0, npix, 1, float)         #row vector\n",
    "y = x[:,np.newaxis]                      #column vector\n",
    "\n",
    "\n",
    "#Locations ,Spatial extent and Flux\n",
    "X = 25\n",
    "Y = 25\n",
    "A = 15\n",
    "\n",
    "theta_pic = np.array([X,Y,A])\n",
    "\n",
    "#Gaussian Noise\n",
    "noise_sigma = 1.0\n",
    "Noise = np.random.normal(0,noise_sigma,(npix,npix))\n",
    "\n",
    "# Image dataset\n",
    "Img_data = Template_Equation(x,y,theta_pic) + Noise"
   ]
  },
  {
   "cell_type": "markdown",
   "metadata": {},
   "source": [
    "## Vizualize the simulated Image"
   ]
  },
  {
   "cell_type": "code",
   "execution_count": 8,
   "metadata": {},
   "outputs": [
    {
     "data": {
      "text/plain": [
       "Text(0,0.5,'Arbitrary Flux')"
      ]
     },
     "execution_count": 8,
     "metadata": {},
     "output_type": "execute_result"
    },
    {
     "data": {
      "image/png": "[encoded data removed]",
      "text/plain": [
       "<Figure size 432x288 with 2 Axes>"
      ]
     },
     "metadata": {
      "needs_background": "light"
     },
     "output_type": "display_data"
    }
   ],
   "source": [
    "ax = plt.subplot(111)\n",
    "im = ax.imshow(Img_data,origin='lower',cmap='afmhot',)\n",
    "divider = make_axes_locatable(ax)\n",
    "cax = divider.append_axes(\"right\", size=\"5%\", pad=0.05)\n",
    "\n",
    "plt.colorbar(im, cax=cax)\n",
    "ax.set_xlabel('X Position')\n",
    "ax.set_ylabel('Y Position')\n",
    "plt.ylabel('Arbitrary Flux')"
   ]
  },
  {
   "cell_type": "markdown",
   "metadata": {},
   "source": [
    "# Initial conditions\n",
    "\n",
    "TODO: Define the initial conditions to perform mcmc"
   ]
  },
  {
   "cell_type": "code",
   "execution_count": 23,
   "metadata": {},
   "outputs": [],
   "source": [
    "#Intial mcmc params\n",
    "nsteps = 5000\n",
    "Xstep , Ystep , Astep = 0.1,0.2,0.1\n",
    "stepsize = np.array([Xstep,Ystep,Astep])\n",
    "\n",
    "#parameter limits\n",
    "Xlimits = [0.0, npix]\n",
    "Ylimits = [0.0,npix]\n",
    "\n",
    "theta_limits = (Xlimits, Ylimits)\n",
    "\n",
    "#mcmc initial samples\n",
    "X_start = 13\n",
    "Y_start = 15\n",
    "A_start = 10\n",
    "theta = np.array([X_start,Y_start,A_start])\n",
    "\n",
    "#define data and sigmay parameters\n",
    "data = Img_data\n",
    "sigmay = Noise"
   ]
  },
  {
   "cell_type": "markdown",
   "metadata": {},
   "source": [
    "# Run MCMC with specified initial conditions"
   ]
  },
  {
   "cell_type": "code",
   "execution_count": 24,
   "metadata": {},
   "outputs": [],
   "source": [
    "Chain,Log_probs,Acceptance = metropolis(LogPosterior,theta,data,sigmay,stepsize,nsteps)"
   ]
  },
  {
   "cell_type": "code",
   "execution_count": 25,
   "metadata": {},
   "outputs": [
    {
     "name": "stdout",
     "output_type": "stream",
     "text": [
      "0.1038\n"
     ]
    }
   ],
   "source": [
    "print(Acceptance)"
   ]
  },
  {
   "cell_type": "markdown",
   "metadata": {},
   "source": [
    "# Check for convergence"
   ]
  },
  {
   "cell_type": "code",
   "execution_count": 26,
   "metadata": {},
   "outputs": [
    {
     "data": {
      "text/plain": [
       "Text(0,0.5,'A')"
      ]
     },
     "execution_count": 26,
     "metadata": {},
     "output_type": "execute_result"
    },
    {
     "data": {
      "image/png": "[encoded data removed]",
      "text/plain": [
       "<Figure size 720x504 with 3 Axes>"
      ]
     },
     "metadata": {
      "needs_background": "light"
     },
     "output_type": "display_data"
    }
   ],
   "source": [
    "# Pull X ,Y and A arrays out of the Markov chain and plot them:\n",
    "XX = [X for X,Y,A in Chain]\n",
    "YY = [Y for X,Y,A in Chain]\n",
    "AA = [A for X,Y,A in Chain]\n",
    "\n",
    "# Traces, for convergence inspection:\n",
    "plt.figure(figsize=(10,7))\n",
    "plt.subplot(3,1,1)\n",
    "plt.plot(XX, 'k-')\n",
    "plt.ylabel('X')\n",
    "\n",
    "plt.subplot(3,1,2)\n",
    "plt.plot(YY, 'k-')\n",
    "plt.ylabel('Y')\n",
    "\n",
    "plt.subplot(3,1,3)\n",
    "plt.plot(AA, 'k-')\n",
    "plt.ylabel('A')"
   ]
  },
  {
   "cell_type": "markdown",
   "metadata": {},
   "source": [
    "# Evaluate the mean of X,Y and A"
   ]
  },
  {
   "cell_type": "code",
   "execution_count": 27,
   "metadata": {},
   "outputs": [],
   "source": [
    "Mean_X = np.mean(XX[600:])\n",
    "Mean_Y = np.mean(YY[600:])\n",
    "Mean_A = np.mean(AA[600:])"
   ]
  },
  {
   "cell_type": "markdown",
   "metadata": {},
   "source": [
    "# Vizualize the Image with the estimated parameters"
   ]
  },
  {
   "cell_type": "code",
   "execution_count": 28,
   "metadata": {},
   "outputs": [
    {
     "data": {
      "text/plain": [
       "Text(0,0.5,'Arbitrary Flux')"
      ]
     },
     "execution_count": 28,
     "metadata": {},
     "output_type": "execute_result"
    },
    {
     "data": {
      "image/png": "[encoded data removed]",
      "text/plain": [
       "<Figure size 504x360 with 2 Axes>"
      ]
     },
     "metadata": {
      "needs_background": "light"
     },
     "output_type": "display_data"
    }
   ],
   "source": [
    "plt.figure(figsize=(7,5))\n",
    "ax = plt.gca()\n",
    "ellipses = []\n",
    "plt.xlim([0,npix])\n",
    "plt.ylim([0,npix])\n",
    "X_pos = [Mean_X]\n",
    "Y_pos = [Mean_Y]\n",
    "for ra, dec in zip(X_pos,Y_pos):\n",
    "    ellipse = Ellipse(xy=(ra, dec), width=2, height=2, angle=0)\n",
    "    ellipses.append(ellipse)\n",
    "\n",
    "p = PatchCollection(ellipses)\n",
    "ax.add_collection(p)\n",
    "\n",
    "im = ax.imshow(Img_data,origin='lower',cmap='afmhot',)\n",
    "divider = make_axes_locatable(ax)\n",
    "cax = divider.append_axes(\"right\", size=\"5%\", pad=0.05)\n",
    "\n",
    "plt.colorbar(im, cax=cax)\n",
    "ax.set_xlabel('X Position')\n",
    "ax.set_ylabel('Y Position')\n",
    "plt.ylabel('Arbitrary Flux')"
   ]
  },
  {
   "cell_type": "markdown",
   "metadata": {},
   "source": [
    "# Evaluate Z\n",
    "\n",
    "# TODO: \n",
    "\n",
    "Given that we have evaluated the likelihood values, we can calculate the evidence by\n",
    "\n",
    "$$Z = \\sum_{i}^{n}{L_{i}w_{i}}$$\n",
    "\n",
    "where $w_{i} = X_{i+1}-X_{i}$ and since X the prior mass decreases from 1 to 0 by a factor of $e^{-1}$ we can evaluate the estimate of Z. "
   ]
  },
  {
   "cell_type": "code",
   "execution_count": 29,
   "metadata": {},
   "outputs": [
    {
     "name": "stdout",
     "output_type": "stream",
     "text": [
      "logZ : -2031.9348634400858\n"
     ]
    }
   ],
   "source": [
    "for i in range(0, nsteps):\n",
    "    logX = -(np.arange(0, i+1) + 1.)/nsteps\n",
    "    \n",
    "logwt = logX.copy() + Log_probs\n",
    "wt = np.exp(logwt - logwt.max())\n",
    "\n",
    "def logsumexp(values):\n",
    "    biggest = np.max(values)\n",
    "    x = values - biggest\n",
    "    result = np.log(np.sum(np.exp(x))) + biggest\n",
    "    return result\n",
    "\n",
    "# Prior weights\n",
    "logw = logX.copy()\n",
    "# Normalise them\n",
    "logw -= logsumexp(logw)\n",
    "\n",
    "# Calculate marginal likelihood\n",
    "logZ = logsumexp(logw + Log_probs)\n",
    "print('logZ :',logZ)"
   ]
  },
  {
   "cell_type": "code",
   "execution_count": null,
   "metadata": {},
   "outputs": [],
   "source": []
  }
 ],
 "metadata": {
  "kernelspec": {
   "display_name": "Python 3",
   "language": "python",
   "name": "python3"
  },
  "language_info": {
   "codemirror_mode": {
    "name": "ipython",
    "version": 3
   },
   "file_extension": ".py",
   "mimetype": "text/x-python",
   "name": "python",
   "nbconvert_exporter": "python",
   "pygments_lexer": "ipython3",
   "version": "3.7.0"
  }
 },
 "nbformat": 4,
 "nbformat_minor": 2
}
