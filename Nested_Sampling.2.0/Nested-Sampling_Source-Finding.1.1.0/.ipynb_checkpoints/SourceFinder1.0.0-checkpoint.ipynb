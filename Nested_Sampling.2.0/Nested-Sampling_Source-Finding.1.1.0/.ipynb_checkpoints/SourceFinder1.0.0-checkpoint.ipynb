{
 "cells": [
  {
   "cell_type": "code",
   "execution_count": 75,
   "metadata": {},
   "outputs": [],
   "source": [
    "########################Import Modules##########################################\n",
    "import numpy as np\n",
    "import matplotlib.pyplot as plt\n",
    "import pandas as pd\n",
    "import scipy.stats as stat\n",
    "import corner\n",
    "import copy as Makecopy\n",
    "import time\n",
    "import scipy as sp\n",
    "\n",
    "from ipywidgets import IntProgress\n",
    "from IPython.display import display\n",
    "\n",
    "from mpl_toolkits.axes_grid1 import make_axes_locatable\n",
    "\n",
    "from matplotlib.patches import Ellipse\n",
    "from matplotlib.collections import PatchCollection\n",
    "\n",
    "#####################################"
   ]
  },
  {
   "cell_type": "markdown",
   "metadata": {},
   "source": [
    "# Define Prior , Likelihood functions"
   ]
  },
  {
   "cell_type": "markdown",
   "metadata": {},
   "source": [
    "# Prior"
   ]
  },
  {
   "cell_type": "code",
   "execution_count": 76,
   "metadata": {},
   "outputs": [],
   "source": [
    "def prior(params,num_of_model_sources):\n",
    "    a,a1 = params[2],params[6]\n",
    "    \n",
    "    P_X = (1/npix)*(num_of_model_sources)\n",
    "    P_Y = (1/npix)*(num_of_model_sources)\n",
    "    P_A = sp.stats.expon.pdf(a/8)\n",
    "    P_A1 = sp.stats.expon.pdf(a1/8)\n",
    "    P_r = 1\n",
    "    \n",
    "    return P_X*P_Y*P_A*P_r*P_A1"
   ]
  },
  {
   "cell_type": "code",
   "execution_count": 77,
   "metadata": {},
   "outputs": [],
   "source": [
    "def Cube_points(u):                                                                               \n",
    "    points_source_list = []                                                                            \n",
    "                                                                                                      \n",
    "    for i in range(num_of_model_sources):                                                             \n",
    "        X = sp.stats.uniform.rvs(0,50)                                                            \n",
    "        Y = sp.stats.uniform.rvs(0,50)                                                           \n",
    "        R = 4                                                                   \n",
    "        A = sp.stats.uniform.rvs(.1,20)                                                          \n",
    "                                                                                                      \n",
    "        points_source_list.extend([X,Y,R,A])      #                              \n",
    "                                                                                                      \n",
    "    return points_source_list"
   ]
  },
  {
   "cell_type": "markdown",
   "metadata": {},
   "source": [
    "# Model Function"
   ]
  },
  {
   "cell_type": "code",
   "execution_count": 78,
   "metadata": {},
   "outputs": [],
   "source": [
    "def Model_function(params,noise):\n",
    "    '''Return the model value given X,Y,R, and A paramters'''\n",
    "       \n",
    "    x = np.arange(0, npix, 1, float)\n",
    "    y = x[:,np.newaxis]\n",
    "    n = noise\n",
    "    \n",
    "    def tau(x,y,X,Y,R,A):  #Circularly  Gaussian Shaped function\n",
    "        term1 = ((x-X)**2 + (y-Y)**2)/(2*R**2)\n",
    "        \n",
    "        return A*np.exp(-term1)\n",
    "    \n",
    "    source_template_model = np.zeros((npix,npix))\n",
    "    params_new = np.reshape(params,(int(len(params)/4),4))  # change shape of array to index each source. from\n",
    "                                                          # n-dimension to a k-4 dimennsion array.\n",
    "    for i in range(len(params_new)):\n",
    "        \n",
    "        X,Y,R,A = params_new[i][0],params_new[i][1],params_new[i][2],params_new[i][3]\n",
    "        source_template_model += tau(x,y,X,Y,R,A)\n",
    "    \n",
    "    return source_template_model + n"
   ]
  },
  {
   "cell_type": "markdown",
   "metadata": {},
   "source": [
    "# Likelihood Function"
   ]
  },
  {
   "cell_type": "code",
   "execution_count": 79,
   "metadata": {},
   "outputs": [],
   "source": [
    "def Log_Likelihood(data=None,sigma=None,model=None):\n",
    "    \n",
    "    '''Return the Log-Likelihood.\n",
    "       \n",
    "    Keyword arguments:\n",
    "    sigma -- noise level\n",
    "    model    -- Model\n",
    "    data     -- The data'''\n",
    "    #Unit test for shape of data amd model\n",
    "    assert data.shape == model.shape\n",
    "    \n",
    "    N = len(data)\n",
    "    \n",
    "    Log_Like =  -0.5*np.sum(((1/sigma**2)*(data-model)**2))\n",
    "    \n",
    "    return Log_Like\n"
   ]
  },
  {
   "cell_type": "code",
   "execution_count": 80,
   "metadata": {},
   "outputs": [],
   "source": [
    "def log_plus(x,y):\n",
    "    '''Return the addition of x + y in log-space'''\n",
    "    if x>y:\n",
    "        return x+np.log(1+np.exp(y-x))\n",
    "    \n",
    "    else:\n",
    "        return y+np.log(1+np.exp(x-y))"
   ]
  },
  {
   "cell_type": "code",
   "execution_count": 81,
   "metadata": {},
   "outputs": [],
   "source": [
    "def tau(x,y,X,Y,R,A):  #Circularly  Gaussian Shaped function\n",
    "    term1 = ((x-X)**2 + (y-Y)**2)/(2*R**2)\n",
    "    \n",
    "    return A*np.exp(-term1) "
   ]
  },
  {
   "cell_type": "code",
   "execution_count": 82,
   "metadata": {},
   "outputs": [
    {
     "data": {
      "text/plain": [
       "[<matplotlib.lines.Line2D at 0x7f4e859e4128>]"
      ]
     },
     "execution_count": 82,
     "metadata": {},
     "output_type": "execute_result"
    },
    {
     "data": {
      "image/png": "[encoded data removed]",
      "text/plain": [
       "<Figure size 432x288 with 1 Axes>"
      ]
     },
     "metadata": {
      "needs_background": "light"
     },
     "output_type": "display_data"
    }
   ],
   "source": [
    "x = np.linspace(0.1,20, 100)\n",
    "\n",
    "plt.plot(x, sp.stats.expon.pdf(x/8),'r-', lw=5, alpha=0.6, label='expon pdf')"
   ]
  },
  {
   "cell_type": "markdown",
   "metadata": {},
   "source": [
    "# Generate Image"
   ]
  },
  {
   "cell_type": "code",
   "execution_count": 83,
   "metadata": {},
   "outputs": [],
   "source": [
    "x = np.arange(0, 50, 1, float)\n",
    "y = x[:,np.newaxis]\n",
    "\n",
    "X1 = 32.8\n",
    "Y1 = 24.8 \n",
    "R1 = 4\n",
    "A1 = 20\n",
    "\n",
    "X2 = 15\n",
    "Y2 = 34\n",
    "R2 = 4\n",
    "A2 = 15\n",
    "\n",
    "Noise = np.random.normal(0,1,(50,50))"
   ]
  },
  {
   "cell_type": "code",
   "execution_count": 84,
   "metadata": {},
   "outputs": [],
   "source": [
    "Source_Image = tau(x,y,X1,Y1,R1,A1) + tau(x,y,X2,Y2,R2,A2) + Noise"
   ]
  },
  {
   "cell_type": "code",
   "execution_count": 85,
   "metadata": {},
   "outputs": [
    {
     "data": {
      "text/plain": [
       "Text(0,0.5,'Arbitrary Flux')"
      ]
     },
     "execution_count": 85,
     "metadata": {},
     "output_type": "execute_result"
    },
    {
     "data": {
      "image/png": "[encoded data removed]",
      "text/plain": [
       "<Figure size 432x288 with 2 Axes>"
      ]
     },
     "metadata": {
      "needs_background": "light"
     },
     "output_type": "display_data"
    }
   ],
   "source": [
    "ax = plt.subplot(111)\n",
    "im = ax.imshow(Source_Image,origin='lower',cmap='afmhot',)\n",
    "divider = make_axes_locatable(ax)\n",
    "cax = divider.append_axes(\"right\", size=\"5%\", pad=0.05)\n",
    "\n",
    "plt.colorbar(im, cax=cax)\n",
    "ax.set_xlabel('X Position')\n",
    "ax.set_ylabel('Y Position')\n",
    "plt.ylabel('Arbitrary Flux')"
   ]
  },
  {
   "cell_type": "markdown",
   "metadata": {},
   "source": [
    "# Active Points"
   ]
  },
  {
   "cell_type": "code",
   "execution_count": 126,
   "metadata": {},
   "outputs": [],
   "source": [
    "num_of_active_points = 100\n",
    "num_of_model_sources = 2\n",
    "ndim = 4*num_of_model_sources\n",
    "npix = 50\n",
    "#Save objects\n",
    "points = np.zeros((num_of_active_points,ndim))\n",
    "\n",
    "#log_likelihood of live objects\n",
    "log_like_of_live_points = np.zeros((num_of_active_points))\n",
    "\n",
    "\n",
    "#Generate Live objects\n",
    "for i in range(num_of_active_points):\n",
    "    points[i,:] = Cube_points(u=np.random.uniform(0,1.0,size=ndim))\n",
    "    model = Model_function(params=points[i,:],noise=Noise)\n",
    "    log_like_of_live_points[i] = Log_Likelihood(data=Source_Image,sigma=Noise,model=model)\n",
    " "
   ]
  },
  {
   "cell_type": "markdown",
   "metadata": {},
   "source": [
    "# Nest Init"
   ]
  },
  {
   "cell_type": "code",
   "execution_count": 127,
   "metadata": {},
   "outputs": [],
   "source": [
    "nest = 50000\n",
    "keep = np.zeros((nest,ndim))  #store bad points\n",
    "logl_sample = []     #Store Log-likelihood of samples\n",
    "X_sample = []        #Store prior mass\n",
    "   \n",
    "\n",
    "\n",
    "logWT = []  #Store  weight =width*likelihood\n",
    "\n",
    "\n",
    "logZ = -1e300     # SUM(weights)= Z Evidence\n",
    "H = 0\n",
    "\n",
    "\n",
    "mcmc_steps = 60"
   ]
  },
  {
   "cell_type": "markdown",
   "metadata": {},
   "source": [
    "# Main Nest"
   ]
  },
  {
   "cell_type": "code",
   "execution_count": 128,
   "metadata": {
    "scrolled": false
   },
   "outputs": [
    {
     "data": {
      "application/vnd.jupyter.widget-view+json": {
       "model_id": "577bbd9eb3c14d00902bb0db28601bb6",
       "version_major": 2,
       "version_minor": 0
      },
      "text/plain": [
       "IntProgress(value=0, bar_style='success', description='Loading:', max=50000)"
      ]
     },
     "metadata": {},
     "output_type": "display_data"
    },
    {
     "name": "stderr",
     "output_type": "stream",
     "text": [
      "IOPub message rate exceeded.\n",
      "The notebook server will temporarily stop sending output\n",
      "to the client in order to avoid crashing it.\n",
      "To change this limit, set the config variable\n",
      "`--NotebookApp.iopub_msg_rate_limit`.\n",
      "\n",
      "Current values:\n",
      "NotebookApp.iopub_msg_rate_limit=1000.0 (msgs/sec)\n",
      "NotebookApp.rate_limit_window=3.0 (secs)\n",
      "\n",
      "IOPub message rate exceeded.\n",
      "The notebook server will temporarily stop sending output\n",
      "to the client in order to avoid crashing it.\n",
      "To change this limit, set the config variable\n",
      "`--NotebookApp.iopub_msg_rate_limit`.\n",
      "\n",
      "Current values:\n",
      "NotebookApp.iopub_msg_rate_limit=1000.0 (msgs/sec)\n",
      "NotebookApp.rate_limit_window=3.0 (secs)\n",
      "\n",
      "IOPub message rate exceeded.\n",
      "The notebook server will temporarily stop sending output\n",
      "to the client in order to avoid crashing it.\n",
      "To change this limit, set the config variable\n",
      "`--NotebookApp.iopub_msg_rate_limit`.\n",
      "\n",
      "Current values:\n",
      "NotebookApp.iopub_msg_rate_limit=1000.0 (msgs/sec)\n",
      "NotebookApp.rate_limit_window=3.0 (secs)\n",
      "\n",
      "IOPub message rate exceeded.\n",
      "The notebook server will temporarily stop sending output\n",
      "to the client in order to avoid crashing it.\n",
      "To change this limit, set the config variable\n",
      "`--NotebookApp.iopub_msg_rate_limit`.\n",
      "\n",
      "Current values:\n",
      "NotebookApp.iopub_msg_rate_limit=1000.0 (msgs/sec)\n",
      "NotebookApp.rate_limit_window=3.0 (secs)\n",
      "\n",
      "IOPub message rate exceeded.\n",
      "The notebook server will temporarily stop sending output\n",
      "to the client in order to avoid crashing it.\n",
      "To change this limit, set the config variable\n",
      "`--NotebookApp.iopub_msg_rate_limit`.\n",
      "\n",
      "Current values:\n",
      "NotebookApp.iopub_msg_rate_limit=1000.0 (msgs/sec)\n",
      "NotebookApp.rate_limit_window=3.0 (secs)\n",
      "\n",
      "IOPub message rate exceeded.\n",
      "The notebook server will temporarily stop sending output\n",
      "to the client in order to avoid crashing it.\n",
      "To change this limit, set the config variable\n",
      "`--NotebookApp.iopub_msg_rate_limit`.\n",
      "\n",
      "Current values:\n",
      "NotebookApp.iopub_msg_rate_limit=1000.0 (msgs/sec)\n",
      "NotebookApp.rate_limit_window=3.0 (secs)\n",
      "\n",
      "IOPub message rate exceeded.\n",
      "The notebook server will temporarily stop sending output\n",
      "to the client in order to avoid crashing it.\n",
      "To change this limit, set the config variable\n",
      "`--NotebookApp.iopub_msg_rate_limit`.\n",
      "\n",
      "Current values:\n",
      "NotebookApp.iopub_msg_rate_limit=1000.0 (msgs/sec)\n",
      "NotebookApp.rate_limit_window=3.0 (secs)\n",
      "\n",
      "IOPub message rate exceeded.\n",
      "The notebook server will temporarily stop sending output\n",
      "to the client in order to avoid crashing it.\n",
      "To change this limit, set the config variable\n",
      "`--NotebookApp.iopub_msg_rate_limit`.\n",
      "\n",
      "Current values:\n",
      "NotebookApp.iopub_msg_rate_limit=1000.0 (msgs/sec)\n",
      "NotebookApp.rate_limit_window=3.0 (secs)\n",
      "\n",
      "IOPub message rate exceeded.\n",
      "The notebook server will temporarily stop sending output\n",
      "to the client in order to avoid crashing it.\n",
      "To change this limit, set the config variable\n",
      "`--NotebookApp.iopub_msg_rate_limit`.\n",
      "\n",
      "Current values:\n",
      "NotebookApp.iopub_msg_rate_limit=1000.0 (msgs/sec)\n",
      "NotebookApp.rate_limit_window=3.0 (secs)\n",
      "\n",
      "IOPub message rate exceeded.\n",
      "The notebook server will temporarily stop sending output\n",
      "to the client in order to avoid crashing it.\n",
      "To change this limit, set the config variable\n",
      "`--NotebookApp.iopub_msg_rate_limit`.\n",
      "\n",
      "Current values:\n",
      "NotebookApp.iopub_msg_rate_limit=1000.0 (msgs/sec)\n",
      "NotebookApp.rate_limit_window=3.0 (secs)\n",
      "\n",
      "IOPub message rate exceeded.\n",
      "The notebook server will temporarily stop sending output\n",
      "to the client in order to avoid crashing it.\n",
      "To change this limit, set the config variable\n",
      "`--NotebookApp.iopub_msg_rate_limit`.\n",
      "\n",
      "Current values:\n",
      "NotebookApp.iopub_msg_rate_limit=1000.0 (msgs/sec)\n",
      "NotebookApp.rate_limit_window=3.0 (secs)\n",
      "\n",
      "IOPub message rate exceeded.\n",
      "The notebook server will temporarily stop sending output\n",
      "to the client in order to avoid crashing it.\n",
      "To change this limit, set the config variable\n",
      "`--NotebookApp.iopub_msg_rate_limit`.\n",
      "\n",
      "Current values:\n",
      "NotebookApp.iopub_msg_rate_limit=1000.0 (msgs/sec)\n",
      "NotebookApp.rate_limit_window=3.0 (secs)\n",
      "\n"
     ]
    },
    {
     "name": "stdout",
     "output_type": "stream",
     "text": [
      "Evidence Z = -28898.655686603524 +-2.2463307103341044 : Information H = 504.60016601901225 \n",
      "time: 43.4565532207489\n"
     ]
    }
   ],
   "source": [
    "progressor = IntProgress(\n",
    "    value=0,\n",
    "    min=0,\n",
    "    max=nest,\n",
    "    step=1,\n",
    "    description='Loading:',\n",
    "    bar_style='success',\n",
    "    orientation='horizontal'\n",
    ") # instantiate the bar\n",
    "display(progressor)\n",
    "## MAIN NS LOOP##\n",
    "\n",
    "#Outer interval \n",
    "logw = np.log(1.0 - np.exp(-1.0 / num_of_active_points))\n",
    "\n",
    "start = time.time()\n",
    "for i in range(nest):\n",
    "    # Draw worst object with L* from n points\n",
    "    worst = np.argmin(log_like_of_live_points)\n",
    "    \n",
    "    #Save worst opbject\n",
    "    keep[i,:] = points[worst]\n",
    "    logl_sample.append(log_like_of_live_points[worst])\n",
    "    \n",
    "    #Save prior mass\n",
    "    X_sample.append(logw)\n",
    "    \n",
    "    #Weight\n",
    "    logwt = logw + log_like_of_live_points[worst]\n",
    "    \n",
    "    \n",
    "    #Save weight\n",
    "    logWT.append(logwt)\n",
    "    \n",
    "    #Update Evidence Z\n",
    "    logZnew = log_plus(logZ,logwt)   #np.logaddexp(logZ,logwt)     #CHANGED THIS LINE\n",
    "    \n",
    "    #Update H information\n",
    "    H = np.exp(logwt-logZnew)*log_like_of_live_points[worst] \\\n",
    "    +np.exp(logZ-logZnew)*(H+logZ)-logZnew\n",
    "    \n",
    "    #Update logZ\n",
    "    logZ = logZnew\n",
    "    #Shrink interval\n",
    "    logw -= 1.0/num_of_active_points\n",
    "    \n",
    "\n",
    "    while True:#----copy a random point and do mcmc from there-----\n",
    "        copy = np.random.randint(len(points))\n",
    "        if (copy != worst):break\n",
    "            \n",
    "    points[worst] = Makecopy.deepcopy(points[copy])\n",
    "    log_Likelihood_old =  log_like_of_live_points[copy]\n",
    "    \n",
    "    theta = points[copy]\n",
    "    \n",
    "    #UNIT TEST check for correct shape\n",
    "    assert theta.shape == (ndim,)\n",
    "    \n",
    "   # initialize mcmc params\n",
    "    \n",
    "    scale = 1.0\n",
    "    accept = 0\n",
    "    reject = 0\n",
    "   # for mcmci in range(mcmc_steps):  #Evolve within current worst likelihood L>L* , draw new point under constraint\n",
    "    while True:   \n",
    "        propose_step = np.random.normal(0,scale=scale,size=ndim)\n",
    "        new_point = theta + propose_step\n",
    "        \n",
    "        #Make all Amp == R_constant\n",
    "        new_point_reshape = np.reshape(new_point,(int(len(new_point)/4),4))\n",
    "        new_point_reshape[:,-2] = 4\n",
    "        \n",
    "        new_point = new_point_reshape.flatten()\n",
    "        ##############################################################################\n",
    "        #np.seterr(divide='ignore')\n",
    "\n",
    "        #Calculate Log_likelihood of new point\n",
    "        model = Model_function(params=new_point,noise=Noise)\n",
    "        \n",
    "        #Prior_current and Prior_old\n",
    "        \n",
    "        Prior_current = prior(new_point,num_of_model_sources)\n",
    "        Prior_old     = prior(theta,num_of_model_sources)\n",
    "        \n",
    "        \n",
    "        #Posterior_current and Posterior_old\n",
    "        Log_Like_new = Log_Likelihood(data=Source_Image,sigma=Noise,model=model)\n",
    "        \n",
    "      \n",
    "        Posterior_current = Log_Like_new + np.log(Prior_current)\n",
    "        \n",
    "        Posterior_old = log_Likelihood_old + np.log(Prior_old)\n",
    "       \n",
    "    ##################################################################################################\n",
    "        #Acceptance ratio alpha\n",
    "        alpha = np.exp(Posterior_current-Posterior_old)\n",
    "        \n",
    "    \n",
    "        if alpha>=1:\n",
    "            points[worst,:] = new_point  #Replace worst point with new point\n",
    "            log_like_of_live_points[worst] = Log_Like_new   #Replace the worst likelihood with new one  \n",
    "            accept += 1\n",
    "            break\n",
    "            \n",
    "        else:\n",
    "            u = np.random.uniform()\n",
    "            if u <= alpha :\n",
    "                points[worst,:] = new_point \n",
    "                log_like_of_live_points[worst] = Log_Like_new\n",
    "                accept += 1\n",
    "                break  \n",
    "                \n",
    "            else:\n",
    "                theta = theta\n",
    "                reject +=1\n",
    "                \n",
    "        #Changing the scale\n",
    "        if accept > reject:\n",
    "            scale *= np.exp(1./accept)\n",
    "        if accept < reject:\n",
    "            scale /= np.exp(1./reject)\n",
    "\n",
    "    \n",
    "    #Acceptance_Ratio = accept/(accept+reject)\n",
    "    #Acceptance[i] =  Acceptance_Ratio\n",
    "    \n",
    "    progressor.value += 1\n",
    "    \n",
    "                \n",
    "    if i > nest*np.exp(H)/np.log(2.):\n",
    "        #print(\"ok\")\n",
    "        \n",
    "        break\n",
    "\n",
    "end = time.time()\n",
    "if progressor.value == progressor.max:\n",
    "    progressor.description = \"Done!\"\n",
    "    \n",
    "Z = logZ\n",
    "Z_err = np.sqrt((H)/num_of_active_points)\n",
    "H =  H       #np.exp(H)/np.log(2.)\n",
    "#print(\"Acceptance Ratio :\",Acceptance_Ratio)\n",
    "print('Evidence Z = {0} +-{1} : Information H = {2} '.format(Z,Z_err,H))\n",
    "print('time:',end-start)"
   ]
  },
  {
   "cell_type": "code",
   "execution_count": 129,
   "metadata": {
    "scrolled": true
   },
   "outputs": [
    {
     "data": {
      "text/plain": [
       "Text(0,0.5,'LogL')"
      ]
     },
     "execution_count": 129,
     "metadata": {},
     "output_type": "execute_result"
    },
    {
     "data": {
      "image/png": "[encoded data removed]",
      "text/plain": [
       "<Figure size 432x288 with 1 Axes>"
      ]
     },
     "metadata": {
      "needs_background": "light"
     },
     "output_type": "display_data"
    }
   ],
   "source": [
    "plt.plot(X_sample,logl_sample)\n",
    "plt.xlabel('LogX')\n",
    "plt.ylabel('LogL')"
   ]
  },
  {
   "cell_type": "code",
   "execution_count": 130,
   "metadata": {},
   "outputs": [
    {
     "name": "stdout",
     "output_type": "stream",
     "text": [
      "Effective Sample Size : 1\n"
     ]
    },
    {
     "data": {
      "application/vnd.jupyter.widget-view+json": {
       "model_id": "bac2138056534e4583a676f3f04096a5",
       "version_major": 2,
       "version_minor": 0
      },
      "text/plain": [
       "IntProgress(value=0, bar_style='success', description='Loading:', max=1)"
      ]
     },
     "metadata": {},
     "output_type": "display_data"
    },
    {
     "ename": "KeyboardInterrupt",
     "evalue": "",
     "output_type": "error",
     "traceback": [
      "\u001b[0;31m---------------------------------------------------------------------------\u001b[0m",
      "\u001b[0;31mKeyboardInterrupt\u001b[0m                         Traceback (most recent call last)",
      "\u001b[0;32m<ipython-input-130-0642eecdf2c5>\u001b[0m in \u001b[0;36m<module>\u001b[0;34m()\u001b[0m\n\u001b[1;32m     27\u001b[0m     \u001b[0mrnd_point\u001b[0m \u001b[0;34m=\u001b[0m \u001b[0mnp\u001b[0m\u001b[0;34m.\u001b[0m\u001b[0mrandom\u001b[0m\u001b[0;34m.\u001b[0m\u001b[0mrandint\u001b[0m\u001b[0;34m(\u001b[0m\u001b[0mlen\u001b[0m\u001b[0;34m(\u001b[0m\u001b[0mkeep\u001b[0m\u001b[0;34m)\u001b[0m\u001b[0;34m)\u001b[0m\u001b[0;34m\u001b[0m\u001b[0m\n\u001b[1;32m     28\u001b[0m     \u001b[0;31m#proba = prob_weighted[rnd_point]/max(prob_weighted)\u001b[0m\u001b[0;34m\u001b[0m\u001b[0;34m\u001b[0m\u001b[0m\n\u001b[0;32m---> 29\u001b[0;31m     \u001b[0mproba\u001b[0m \u001b[0;34m=\u001b[0m \u001b[0mWeights\u001b[0m\u001b[0;34m[\u001b[0m\u001b[0mrnd_point\u001b[0m\u001b[0;34m]\u001b[0m\u001b[0;34m/\u001b[0m\u001b[0mmax\u001b[0m\u001b[0;34m(\u001b[0m\u001b[0mWeights\u001b[0m\u001b[0;34m)\u001b[0m\u001b[0;34m\u001b[0m\u001b[0m\n\u001b[0m\u001b[1;32m     30\u001b[0m \u001b[0;34m\u001b[0m\u001b[0m\n\u001b[1;32m     31\u001b[0m     \u001b[0;32mif\u001b[0m \u001b[0mnp\u001b[0m\u001b[0;34m.\u001b[0m\u001b[0mrandom\u001b[0m\u001b[0;34m.\u001b[0m\u001b[0mrand\u001b[0m\u001b[0;34m(\u001b[0m\u001b[0;34m)\u001b[0m \u001b[0;34m<\u001b[0m \u001b[0mproba\u001b[0m\u001b[0;34m:\u001b[0m\u001b[0;34m\u001b[0m\u001b[0m\n",
      "\u001b[0;31mKeyboardInterrupt\u001b[0m: "
     ]
    }
   ],
   "source": [
    "#Normalized samples\n",
    "wt = np.exp((logWT)-max(logWT))\n",
    "Weights = wt/sum(wt)\n",
    "\n",
    "#Effective sample size\n",
    "effective_sample_size = int(np.exp(-np.sum(Weights*np.log(Weights+1e-300))))\n",
    "S = 0\n",
    "sample = np.zeros((effective_sample_size,ndim))\n",
    "\n",
    "\n",
    "print('Effective Sample Size : {}'.format(effective_sample_size))\n",
    "\n",
    "#Progress bar\n",
    "progressor_samples = IntProgress(\n",
    "    value=0,\n",
    "    min=0,\n",
    "    max=effective_sample_size,\n",
    "    step=1,\n",
    "    description='Loading:',\n",
    "    bar_style='success',\n",
    "    orientation='horizontal'\n",
    ") # instantiate the bar\n",
    "display(progressor_samples)\n",
    "\n",
    "# Selecting the Effective sample\n",
    "while True:\n",
    "    rnd_point = np.random.randint(len(keep))\n",
    "    #proba = prob_weighted[rnd_point]/max(prob_weighted)\n",
    "    proba = Weights[rnd_point]/max(Weights)\n",
    "\n",
    "    if np.random.rand() < proba:\n",
    "        sample[S,:] = keep[rnd_point,:]\n",
    "        \n",
    "        S += 1\n",
    "        progressor_samples.value += 1\n",
    "    if S >= effective_sample_size:\n",
    "        break\n"
   ]
  },
  {
   "cell_type": "code",
   "execution_count": 68,
   "metadata": {},
   "outputs": [
    {
     "data": {
      "image/png": "[encoded data removed]",
      "text/plain": [
       "<Figure size 1080x720 with 8 Axes>"
      ]
     },
     "metadata": {
      "needs_background": "light"
     },
     "output_type": "display_data"
    }
   ],
   "source": [
    "plt.figure(figsize=(15,10))\n",
    "\n",
    "ndim = 4*num_of_model_sources\n",
    "#labels = ['x','y','a','x$_{1}$','y$_{1}$','a$_{1}$']\n",
    "#truth =  [32.4,18.82,9.03,120.5,129.3,13.15]\n",
    "for i in range(ndim):\n",
    "    plt.subplot(4,4,i+1)\n",
    "    plt.hist(sample[:,i],histtype=\"step\")\n",
    "    #plt.xlabel(labels[i])\n",
    "    plt.ylabel('Counts')\n",
    "    #plt.axvline(truth[i])\n",
    "\n",
    "plt.tight_layout()\n",
    "    "
   ]
  },
  {
   "cell_type": "code",
   "execution_count": 74,
   "metadata": {},
   "outputs": [
    {
     "data": {
      "text/plain": [
       "(4767, 8)"
      ]
     },
     "execution_count": 74,
     "metadata": {},
     "output_type": "execute_result"
    }
   ],
   "source": [
    "sample.shape"
   ]
  },
  {
   "cell_type": "code",
   "execution_count": null,
   "metadata": {},
   "outputs": [],
   "source": []
  }
 ],
 "metadata": {
  "kernelspec": {
   "display_name": "Python 3",
   "language": "python",
   "name": "python3"
  },
  "language_info": {
   "codemirror_mode": {
    "name": "ipython",
    "version": 3
   },
   "file_extension": ".py",
   "mimetype": "text/x-python",
   "name": "python",
   "nbconvert_exporter": "python",
   "pygments_lexer": "ipython3",
   "version": "3.7.0"
  }
 },
 "nbformat": 4,
 "nbformat_minor": 2
}
