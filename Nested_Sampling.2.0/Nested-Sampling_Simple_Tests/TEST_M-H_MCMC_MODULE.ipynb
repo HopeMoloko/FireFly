{
 "cells": [
  {
   "cell_type": "code",
   "execution_count": 1,
   "metadata": {},
   "outputs": [
    {
     "data": {
      "text/html": [
       "\n",
       "<style>\n",
       "\n",
       "div.cell { /* Tunes the space between cells */\n",
       "margin-top:1em;\n",
       "margin-bottom:1em;\n",
       "}\n",
       "\n",
       "div.text_cell_render h1 { /* Main titles bigger, centered */\n",
       "font-size: 2.2em;\n",
       "line-height:1.4em;\n",
       "text-align:center;\n",
       "}\n",
       "\n",
       "\n",
       "div.text_cell_render h2 { /*  Parts names nearer from text */\n",
       "margin-bottom: -0.4em;\n",
       "}\n",
       "\n",
       "\n",
       "div.text_cell_render { /* Customize text cells */\n",
       "font-family: 'Times New Roman';\n",
       ".3\n",
       "font-size:1.5em;\n",
       "line-height:1.4em;\n",
       "padding-left:3em;\n",
       "padding-right:3em;\n",
       "}\n",
       "</style>\n"
      ],
      "text/plain": [
       "<IPython.core.display.HTML object>"
      ]
     },
     "execution_count": 1,
     "metadata": {},
     "output_type": "execute_result"
    }
   ],
   "source": [
    "from IPython.core.display import HTML\n",
    "HTML(\"\"\"\n",
    "<style>\n",
    "\n",
    "div.cell { /* Tunes the space between cells */\n",
    "margin-top:1em;\n",
    "margin-bottom:1em;\n",
    "}\n",
    "\n",
    "div.text_cell_render h1 { /* Main titles bigger, centered */\n",
    "font-size: 2.2em;\n",
    "line-height:1.4em;\n",
    "text-align:center;\n",
    "}\n",
    "\n",
    "\n",
    "div.text_cell_render h2 { /*  Parts names nearer from text */\n",
    "margin-bottom: -0.4em;\n",
    "}\n",
    "\n",
    "\n",
    "div.text_cell_render { /* Customize text cells */\n",
    "font-family: 'Times New Roman';\n",
    ".3\n",
    "font-size:1.5em;\n",
    "line-height:1.4em;\n",
    "padding-left:3em;\n",
    "padding-right:3em;\n",
    "}\n",
    "</style>\n",
    "\"\"\")"
   ]
  },
  {
   "cell_type": "markdown",
   "metadata": {},
   "source": [
    "# Objectives\n",
    "\n",
    "In this note book, I am testing M-H MCMC module.\n",
    "\n",
    "   - import Metropolis_Hasting as MCMC\n",
    "   - Using the same exercise in the notebook : Test_NS_with_simple_Gaussian1.0"
   ]
  },
  {
   "cell_type": "code",
   "execution_count": 2,
   "metadata": {},
   "outputs": [],
   "source": [
    "########################Import Modules##########################################\n",
    "import numpy as np\n",
    "import matplotlib.pyplot as plt\n",
    "import pandas as pd\n",
    "import scipy.stats as stats\n",
    "import corner\n",
    "import copy as duplicate\n",
    "import time\n",
    "from matplotlib import colors\n",
    "import scipy as sp\n",
    "\n",
    "####Import test mcmc module\n",
    "\n",
    "import Metropolis_Hasting_3_0T as MH3\n",
    "import Functions as F\n",
    "\n",
    "from ipywidgets import IntProgress\n",
    "from IPython.display import display\n",
    "\n",
    "from mpl_toolkits.axes_grid1 import make_axes_locatable\n",
    "\n",
    "from matplotlib.patches import Ellipse\n",
    "from matplotlib.collections import PatchCollection\n",
    "\n",
    "#####################################"
   ]
  },
  {
   "cell_type": "markdown",
   "metadata": {},
   "source": [
    "# Likelihood\n",
    "\n",
    "TODO: I define a Gaussian log-likelihood function given by;\n",
    "\n",
    "$$\\log{L} = {\\log{(\\frac{1}{\\sqrt{2\\pi\\sigma^{2}}}})}  {-\\frac{(\\mu_{0} - \\mu)^{2}}{2\\sigma^{2}}}$$"
   ]
  },
  {
   "cell_type": "code",
   "execution_count": 3,
   "metadata": {},
   "outputs": [],
   "source": [
    "def logLikelihood(mu,args):\n",
    "    \n",
    "    \"\"\"Simple gaussian Likelihood\n",
    "    \n",
    "    Parameters\n",
    "    --------------\n",
    "    mu_true : scalar\n",
    "            True mean value\n",
    "    mu     : scalar\n",
    "            sampled mu\n",
    "    \n",
    "    *args : list\n",
    "            Likelihood extra arguments\n",
    "    \"\"\"\n",
    "    \n",
    "    mu_value = args[0]\n",
    "    \n",
    "    \n",
    "    L = (1/np.sqrt(2*np.pi)*np.exp(-(mu_value-mu)**2))\n",
    "    \n",
    "    return np.log(L)"
   ]
  },
  {
   "cell_type": "code",
   "execution_count": 4,
   "metadata": {},
   "outputs": [],
   "source": [
    "def generate_uniform_values():\n",
    "    \"\"\"Generate uniform y values between 0,10\"\"\"\n",
    "    mu = sp.stats.uniform.rvs(0,10)\n",
    "    \n",
    "    return mu"
   ]
  },
  {
   "cell_type": "markdown",
   "metadata": {},
   "source": [
    "# Prior on $\\mu$\n",
    "TODO : Define function of prior on $\\mu$\n",
    "\n",
    "The prior on $\\mu$ is a flat prior.\n",
    "                \n",
    "$$P(\\mu) = \\frac{1}{\\mu_{upper}-\\mu_{lower}}$$"
   ]
  },
  {
   "cell_type": "code",
   "execution_count": 5,
   "metadata": {},
   "outputs": [],
   "source": [
    "def Prior(mu,args):\n",
    "    \n",
    "    \n",
    "    \"\"\"Evaluate the prior probability of mu\n",
    "    \n",
    "    Parameters\n",
    "    \n",
    "    ----------------\n",
    "    \n",
    "    mu : scalar\n",
    "            mean\n",
    "            \n",
    "    mu_limits: list or array \n",
    "            The limits of mu\n",
    "            \n",
    "    *args : list\n",
    "            prior extra arguments\n",
    "    \n",
    "    ----------------\n",
    "     output: scalar\n",
    "            The log Prior of mu.\n",
    "    \n",
    "    \"\"\"\n",
    "    \n",
    "    mulimits = args[0]\n",
    "    #If position is out of limits discard \n",
    "    if (mu < mulimits[0]) | (mu > mulimits[1]):  \n",
    "        mu_prior = 0.0\n",
    "    else:\n",
    "        mu_prior = 1.0\n",
    "    \n",
    "    return mu_prior"
   ]
  },
  {
   "cell_type": "code",
   "execution_count": 6,
   "metadata": {},
   "outputs": [],
   "source": [
    "# Useful function #Compute the log of the sum of exponentials of input elements.\n",
    "# OR from scipy.misc import logsumexp \n",
    "\n",
    "def logsumexp(values):\n",
    "    biggest = np.max(values)\n",
    "    x = values - biggest\n",
    "    result = np.log(np.sum(np.exp(x))) + biggest\n",
    "    return result\n"
   ]
  },
  {
   "cell_type": "markdown",
   "metadata": {},
   "source": [
    "## Simple Gaussian function with $\\mu$ = 5 and $\\sigma$ = 1"
   ]
  },
  {
   "cell_type": "code",
   "execution_count": 2,
   "metadata": {},
   "outputs": [
    {
     "ename": "NameError",
     "evalue": "name 'np' is not defined",
     "output_type": "error",
     "traceback": [
      "\u001b[0;31m---------------------------------------------------------------------------\u001b[0m",
      "\u001b[0;31mNameError\u001b[0m                                 Traceback (most recent call last)",
      "\u001b[0;32m<ipython-input-2-f4235f7bd90f>\u001b[0m in \u001b[0;36m<module>\u001b[0;34m()\u001b[0m\n\u001b[0;32m----> 1\u001b[0;31m \u001b[0mx_vals\u001b[0m \u001b[0;34m=\u001b[0m \u001b[0mnp\u001b[0m\u001b[0;34m.\u001b[0m\u001b[0mlinspace\u001b[0m\u001b[0;34m(\u001b[0m\u001b[0;36m0\u001b[0m\u001b[0;34m,\u001b[0m\u001b[0;36m10\u001b[0m\u001b[0;34m)\u001b[0m\u001b[0;34m\u001b[0m\u001b[0m\n\u001b[0m\u001b[1;32m      2\u001b[0m \u001b[0my_vals\u001b[0m \u001b[0;34m=\u001b[0m \u001b[0;34m(\u001b[0m\u001b[0;36m1\u001b[0m\u001b[0;34m/\u001b[0m\u001b[0mnp\u001b[0m\u001b[0;34m.\u001b[0m\u001b[0msqrt\u001b[0m\u001b[0;34m(\u001b[0m\u001b[0;36m2\u001b[0m\u001b[0;34m*\u001b[0m\u001b[0mnp\u001b[0m\u001b[0;34m.\u001b[0m\u001b[0mpi\u001b[0m\u001b[0;34m)\u001b[0m\u001b[0;34m)\u001b[0m\u001b[0;34m*\u001b[0m\u001b[0mnp\u001b[0m\u001b[0;34m.\u001b[0m\u001b[0mexp\u001b[0m\u001b[0;34m(\u001b[0m\u001b[0;34m-\u001b[0m\u001b[0;34m(\u001b[0m\u001b[0mx_vals\u001b[0m\u001b[0;34m-\u001b[0m\u001b[0;36m5\u001b[0m\u001b[0;34m)\u001b[0m\u001b[0;34m**\u001b[0m\u001b[0;36m2\u001b[0m\u001b[0;34m)\u001b[0m \u001b[0;31m#+ (1/np.sqrt(2*np.pi))*np.exp(-(x_vals-8)**2)\u001b[0m\u001b[0;34m\u001b[0m\u001b[0m\n\u001b[1;32m      3\u001b[0m \u001b[0;34m\u001b[0m\u001b[0m\n\u001b[1;32m      4\u001b[0m \u001b[0mplt\u001b[0m\u001b[0;34m.\u001b[0m\u001b[0mplot\u001b[0m\u001b[0;34m(\u001b[0m\u001b[0mx_vals\u001b[0m\u001b[0;34m,\u001b[0m\u001b[0my_vals\u001b[0m\u001b[0;34m)\u001b[0m\u001b[0;34m\u001b[0m\u001b[0m\n\u001b[1;32m      5\u001b[0m \u001b[0mplt\u001b[0m\u001b[0;34m.\u001b[0m\u001b[0mxlabel\u001b[0m\u001b[0;34m(\u001b[0m\u001b[0;34m'$\\mu$'\u001b[0m\u001b[0;34m)\u001b[0m\u001b[0;34m\u001b[0m\u001b[0m\n",
      "\u001b[0;31mNameError\u001b[0m: name 'np' is not defined"
     ]
    }
   ],
   "source": [
    "x_vals = np.linspace(0,10)\n",
    "y_vals = (1/np.sqrt(2*np.pi))*np.exp(-(x_vals-5)**2) #+ (1/np.sqrt(2*np.pi))*np.exp(-(x_vals-8)**2)\n",
    "\n",
    "plt.plot(x_vals,y_vals)\n",
    "plt.xlabel('$\\mu$')"
   ]
  },
  {
   "cell_type": "markdown",
   "metadata": {},
   "source": [
    "# Generate walkers"
   ]
  },
  {
   "cell_type": "code",
   "execution_count": 28,
   "metadata": {},
   "outputs": [],
   "source": [
    "# Generate walkers\n",
    "N = 550\n",
    "particles = []\n",
    "\n",
    "#LIMITS of mu\n",
    "mulimits = np.array([0,10])\n",
    "mu_value = np.array([5])\n",
    "\n",
    "#Likelihood function arguments\n",
    "args_loglike = [mu_value]\n",
    "\n",
    "#Prior function arguments\n",
    "args_prior = [mulimits]\n",
    "\n",
    "logl = np.array([])\n",
    "logp = np.array([])\n",
    "\n",
    "for i in range(0, N):\n",
    "    mu_val = generate_uniform_values()\n",
    "    particles.append(mu_val)\n",
    "    logl = np.append(logl,logLikelihood(mu_val,args_loglike)) \n",
    "    logp = np.append(logp,Prior(mu_val,args_prior))"
   ]
  },
  {
   "cell_type": "code",
   "execution_count": 29,
   "metadata": {},
   "outputs": [],
   "source": [
    "# Number of NS iterations\n",
    "nest_steps = 5000\n",
    "\n",
    "# MCMC steps per NS iteration\n",
    "mcmc_steps = 100\n",
    "\n",
    "# mcmc stepsize\n",
    "mustep = 0.4\n",
    "stepsize = np.array([mustep])\n",
    "\n",
    "#Number of parameters\n",
    "num_params = 1\n",
    "\n",
    "\n",
    "\n",
    "# Storage for results\n",
    "keep = np.empty((nest_steps, num_params + 1))\n",
    "\n",
    "nacceptance = np.array([])\n",
    "nrejectance = np.zeros(nest_steps)\n",
    "\n"
   ]
  },
  {
   "cell_type": "markdown",
   "metadata": {},
   "source": [
    "# Main Nest"
   ]
  },
  {
   "cell_type": "code",
   "execution_count": 30,
   "metadata": {},
   "outputs": [],
   "source": [
    "for i in range(nest_steps):\n",
    "    \n",
    "    # Particle with worst likelihood\n",
    "    worst = np.argmin(logl)   \n",
    "    \n",
    "    # Save the details of the worst particle, (likelihood)\n",
    "    keep[i,:-1] = particles[worst] \n",
    "    keep[i,-1] = logl[worst]\n",
    "    \n",
    "    # Copy random survivor\n",
    "    #----copy a random point and do mcmc from there-----\n",
    "    while True:\n",
    "        copy = np.random.randint(len(particles))\n",
    "        if (copy != worst):break\n",
    "            \n",
    "    # Throw away worst particle and replace with random particle \n",
    "    #and do mcmc from the random particle (will change with new sample)\n",
    "    particles[worst] = duplicate.deepcopy(particles[copy]) \n",
    "    \n",
    "    particle_new_copy =  particles[copy]\n",
    "    # Likelihood of worst point\n",
    "    loglstar = duplicate.deepcopy(logl[copy])\n",
    "    logpstar = logp[copy]\n",
    "    \n",
    "    \n",
    "    theta = np.array([particle_new_copy])\n",
    "    \n",
    "    #Do mcmc on the survivor particle\n",
    "    chain_particle , chain_loglike , chain_prior , Acceptance_R = MH3.MH_mcmc(logLikelihood,Prior,\\\n",
    "                                                    theta,args_loglike,args_prior,mcmc_steps,stepsize)\n",
    "    if chain_loglike[-1]>loglstar:\n",
    "        logl[worst]      = chain_loglike[-1]\n",
    "        particles[worst] = chain_particle[-1]\n",
    "        logp[worst]      = chain_prior[-1]\n",
    "\n",
    "        #Save acceptance ratio for each mcmc\n",
    "        nacceptance = np.append(nacceptance,Acceptance_R)\n",
    "\n",
    "#Prior Mass    \n",
    "# evalute prior mass\n",
    "logX = -(np.arange(0, (nest_steps))+ 1.)/N  "
   ]
  },
  {
   "cell_type": "markdown",
   "metadata": {},
   "source": [
    "# Acceptance Ratio"
   ]
  },
  {
   "cell_type": "code",
   "execution_count": 31,
   "metadata": {},
   "outputs": [
    {
     "data": {
      "text/plain": [
       "Text(0,0.5,'Acceptance Ratio')"
      ]
     },
     "execution_count": 31,
     "metadata": {},
     "output_type": "execute_result"
    },
    {
     "data": {
      "image/png": "[encoded data removed]",
      "text/plain": [
       "<Figure size 1080x720 with 1 Axes>"
      ]
     },
     "metadata": {
      "needs_background": "light"
     },
     "output_type": "display_data"
    }
   ],
   "source": [
    "plt.figure(figsize=(15,10))\n",
    "plt.plot(nacceptance,'o')\n",
    "plt.ylabel('Acceptance Ratio')"
   ]
  },
  {
   "cell_type": "code",
   "execution_count": 32,
   "metadata": {},
   "outputs": [
    {
     "data": {
      "text/plain": [
       "Text(0.5,0,'$\\\\log(X)$')"
      ]
     },
     "execution_count": 32,
     "metadata": {},
     "output_type": "execute_result"
    },
    {
     "data": {
      "image/png": "[encoded data removed]",
      "text/plain": [
       "<Figure size 864x720 with 2 Axes>"
      ]
     },
     "metadata": {
      "needs_background": "light"
     },
     "output_type": "display_data"
    }
   ],
   "source": [
    "#Visualize Likelihood vs Prior Mass\n",
    "\n",
    "plt.figure(figsize=(12,10))\n",
    "plt.subplot(2,1,1)\n",
    "plt.plot(logX, keep[0:(nest_steps), -1], 'bo')\n",
    "plt.ylabel('$\\\\log(L)$')\n",
    "plt.xlabel('$log(X)$')\n",
    "\n",
    "\n",
    "\n",
    "plt.subplot(2,1,2)\n",
    "\n",
    "#Posterior weights\n",
    "\n",
    "logwt = logX.copy() + keep[0:(nest_steps), -1]\n",
    "\n",
    "# Normalised posterior weights\n",
    "wt = np.exp(logwt - logwt.max())              \n",
    "plt.plot(logX, wt, 'bo-')\n",
    "plt.ylabel('Posterior weights (relative)')\n",
    "plt.xlabel('$\\\\log(X)$')"
   ]
  },
  {
   "cell_type": "code",
   "execution_count": 33,
   "metadata": {},
   "outputs": [
    {
     "name": "stdout",
     "output_type": "stream",
     "text": [
      "logZ = -2.5888182890982927 \n",
      "Information = 1.094333350854495\n",
      "Effective Sample Size = 2072\n"
     ]
    }
   ],
   "source": [
    "# Prior weights\n",
    "logw = logX.copy()\n",
    "# Normalise them\n",
    "logw -= logsumexp(logw)  \n",
    "\n",
    "# Calculate marginal likelihood\n",
    "logZ = logsumexp(logw + keep[:,-1])\n",
    "\n",
    "# Normalised posterior weights\n",
    "wt = wt/wt.sum()\n",
    "\n",
    "effective_sample_size = int(np.exp(-np.sum(wt*np.log(wt + 1E-300))))\n",
    "\n",
    "# Calculate information\n",
    "H = np.sum(wt*(keep[:,-1] - logZ))\n",
    "\n",
    "print('logZ = {logZ} '.format(logZ=logZ))\n",
    "print('Information = {H}'.format(H=H))\n",
    "print('Effective Sample Size = {ess}'.format(ess=effective_sample_size))"
   ]
  },
  {
   "cell_type": "markdown",
   "metadata": {},
   "source": [
    "# Analytic Solution for Z"
   ]
  },
  {
   "cell_type": "markdown",
   "metadata": {},
   "source": [
    "$$ Z = \\int_{0}^{10}L(\\theta)\\pi(\\theta)d\\theta$$\n",
    "$$ = \\int_{0}^{10}\\frac{exp(-\\theta-5)^{2}}{10\\sqrt(2\\pi)}d\\theta $$\n",
    "$$ = \\frac{erf(5)}{10\\sqrt(2)}$$\n",
    "\n",
    "$$ Z_{analytic} = 0.0707$$\n"
   ]
  },
  {
   "cell_type": "markdown",
   "metadata": {},
   "source": [
    "# Comparison of the LogZ from Nested sampling and the Analytical solution"
   ]
  },
  {
   "cell_type": "code",
   "execution_count": 34,
   "metadata": {
    "scrolled": false
   },
   "outputs": [
    {
     "name": "stdout",
     "output_type": "stream",
     "text": [
      "LogZ_nest  = -2.5888182890982927\n",
      "\n",
      "LogZ_analytic = -2.64930970607961\n"
     ]
    }
   ],
   "source": [
    "print(\"LogZ_nest  = \" + str(logZ) + \"\\n\\n\" +\"LogZ_analytic = \"+ str(np.log(0.0707)))"
   ]
  },
  {
   "cell_type": "markdown",
   "metadata": {},
   "source": [
    "# Posterior"
   ]
  },
  {
   "cell_type": "code",
   "execution_count": 35,
   "metadata": {},
   "outputs": [],
   "source": [
    "posterior_samples = np.empty((effective_sample_size, keep.shape[1]))\n",
    "logX_effective = np.empty(effective_sample_size)\n",
    "k = 0\n",
    "while True:\n",
    "  # Choose one of the samples\n",
    "    which = np.random.randint(keep.shape[0])\n",
    "\n",
    "  # Acceptance probability\n",
    "    prob = wt[which]/wt.max()\n",
    "\n",
    "    if np.random.rand() <= prob:\n",
    "        posterior_samples[k, :] = keep[which, :]\n",
    "        logX_effective[k] = logX[k]\n",
    "        k += 1\n",
    "\n",
    "    if k >= effective_sample_size:\n",
    "        break\n",
    "\n",
    "#np.savetxt('keep_Many.txt', posterior_samples)"
   ]
  },
  {
   "cell_type": "code",
   "execution_count": 36,
   "metadata": {},
   "outputs": [
    {
     "data": {
      "image/png": "[encoded data removed]",
      "text/plain": [
       "<Figure size 244.8x244.8 with 1 Axes>"
      ]
     },
     "metadata": {
      "needs_background": "light"
     },
     "output_type": "display_data"
    }
   ],
   "source": [
    "Fig = corner.corner(posterior_samples[:,:-1], labels=['$\\mu$'],bins=20,show_titles=True,color='b',smooth=1.0);"
   ]
  },
  {
   "cell_type": "code",
   "execution_count": 37,
   "metadata": {},
   "outputs": [
    {
     "name": "stderr",
     "output_type": "stream",
     "text": [
      "/home/hope-moloko/anaconda3/lib/python3.7/site-packages/matplotlib/axes/_axes.py:6571: UserWarning: The 'normed' kwarg is deprecated, and has been replaced by the 'density' kwarg.\n",
      "  warnings.warn(\"The 'normed' kwarg is deprecated, and has been \"\n"
     ]
    },
    {
     "data": {
      "text/plain": [
       "Text(0.7,0.9,'Blue Histogram : NS Posterior \\n\\n Orange : True Posterior ')"
      ]
     },
     "execution_count": 37,
     "metadata": {},
     "output_type": "execute_result"
    },
    {
     "data": {
      "image/png": "[encoded data removed]",
      "text/plain": [
       "<Figure size 720x576 with 1 Axes>"
      ]
     },
     "metadata": {
      "needs_background": "light"
     },
     "output_type": "display_data"
    }
   ],
   "source": [
    "plt.figure(figsize=(10,8))\n",
    "plt.hist(posterior_samples[:,:-1],normed=True,histtype='step');\n",
    "plt.plot(x_vals,y_vals)\n",
    "plt.xlabel('$\\mu$')\n",
    "plt.annotate(\"Blue Histogram : NS Posterior \\n\\n Orange : True Posterior \",xy=(0.7,0.9),xycoords=\"axes fraction\")\n"
   ]
  },
  {
   "cell_type": "markdown",
   "metadata": {},
   "source": [
    "# LogZ Distribution"
   ]
  },
  {
   "cell_type": "code",
   "execution_count": 38,
   "metadata": {},
   "outputs": [],
   "source": [
    "logZ_distribution = []  #Empty list to store logZ\n",
    "NZ = 5000               # LlogZ sample size\n",
    "\n",
    "for i in range(NZ):   # Samples size\n",
    "    uniform_numbers = np.log(np.random.uniform(0,1,len(keep[:,-1])))  #Generate log uniform numbers (log space)\n",
    "    number_new = 0                                                    #initialize number\n",
    "    logX_mass = []                                                    #store each prior mass\n",
    "\n",
    "    for number in uniform_numbers:                                    # for each log uniform number\n",
    "    \n",
    "        number_new -= number                                         # x1,x2,x3 = u1,u1*u2,u1*u2*u3 etc. in log space we add\n",
    "        logX_mass.append(-number_new/N)                              # store each logx..\n",
    "\n",
    "    logw_un = logX_mass                                             #prior weights\n",
    "    logw_un -= logsumexp(logw_un)                                   #normalise them\n",
    "\n",
    "    logZ_un = logsumexp(logw_un + keep[:,-1])                        #Evaluate logZ \n",
    "    \n",
    "    logZ_distribution.append(logZ_un)                                #store each logZ \n",
    "    "
   ]
  },
  {
   "cell_type": "code",
   "execution_count": 45,
   "metadata": {},
   "outputs": [
    {
     "name": "stderr",
     "output_type": "stream",
     "text": [
      "/home/hope-moloko/anaconda3/lib/python3.7/site-packages/matplotlib/axes/_axes.py:6571: UserWarning: The 'normed' kwarg is deprecated, and has been replaced by the 'density' kwarg.\n",
      "  warnings.warn(\"The 'normed' kwarg is deprecated, and has been \"\n"
     ]
    },
    {
     "data": {
      "text/plain": [
       "<matplotlib.legend.Legend at 0x7f05eb481dd8>"
      ]
     },
     "execution_count": 45,
     "metadata": {},
     "output_type": "execute_result"
    },
    {
     "data": {
      "image/png": "[encoded data removed]",
      "text/plain": [
       "<Figure size 720x576 with 1 Axes>"
      ]
     },
     "metadata": {
      "needs_background": "light"
     },
     "output_type": "display_data"
    }
   ],
   "source": [
    "std = np.std(logZ_distribution)    # Standard deviation of logZ distribution\n",
    "\n",
    "fig,ax = plt.subplots(figsize=(10,8))\n",
    "\n",
    "ax.hist(logZ_distribution,normed=True);\n",
    "ax.axvline(logZ,c='r',label = 'Nested Sampling LogZ')\n",
    "ax.axvline(np.log(0.0707),c='k',label='Analytic LogZ')\n",
    "ax.set_xlabel('LogZ')\n",
    "ax.axes.hlines(2,logZ,logZ-2*std,linestyle='dashed',label='$2\\sigma$ = ' +str(2*np.round(std,4)))\n",
    "ax.legend(fontsize=15)"
   ]
  },
  {
   "cell_type": "code",
   "execution_count": null,
   "metadata": {},
   "outputs": [],
   "source": []
  }
 ],
 "metadata": {
  "kernelspec": {
   "display_name": "Python 3",
   "language": "python",
   "name": "python3"
  },
  "language_info": {
   "codemirror_mode": {
    "name": "ipython",
    "version": 3
   },
   "file_extension": ".py",
   "mimetype": "text/x-python",
   "name": "python",
   "nbconvert_exporter": "python",
   "pygments_lexer": "ipython3",
   "version": "3.7.0"
  }
 },
 "nbformat": 4,
 "nbformat_minor": 2
}
