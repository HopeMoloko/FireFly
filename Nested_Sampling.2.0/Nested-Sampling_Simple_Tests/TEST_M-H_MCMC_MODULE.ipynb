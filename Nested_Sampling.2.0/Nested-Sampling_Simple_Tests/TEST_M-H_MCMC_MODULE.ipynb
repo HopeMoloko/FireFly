{
 "cells": [
  {
   "cell_type": "code",
   "execution_count": 14,
   "metadata": {},
   "outputs": [
    {
     "data": {
      "text/html": [
       "\n",
       "<style>\n",
       "\n",
       "div.cell { /* Tunes the space between cells */\n",
       "margin-top:1em;\n",
       "margin-bottom:1em;\n",
       "}\n",
       "\n",
       "div.text_cell_render h1 { /* Main titles bigger, centered */\n",
       "font-size: 2.2em;\n",
       "line-height:1.4em;\n",
       "text-align:center;\n",
       "}\n",
       "\n",
       "div.text_cell_render h2 { /*  Parts names nearer from text */\n",
       "margin-bottom: -0.4em;\n",
       "}\n",
       "\n",
       "\n",
       "div.text_cell_render { /* Customize text cells */\n",
       "font-family: 'Times New Roman';\n",
       "font-size:1.5em;\n",
       "line-height:1.4em;\n",
       "padding-left:3em;\n",
       "padding-right:3em;\n",
       "}\n",
       "</style>\n"
      ],
      "text/plain": [
       "<IPython.core.display.HTML object>"
      ]
     },
     "execution_count": 14,
     "metadata": {},
     "output_type": "execute_result"
    }
   ],
   "source": [
    "from IPython.core.display import HTML\n",
    "HTML(\"\"\"\n",
    "<style>\n",
    "\n",
    "div.cell { /* Tunes the space between cells */\n",
    "margin-top:1em;\n",
    "margin-bottom:1em;\n",
    "}\n",
    "\n",
    "div.text_cell_render h1 { /* Main titles bigger, centered */\n",
    "font-size: 2.2em;\n",
    "line-height:1.4em;\n",
    "text-align:center;\n",
    "}\n",
    "\n",
    "div.text_cell_render h2 { /*  Parts names nearer from text */\n",
    "margin-bottom: -0.4em;\n",
    "}\n",
    "\n",
    "\n",
    "div.text_cell_render { /* Customize text cells */\n",
    "font-family: 'Times New Roman';\n",
    "font-size:1.5em;\n",
    "line-height:1.4em;\n",
    "padding-left:3em;\n",
    "padding-right:3em;\n",
    "}\n",
    "</style>\n",
    "\"\"\")"
   ]
  },
  {
   "cell_type": "markdown",
   "metadata": {},
   "source": [
    "# Objectives\n",
    "\n",
    "In this note book, I am testing M-H MCMC module.\n",
    "\n",
    "   - import Metropolis_Hasting as MCMC\n",
    "   - Using the same exercise in the notebook : Test_NS_with_simple_Gaussian1.0"
   ]
  },
  {
   "cell_type": "code",
   "execution_count": 15,
   "metadata": {},
   "outputs": [],
   "source": [
    "########################Import Modules##########################################\n",
    "import numpy as np\n",
    "import matplotlib.pyplot as plt\n",
    "import pandas as pd\n",
    "import scipy.stats as stats\n",
    "import corner\n",
    "import copy as duplicate\n",
    "import time\n",
    "from matplotlib import colors\n",
    "import scipy as sp\n",
    "\n",
    "####Import test mcmc module\n",
    "\n",
    "import Metropolis_Hasting as MCMC\n",
    "\n",
    "from ipywidgets import IntProgress\n",
    "from IPython.display import display\n",
    "\n",
    "from mpl_toolkits.axes_grid1 import make_axes_locatable\n",
    "\n",
    "from matplotlib.patches import Ellipse\n",
    "from matplotlib.collections import PatchCollection\n",
    "\n",
    "#####################################"
   ]
  },
  {
   "cell_type": "markdown",
   "metadata": {},
   "source": [
    "# Likelihood\n",
    "\n",
    "TODO: I define a Gaussian log-likelihood function given by;\n",
    "\n",
    "$$\\log{L} = {\\log{(\\frac{1}{\\sqrt{2\\pi\\sigma^{2}}}})}  {-\\frac{(\\mu_{0} - \\mu)^{2}}{2\\sigma^{2}}}$$"
   ]
  },
  {
   "cell_type": "code",
   "execution_count": 16,
   "metadata": {},
   "outputs": [],
   "source": [
    "def Likelihood(mu,*args):\n",
    "    \n",
    "    \"\"\"Simple gaussian Likelihood\n",
    "    \n",
    "    Parameters\n",
    "    --------------\n",
    "    mu_true : scalar\n",
    "            True mean value\n",
    "    mu     : scalar\n",
    "            sampled mu\n",
    "    \n",
    "    *args : list\n",
    "            Likelihood extra arguments\n",
    "    \"\"\"\n",
    "    \n",
    "    mu_value = args[0]\n",
    "    \n",
    "    L = (1/np.sqrt(2*np.pi)*np.exp(-(mu_value-mu)**2))\n",
    "    \n",
    "    return np.log(L)"
   ]
  },
  {
   "cell_type": "code",
   "execution_count": 17,
   "metadata": {},
   "outputs": [],
   "source": [
    "def generate():\n",
    "    \"\"\"Generate uniform y values between 0,10\"\"\"\n",
    "    mu = sp.stats.uniform.rvs(0,10)\n",
    "    \n",
    "    return mu"
   ]
  },
  {
   "cell_type": "markdown",
   "metadata": {},
   "source": [
    "# Prior on $\\mu$\n",
    "TODO : Define function of prior on $\\mu$\n",
    "\n",
    "The prior on $\\mu$ is a flat prior.\n",
    "                \n",
    "$$P(\\mu) = \\frac{1}{\\mu_{upper}-\\mu_{lower}}$$"
   ]
  },
  {
   "cell_type": "code",
   "execution_count": 18,
   "metadata": {},
   "outputs": [],
   "source": [
    "def Prior(mu,*args):\n",
    "    \n",
    "    \n",
    "    \"\"\"Evaluate the prior probability of mu\n",
    "    \n",
    "    Parameters\n",
    "    \n",
    "    ----------------\n",
    "    \n",
    "    mu : scalar\n",
    "            mean\n",
    "            \n",
    "    mu_limits: list or array \n",
    "            The limits of mu\n",
    "            \n",
    "    *args : list\n",
    "            prior extra arguments\n",
    "    \n",
    "    ----------------\n",
    "     output: scalar\n",
    "            The log Prior of mu.\n",
    "    \n",
    "    \"\"\"\n",
    "    \n",
    "    mulimits = args[0]\n",
    "    #If position is out of limits discard \n",
    "    if (mu < mulimits[0]) | (mu > mulimits[1]):  \n",
    "        mu_prior = -np.inf\n",
    "    else:\n",
    "        mu_prior = 1.0/(mulimits[1] - mulimits[0])\n",
    "    \n",
    "    return np.log(mu_prior)"
   ]
  },
  {
   "cell_type": "code",
   "execution_count": 19,
   "metadata": {},
   "outputs": [],
   "source": [
    "# Useful function #Compute the log of the sum of exponentials of input elements.\n",
    "# OR from scipy.misc import logsumexp \n",
    "\n",
    "def logsumexp(values):\n",
    "    biggest = np.max(values)\n",
    "    x = values - biggest\n",
    "    result = np.log(np.sum(np.exp(x))) + biggest\n",
    "    return result\n"
   ]
  },
  {
   "cell_type": "markdown",
   "metadata": {},
   "source": [
    "## Simple Gaussian function with $\\mu$ = 5 and $\\sigma$ = 1"
   ]
  },
  {
   "cell_type": "code",
   "execution_count": 20,
   "metadata": {},
   "outputs": [
    {
     "data": {
      "text/plain": [
       "Text(0.5,0,'$\\\\mu$')"
      ]
     },
     "execution_count": 20,
     "metadata": {},
     "output_type": "execute_result"
    },
    {
     "data": {
      "image/png": "[encoded data removed]",
      "text/plain": [
       "<Figure size 432x288 with 1 Axes>"
      ]
     },
     "metadata": {
      "needs_background": "light"
     },
     "output_type": "display_data"
    }
   ],
   "source": [
    "x_vals = np.linspace(0,10)\n",
    "y_vals = (1/np.sqrt(2*np.pi))*np.exp(-(x_vals-5)**2)\n",
    "\n",
    "plt.plot(x_vals,y_vals)\n",
    "plt.xlabel('$\\mu$')"
   ]
  },
  {
   "cell_type": "markdown",
   "metadata": {},
   "source": [
    "# Generate walkers"
   ]
  },
  {
   "cell_type": "code",
   "execution_count": 21,
   "metadata": {},
   "outputs": [],
   "source": [
    "# Generate walkers\n",
    "N = 400\n",
    "particles = []\n",
    "\n",
    "#LIMITS of mu\n",
    "mulimits = np.array([0,10])\n",
    "mu_value = 5\n",
    "\n",
    "logl = np.empty(N)\n",
    "logp = np.empty(N)\n",
    "\n",
    "for i in range(0, N):\n",
    "    mu_val = generate()\n",
    "    particles.append(mu_val)\n",
    "    logl[i] = Likelihood(mu_val,mu_value) \n",
    "    logp[i] = Prior(mu_val,mulimits)"
   ]
  },
  {
   "cell_type": "code",
   "execution_count": 22,
   "metadata": {},
   "outputs": [],
   "source": [
    "# Number of NS iterations\n",
    "nest_steps = 6000\n",
    "\n",
    "# MCMC steps per NS iteration\n",
    "mcmc_steps = 70\n",
    "\n",
    "# mcmc stepsize\n",
    "mustep = 0.1\n",
    "stepsize = np.array([mustep])\n",
    "\n",
    "#Number of parameters\n",
    "num_params = 1\n",
    "\n",
    "\n",
    "\n",
    "# Storage for results\n",
    "keep = np.empty((nest_steps, num_params + 1))\n",
    "\n",
    "nacceptance = np.zeros(nest_steps)\n",
    "nrejectance = np.zeros(nest_steps)\n",
    "\n",
    "\n",
    "#Likelihood function arguments\n",
    "args_like = [mu_value]\n",
    "\n",
    "#Prior function arguments\n",
    "args_prior = [mulimits]"
   ]
  },
  {
   "cell_type": "markdown",
   "metadata": {},
   "source": [
    "# Main Nest"
   ]
  },
  {
   "cell_type": "code",
   "execution_count": 23,
   "metadata": {},
   "outputs": [],
   "source": [
    "for i in range(nest_steps):\n",
    "    \n",
    "    # Particle with worst likelihood\n",
    "    worst = np.argmin(logl)   \n",
    "    \n",
    "    # Save the details of the worst particle, (likelihood)\n",
    "    keep[i,:-1] = particles[worst] \n",
    "    keep[i,-1] = logl[worst]\n",
    "    \n",
    "    # Copy random survivor\n",
    "    #----copy a random point and do mcmc from there-----\n",
    "    while True:\n",
    "        copy = np.random.randint(len(particles))\n",
    "        if (copy != worst):break\n",
    "            \n",
    "    # Throw away worst particle and replace with random particle \n",
    "    #and do mcmc from the random particle (will change with new sample)\n",
    "    particles[worst] = duplicate.deepcopy(particles[copy]) \n",
    "    \n",
    "    particle_new_copy =  particles[worst]\n",
    "    # Likelihood of worst point\n",
    "    logl_threshold = duplicate.deepcopy(logl[worst])\n",
    "    logp_threshold = logp[worst]\n",
    "    \n",
    "    \n",
    "    theta = particle_new_copy\n",
    "    likelihood_theta = logl_threshold\n",
    "    prior_theta = logp_threshold\n",
    "    #Do mcmc on the survivor particle\n",
    "    New_particle , New_prior , New_like , Acceptance_R = MCMC.Metropolis_Hasting_NS(Likelihood,args_like,\\\n",
    "                                                        Prior,args_prior,theta,stepsize,mcmc_steps,\\\n",
    "                                                        likelihood_theta,prior_theta)\n",
    "    \n",
    "    #copy new particle from worst\n",
    "    particles[worst] = New_particle\n",
    "    logl[worst]      = New_like\n",
    "    logp[worst]      = New_prior\n",
    "    \n",
    "    #Save acceptance ratio for each mcmc\n",
    "    nacceptance[i] = Acceptance_R\n",
    "\n",
    "#Prior Mass    \n",
    "# evalute prior mass\n",
    "logX = -(np.arange(0, (nest_steps))+ 1.)/N  "
   ]
  },
  {
   "cell_type": "markdown",
   "metadata": {},
   "source": [
    "# Acceptance Ratio"
   ]
  },
  {
   "cell_type": "code",
   "execution_count": 24,
   "metadata": {},
   "outputs": [
    {
     "data": {
      "text/plain": [
       "Text(0,0.5,'Acceptance Ratio')"
      ]
     },
     "execution_count": 24,
     "metadata": {},
     "output_type": "execute_result"
    },
    {
     "data": {
      "image/png": "[encoded data removed]",
      "text/plain": [
       "<Figure size 1080x720 with 1 Axes>"
      ]
     },
     "metadata": {
      "needs_background": "light"
     },
     "output_type": "display_data"
    }
   ],
   "source": [
    "plt.figure(figsize=(15,10))\n",
    "plt.plot(nacceptance,'o')\n",
    "plt.ylabel('Acceptance Ratio')"
   ]
  },
  {
   "cell_type": "code",
   "execution_count": 25,
   "metadata": {},
   "outputs": [
    {
     "data": {
      "text/plain": [
       "Text(0.5,0,'$\\\\log(X)$')"
      ]
     },
     "execution_count": 25,
     "metadata": {},
     "output_type": "execute_result"
    },
    {
     "data": {
      "image/png": "[encoded data removed]",
      "text/plain": [
       "<Figure size 864x720 with 2 Axes>"
      ]
     },
     "metadata": {
      "needs_background": "light"
     },
     "output_type": "display_data"
    }
   ],
   "source": [
    "#Visualize Likelihood vs Prior Mass\n",
    "\n",
    "plt.figure(figsize=(12,10))\n",
    "plt.subplot(2,1,1)\n",
    "plt.plot(logX, keep[0:(nest_steps), -1], 'bo')\n",
    "plt.ylabel('$\\\\log(L)$')\n",
    "plt.xlabel('$log(X)$')\n",
    "\n",
    "\n",
    "\n",
    "plt.subplot(2,1,2)\n",
    "\n",
    "#Posterior weights\n",
    "\n",
    "logwt = logX.copy() + keep[0:(nest_steps), -1]\n",
    "\n",
    "# Normalised posterior weights\n",
    "wt = np.exp(logwt - logwt.max())              \n",
    "plt.plot(logX, wt, 'bo-')\n",
    "plt.ylabel('Posterior weights (relative)')\n",
    "plt.xlabel('$\\\\log(X)$')"
   ]
  },
  {
   "cell_type": "code",
   "execution_count": 26,
   "metadata": {},
   "outputs": [
    {
     "name": "stdout",
     "output_type": "stream",
     "text": [
      "logZ = -2.6499881653197965 \n",
      "Information = 1.2709651587403419\n",
      "Effective Sample Size = 1535\n"
     ]
    }
   ],
   "source": [
    "# Prior weights\n",
    "logw = logX.copy()\n",
    "# Normalise them\n",
    "logw -= logsumexp(logw)  \n",
    "\n",
    "# Calculate marginal likelihood\n",
    "logZ = logsumexp(logw + keep[:,-1])\n",
    "\n",
    "# Normalised posterior weights\n",
    "wt = wt/wt.sum()\n",
    "\n",
    "effective_sample_size = int(np.exp(-np.sum(wt*np.log(wt + 1E-300))))\n",
    "\n",
    "# Calculate information\n",
    "H = np.sum(wt*(keep[:,-1] - logZ))\n",
    "\n",
    "print('logZ = {logZ} '.format(logZ=logZ))\n",
    "print('Information = {H}'.format(H=H))\n",
    "print('Effective Sample Size = {ess}'.format(ess=effective_sample_size))"
   ]
  },
  {
   "cell_type": "markdown",
   "metadata": {},
   "source": [
    "# Analytic Solution for Z"
   ]
  },
  {
   "cell_type": "markdown",
   "metadata": {},
   "source": [
    "$$ Z = \\int_{0}^{10}L(\\theta)\\pi(\\theta)d\\theta$$\n",
    "$$ = \\int_{0}^{10}\\frac{exp(-\\theta-5)^{2}}{10\\sqrt(2\\pi)}d\\theta $$\n",
    "$$ = \\frac{erf(5)}{10\\sqrt(2)}$$\n",
    "\n",
    "$$ Z_{analytic} = 0.0707$$\n"
   ]
  },
  {
   "cell_type": "markdown",
   "metadata": {},
   "source": [
    "# Comparison of the LogZ from Nested sampling and the Analytical solution"
   ]
  },
  {
   "cell_type": "code",
   "execution_count": 27,
   "metadata": {
    "scrolled": false
   },
   "outputs": [
    {
     "name": "stdout",
     "output_type": "stream",
     "text": [
      "LogZ_nest  = -2.6499881653197965\n",
      "\n",
      "LogZ_analytic = -2.64930970607961\n"
     ]
    }
   ],
   "source": [
    "print(\"LogZ_nest  = \" + str(logZ) + \"\\n\\n\" +\"LogZ_analytic = \"+ str(np.log(0.0707)))"
   ]
  },
  {
   "cell_type": "markdown",
   "metadata": {},
   "source": [
    "# Posterior"
   ]
  },
  {
   "cell_type": "code",
   "execution_count": 28,
   "metadata": {},
   "outputs": [],
   "source": [
    "posterior_samples = np.empty((effective_sample_size, keep.shape[1]))\n",
    "logX_effective = np.empty(effective_sample_size)\n",
    "k = 0\n",
    "while True:\n",
    "  # Choose one of the samples\n",
    "    which = np.random.randint(keep.shape[0])\n",
    "\n",
    "  # Acceptance probability\n",
    "    prob = wt[which]/wt.max()\n",
    "\n",
    "    if np.random.rand() <= prob:\n",
    "        posterior_samples[k, :] = keep[which, :]\n",
    "        logX_effective[k] = logX[k]\n",
    "        k += 1\n",
    "\n",
    "    if k >= effective_sample_size:\n",
    "        break\n",
    "\n",
    "#np.savetxt('keep_Many.txt', posterior_samples)"
   ]
  },
  {
   "cell_type": "code",
   "execution_count": 29,
   "metadata": {},
   "outputs": [
    {
     "data": {
      "image/png": "[encoded data removed]",
      "text/plain": [
       "<Figure size 244.8x244.8 with 1 Axes>"
      ]
     },
     "metadata": {
      "needs_background": "light"
     },
     "output_type": "display_data"
    }
   ],
   "source": [
    "Fig = corner.corner(posterior_samples[:,:-1], labels=['$\\mu$'],bins=20,show_titles=True,color='b',smooth=1.0);"
   ]
  },
  {
   "cell_type": "code",
   "execution_count": 30,
   "metadata": {},
   "outputs": [
    {
     "name": "stderr",
     "output_type": "stream",
     "text": [
      "/home/hope-moloko/anaconda3/lib/python3.7/site-packages/matplotlib/axes/_axes.py:6571: UserWarning: The 'normed' kwarg is deprecated, and has been replaced by the 'density' kwarg.\n",
      "  warnings.warn(\"The 'normed' kwarg is deprecated, and has been \"\n"
     ]
    },
    {
     "data": {
      "text/plain": [
       "Text(0.7,0.9,'Blue Histogram : NS Posterior \\n\\n Orange : True Posterior ')"
      ]
     },
     "execution_count": 30,
     "metadata": {},
     "output_type": "execute_result"
    },
    {
     "data": {
      "image/png": "[encoded data removed]",
      "text/plain": [
       "<Figure size 720x576 with 1 Axes>"
      ]
     },
     "metadata": {
      "needs_background": "light"
     },
     "output_type": "display_data"
    }
   ],
   "source": [
    "plt.figure(figsize=(10,8))\n",
    "plt.hist(posterior_samples[:,:-1],normed=True,histtype='step');\n",
    "plt.plot(x_vals,y_vals)\n",
    "plt.xlabel('$\\mu$')\n",
    "plt.annotate(\"Blue Histogram : NS Posterior \\n\\n Orange : True Posterior \",xy=(0.7,0.9),xycoords=\"axes fraction\")\n"
   ]
  },
  {
   "cell_type": "markdown",
   "metadata": {},
   "source": [
    "# LogZ Distribution"
   ]
  },
  {
   "cell_type": "code",
   "execution_count": 31,
   "metadata": {},
   "outputs": [],
   "source": [
    "logZ_distribution = []  #Empty list to store logZ\n",
    "NZ = 5000               # LlogZ sample size\n",
    "\n",
    "for i in range(NZ):   # Samples size\n",
    "    uniform_numbers = np.log(np.random.uniform(0,1,len(keep[:,-1])))  #Generate log uniform numbers (log space)\n",
    "    number_new = 0                                                    #initialize number\n",
    "    logX_mass = []                                                    #store each prior mass\n",
    "\n",
    "    for number in uniform_numbers:                                    # for each log uniform number\n",
    "    \n",
    "        number_new -= number                                         # x1,x2,x3 = u1,u1*u2,u1*u2*u3 etc. in log space we add\n",
    "        logX_mass.append(-number_new/N)                              # store each logx..\n",
    "\n",
    "    logw_un = logX_mass                                             #prior weights\n",
    "    logw_un -= logsumexp(logw_un)                                   #normalise them\n",
    "\n",
    "    logZ_un = logsumexp(logw_un + keep[:,-1])                        #Evaluate logZ \n",
    "    \n",
    "    logZ_distribution.append(logZ_un)                                #store each logZ \n",
    "    "
   ]
  },
  {
   "cell_type": "code",
   "execution_count": 32,
   "metadata": {},
   "outputs": [
    {
     "name": "stderr",
     "output_type": "stream",
     "text": [
      "/home/hope-moloko/anaconda3/lib/python3.7/site-packages/matplotlib/axes/_axes.py:6571: UserWarning: The 'normed' kwarg is deprecated, and has been replaced by the 'density' kwarg.\n",
      "  warnings.warn(\"The 'normed' kwarg is deprecated, and has been \"\n"
     ]
    },
    {
     "data": {
      "text/plain": [
       "<matplotlib.legend.Legend at 0x7f97c79f3be0>"
      ]
     },
     "execution_count": 32,
     "metadata": {},
     "output_type": "execute_result"
    },
    {
     "data": {
      "image/png": "[encoded data removed]",
      "text/plain": [
       "<Figure size 720x576 with 1 Axes>"
      ]
     },
     "metadata": {
      "needs_background": "light"
     },
     "output_type": "display_data"
    }
   ],
   "source": [
    "std = np.std(logZ_distribution)    # Standard deviation of logZ distribution\n",
    "\n",
    "fig,ax = plt.subplots(figsize=(10,8))\n",
    "\n",
    "ax.hist(logZ_distribution,normed=True);\n",
    "ax.axvline(logZ,c='r',label = 'Nested Sampling LogZ')\n",
    "ax.axvline(np.log(0.0707),c='k',label='Analytic LogZ')\n",
    "ax.set_xlabel('LogZ')\n",
    "ax.axes.hlines(2,logZ,logZ+std,linestyle='dashed',label='$\\sigma$ = ' +str(np.round(std,4)))\n",
    "ax.legend(fontsize=15)"
   ]
  },
  {
   "cell_type": "code",
   "execution_count": null,
   "metadata": {},
   "outputs": [],
   "source": []
  }
 ],
 "metadata": {
  "kernelspec": {
   "display_name": "Python 3",
   "language": "python",
   "name": "python3"
  },
  "language_info": {
   "codemirror_mode": {
    "name": "ipython",
    "version": 3
   },
   "file_extension": ".py",
   "mimetype": "text/x-python",
   "name": "python",
   "nbconvert_exporter": "python",
   "pygments_lexer": "ipython3",
   "version": "3.7.0"
  }
 },
 "nbformat": 4,
 "nbformat_minor": 2
}
