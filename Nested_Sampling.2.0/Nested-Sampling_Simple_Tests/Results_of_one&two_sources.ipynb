{
 "cells": [
  {
   "cell_type": "code",
   "execution_count": 1,
   "metadata": {},
   "outputs": [],
   "source": [
    "import numpy as np\n",
    "import matplotlib.pyplot as plt\n",
    "import pandas as pd\n",
    "\n",
    "\n",
    "from matplotlib.patches import Ellipse\n",
    "from matplotlib.collections import PatchCollection\n",
    "\n",
    "\n",
    "from tabulate import tabulate"
   ]
  },
  {
   "cell_type": "markdown",
   "metadata": {},
   "source": [
    "# Simulated Single Source"
   ]
  },
  {
   "cell_type": "markdown",
   "metadata": {},
   "source": [
    "![](figures/Simulated_Image_one.png)"
   ]
  },
  {
   "cell_type": "markdown",
   "metadata": {},
   "source": [
    "## Results"
   ]
  },
  {
   "cell_type": "markdown",
   "metadata": {},
   "source": [
    "![](figures/Results_onef.png)"
   ]
  },
  {
   "cell_type": "markdown",
   "metadata": {},
   "source": [
    "![](figures/Figure_one.png)"
   ]
  },
  {
   "cell_type": "code",
   "execution_count": 2,
   "metadata": {},
   "outputs": [
    {
     "name": "stdout",
     "output_type": "stream",
     "text": [
      "Parameter      Estimated    Standard dev    True value\n",
      "-----------  -----------  --------------  ------------\n",
      "A                   5.85            0.13          5.98\n",
      "X                  16.75            0.02         16.67\n",
      "Y                  33.66            0.04         33.68\n",
      "R                   1.98            0.05          2\n"
     ]
    }
   ],
   "source": [
    "print(tabulate([['A', 5.85, 0.13, 5.98], ['X', 16.75, 0.02, 16.67], ['Y', 33.66, 0.04, 33.68], ['R', 1.98, 0.05, 2]],  \\\n",
    "                        headers=['Parameter', 'Estimated', 'Standard dev', 'True value']))"
   ]
  },
  {
   "cell_type": "markdown",
   "metadata": {},
   "source": [
    "# Simulated Two sources"
   ]
  },
  {
   "cell_type": "markdown",
   "metadata": {},
   "source": [
    "![](figures/Simulated_Image_TWO.png)"
   ]
  },
  {
   "cell_type": "markdown",
   "metadata": {},
   "source": [
    "![](figures/Results_TWO.png)"
   ]
  },
  {
   "cell_type": "markdown",
   "metadata": {},
   "source": [
    "![](figures/Posterior_Results_TWO.png)"
   ]
  },
  {
   "cell_type": "code",
   "execution_count": 3,
   "metadata": {},
   "outputs": [
    {
     "name": "stdout",
     "output_type": "stream",
     "text": [
      "Parameter      Estimated    Standard dev    True value\n",
      "-----------  -----------  --------------  ------------\n",
      "A_0                 6.37            0.22          5.98\n",
      "X_0                16.75            0.02         16.67\n",
      "Y_0                33.77            0.05         33.68\n",
      "R_0                 1.97            0.04          2\n",
      "A_1                 7.09            0.14          7.29\n",
      "X_1                40.61            0.04         40.66\n",
      "Y_1                12.39            0.04         12.39\n",
      "R_1                 2.04            0.03          2\n"
     ]
    }
   ],
   "source": [
    "print(tabulate([['A_0', 6.37, 0.22, 5.98], ['X_0', 16.75, 0.02, 16.67], ['Y_0', 33.77, 0.05, 33.68], ['R_0', 1.97, 0.04, 2],\n",
    "               ['A_1',7.09, 0.14, 7.29], ['X_1', 40.61, 0.04, 40.66], ['Y_1', 12.39, 0.04, 12.39], ['R_1', 2.04, 0.03, 2]],  \\\n",
    "                        headers=['Parameter', 'Estimated', 'Standard dev', 'True value']))"
   ]
  },
  {
   "cell_type": "code",
   "execution_count": null,
   "metadata": {},
   "outputs": [],
   "source": []
  }
 ],
 "metadata": {
  "kernelspec": {
   "display_name": "Python 3",
   "language": "python",
   "name": "python3"
  },
  "language_info": {
   "codemirror_mode": {
    "name": "ipython",
    "version": 3
   },
   "file_extension": ".py",
   "mimetype": "text/x-python",
   "name": "python",
   "nbconvert_exporter": "python",
   "pygments_lexer": "ipython3",
   "version": "3.7.2"
  }
 },
 "nbformat": 4,
 "nbformat_minor": 2
}
