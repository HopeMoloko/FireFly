{
 "cells": [
  {
   "cell_type": "code",
   "execution_count": 14,
   "metadata": {},
   "outputs": [
    {
     "data": {
      "text/html": [
       "\n",
       "<style>\n",
       "\n",
       "div.cell { /* Tunes the space between cells */\n",
       "margin-top:1em;\n",
       "margin-bottom:1em;\n",
       "}\n",
       "\n",
       "div.text_cell_render h1 { /* Main titles bigger, centered */\n",
       "font-size: 2.2em;\n",
       "line-height:1.4em;\n",
       "text-align:center;\n",
       "}\n",
       "\n",
       "div.text_cell_render h2 { /*  Parts names nearer from text */\n",
       "margin-bottom: -0.4em;\n",
       "}\n",
       "\n",
       "\n",
       "div.text_cell_render { /* Customize text cells */\n",
       "font-family: 'Times New Roman';\n",
       "font-size:1.5em;\n",
       "line-height:1.4em;\n",
       "padding-left:3em;\n",
       "padding-right:3em;\n",
       "}\n",
       "</style>\n"
      ],
      "text/plain": [
       "<IPython.core.display.HTML object>"
      ]
     },
     "execution_count": 14,
     "metadata": {},
     "output_type": "execute_result"
    }
   ],
   "source": [
    "from IPython.core.display import HTML\n",
    "HTML(\"\"\"\n",
    "<style>\n",
    "\n",
    "div.cell { /* Tunes the space between cells */\n",
    "margin-top:1em;\n",
    "margin-bottom:1em;\n",
    "}\n",
    "\n",
    "div.text_cell_render h1 { /* Main titles bigger, centered */\n",
    "font-size: 2.2em;\n",
    "line-height:1.4em;\n",
    "text-align:center;\n",
    "}\n",
    "\n",
    "div.text_cell_render h2 { /*  Parts names nearer from text */\n",
    "margin-bottom: -0.4em;\n",
    "}\n",
    "\n",
    "\n",
    "div.text_cell_render { /* Customize text cells */\n",
    "font-family: 'Times New Roman';\n",
    "font-size:1.5em;\n",
    "line-height:1.4em;\n",
    "padding-left:3em;\n",
    "padding-right:3em;\n",
    "}\n",
    "</style>\n",
    "\"\"\")"
   ]
  },
  {
   "cell_type": "markdown",
   "metadata": {},
   "source": [
    "# Objectives\n",
    "\n",
    "In this note book, I am testing basic Nested sampling Module.\n",
    " - import Nested_Sampling as NEST\n",
    " \n",
    "  - Using the same exercise in the notebook : Test_NS_with_simple_Gaussian1.0\n",
    "  - Only showing the plots : \n",
    "        -Acceptance Ratio\n",
    "        -LogL vs LogX\n",
    "        -Posterior Weights vs LogX"
   ]
  },
  {
   "cell_type": "code",
   "execution_count": 15,
   "metadata": {},
   "outputs": [],
   "source": [
    "########################Import Modules##########################################\n",
    "import numpy as np\n",
    "import matplotlib.pyplot as plt\n",
    "import pandas as pd\n",
    "import scipy.stats as stats\n",
    "import corner\n",
    "import copy as duplicate\n",
    "import time\n",
    "from matplotlib import colors\n",
    "import scipy as sp\n",
    "\n",
    "####Import test mcmc module\n",
    "\n",
    "import Metropolis_Hasting as MCMC\n",
    "import Nested_Sampling as NEST\n",
    "\n",
    "#####################################################################################\n",
    "from ipywidgets import IntProgress\n",
    "from IPython.display import display\n",
    "\n",
    "from mpl_toolkits.axes_grid1 import make_axes_locatable\n",
    "\n",
    "from matplotlib.patches import Ellipse\n",
    "from matplotlib.collections import PatchCollection\n",
    "\n",
    "#####################################"
   ]
  },
  {
   "cell_type": "markdown",
   "metadata": {},
   "source": [
    "# Likelihood\n",
    "\n",
    "TODO: I define a Gaussian log-likelihood function given by;\n",
    "\n",
    "$$\\log{L} = {\\log{(\\frac{1}{\\sqrt{2\\pi\\sigma^{2}}}})}  {-\\frac{(\\mu_{0} - \\mu)^{2}}{2\\sigma^{2}}}$$"
   ]
  },
  {
   "cell_type": "code",
   "execution_count": 16,
   "metadata": {},
   "outputs": [],
   "source": [
    "def Likelihood(mu,*args):\n",
    "    \n",
    "    \"\"\"Simple gaussian Likelihood\n",
    "    \n",
    "    Parameters\n",
    "    --------------\n",
    "    mu_true : scalar\n",
    "            True mean value\n",
    "    mu     : scalar\n",
    "            sampled mu\n",
    "    \n",
    "    *args : list\n",
    "            Likelihood extra arguments\n",
    "    \"\"\"\n",
    "    \n",
    "    mu_value = args[0]\n",
    "    \n",
    "    L = (1/np.sqrt(2*np.pi)*np.exp(-(mu_value-mu)**2))\n",
    "    \n",
    "    return np.log(L)"
   ]
  },
  {
   "cell_type": "code",
   "execution_count": 17,
   "metadata": {},
   "outputs": [],
   "source": [
    "def generate():\n",
    "    \"\"\"Generate uniform y values between 0,10\"\"\"\n",
    "    mu = sp.stats.uniform.rvs(0,10)\n",
    "    \n",
    "    return mu"
   ]
  },
  {
   "cell_type": "markdown",
   "metadata": {},
   "source": [
    "# Prior on $\\mu$\n",
    "TODO : Define function of prior on $\\mu$\n",
    "\n",
    "The prior on $\\mu$ is a flat prior.\n",
    "                \n",
    "$$P(\\mu) = \\frac{1}{\\mu_{upper}-\\mu_{lower}}$$"
   ]
  },
  {
   "cell_type": "code",
   "execution_count": 18,
   "metadata": {},
   "outputs": [],
   "source": [
    "def Prior(mu,*args):\n",
    "    \n",
    "    \n",
    "    \"\"\"Evaluate the prior probability of mu\n",
    "    \n",
    "    Parameters\n",
    "    \n",
    "    ----------------\n",
    "    \n",
    "    mu : scalar\n",
    "            mean\n",
    "            \n",
    "    mu_limits: list or array \n",
    "            The limits of mu\n",
    "            \n",
    "    *args : list\n",
    "            prior extra arguments\n",
    "    \n",
    "    ----------------\n",
    "     output: scalar\n",
    "            The log Prior of mu.\n",
    "    \n",
    "    \"\"\"\n",
    "    \n",
    "    mulimits = args[0]\n",
    "    #If position is out of limits discard \n",
    "    if (mu < mulimits[0]) | (mu > mulimits[1]):  \n",
    "        mu_prior = -np.inf\n",
    "    else:\n",
    "        mu_prior = 1.0/(mulimits[1] - mulimits[0])\n",
    "    \n",
    "    return np.log(mu_prior)"
   ]
  },
  {
   "cell_type": "code",
   "execution_count": 19,
   "metadata": {},
   "outputs": [],
   "source": [
    "# Useful function #Compute the log of the sum of exponentials of input elements.\n",
    "# OR from scipy.misc import logsumexp \n",
    "\n",
    "def logsumexp(values):\n",
    "    biggest = np.max(values)\n",
    "    x = values - biggest\n",
    "    result = np.log(np.sum(np.exp(x))) + biggest\n",
    "    return result\n"
   ]
  },
  {
   "cell_type": "markdown",
   "metadata": {},
   "source": [
    "## Simple Gaussian function with $\\mu$ = 5 and $\\sigma$ = 1"
   ]
  },
  {
   "cell_type": "code",
   "execution_count": 20,
   "metadata": {},
   "outputs": [
    {
     "data": {
      "text/plain": [
       "Text(0.5,0,'$\\\\mu$')"
      ]
     },
     "execution_count": 20,
     "metadata": {},
     "output_type": "execute_result"
    },
    {
     "data": {
      "image/png": "[encoded data removed]",
      "text/plain": [
       "<Figure size 432x288 with 1 Axes>"
      ]
     },
     "metadata": {
      "needs_background": "light"
     },
     "output_type": "display_data"
    }
   ],
   "source": [
    "x_vals = np.linspace(0,10)\n",
    "y_vals = (1/np.sqrt(2*np.pi))*np.exp(-(x_vals-5)**2)\n",
    "\n",
    "plt.plot(x_vals,y_vals)\n",
    "plt.xlabel('$\\mu$')"
   ]
  },
  {
   "cell_type": "markdown",
   "metadata": {},
   "source": [
    "# Generate walkers"
   ]
  },
  {
   "cell_type": "code",
   "execution_count": 21,
   "metadata": {},
   "outputs": [],
   "source": [
    "# Generate walkers\n",
    "N = 400\n",
    "particles = []\n",
    "\n",
    "#LIMITS of mu\n",
    "mulimits = np.array([0,10])\n",
    "mu_value = 5\n",
    "\n",
    "logl = np.empty(N)\n",
    "logp = np.empty(N)\n",
    "\n",
    "for i in range(0, N):\n",
    "    mu_val = generate()\n",
    "    particles.append(mu_val)\n",
    "    logl[i] = Likelihood(mu_val,mu_value) \n",
    "    logp[i] = Prior(mu_val,mulimits)"
   ]
  },
  {
   "cell_type": "code",
   "execution_count": 22,
   "metadata": {},
   "outputs": [],
   "source": [
    "# Number of NS iterations\n",
    "nest_steps = 6000\n",
    "\n",
    "# MCMC steps per NS iteration\n",
    "mcmc_steps = 70\n",
    "\n",
    "# mcmc stepsize\n",
    "mustep = 0.1\n",
    "stepsize = np.array([mustep])\n",
    "\n",
    "#Number of parameters\n",
    "num_params = 1\n",
    "\n",
    "\n",
    "#Likelihood function arguments\n",
    "args_like = [mu_value]\n",
    "\n",
    "#Prior function arguments\n",
    "args_prior = [mulimits]"
   ]
  },
  {
   "cell_type": "code",
   "execution_count": 23,
   "metadata": {},
   "outputs": [],
   "source": [
    "#Exploratiion function is the technique used to generate a new sample within nested sampling\n",
    "#In my case i use mcmc\n",
    "\n",
    "#MCMC predefined in nested sampling module for now\n",
    "Exploration_function = None   \n",
    "\n",
    "#Exporation function Arguments\n",
    "Exploration_args = [Likelihood,args_like,Prior,args_prior,stepsize,mcmc_steps]\n",
    "\n"
   ]
  },
  {
   "cell_type": "markdown",
   "metadata": {},
   "source": [
    "### Testing the Module by reproducing the same plots produced in the Test_NS_with_simple_Gaussian1.0 Notebook"
   ]
  },
  {
   "cell_type": "markdown",
   "metadata": {},
   "source": [
    "# Main Nest"
   ]
  },
  {
   "cell_type": "code",
   "execution_count": 24,
   "metadata": {},
   "outputs": [
    {
     "data": {
      "text/plain": [
       "0.0"
      ]
     },
     "execution_count": 24,
     "metadata": {},
     "output_type": "execute_result"
    },
    {
     "data": {
      "image/png": "[encoded data removed]",
      "text/plain": [
       "<Figure size 1080x720 with 3 Axes>"
      ]
     },
     "metadata": {
      "needs_background": "light"
     },
     "output_type": "display_data"
    }
   ],
   "source": [
    "NEST.Nested_Sampling(nest_steps,particles,logl,logp,Exploration_function,Exploration_args)"
   ]
  },
  {
   "cell_type": "code",
   "execution_count": null,
   "metadata": {},
   "outputs": [],
   "source": []
  }
 ],
 "metadata": {
  "kernelspec": {
   "display_name": "Python 3",
   "language": "python",
   "name": "python3"
  },
  "language_info": {
   "codemirror_mode": {
    "name": "ipython",
    "version": 3
   },
   "file_extension": ".py",
   "mimetype": "text/x-python",
   "name": "python",
   "nbconvert_exporter": "python",
   "pygments_lexer": "ipython3",
   "version": "3.7.0"
  }
 },
 "nbformat": 4,
 "nbformat_minor": 2
}
