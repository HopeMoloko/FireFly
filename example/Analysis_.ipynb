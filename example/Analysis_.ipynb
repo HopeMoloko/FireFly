{
 "cells": [
  {
   "cell_type": "code",
   "execution_count": 3,
   "metadata": {},
   "outputs": [],
   "source": [
    "import numpy as np\n",
    "import matplotlib.pyplot as plt\n",
    "import pandas as pd\n",
    "plt.rcParams.update({'font.size': 15})\n",
    "from matplotlib.patches import Circle "
   ]
  },
  {
   "cell_type": "code",
   "execution_count": 4,
   "metadata": {},
   "outputs": [],
   "source": [
    "def circle( xy, radius, color=\"lightsteelblue\", facecolor=\"none\", alpha=1, ax=None ):\n",
    "    \"\"\" add a circle to ax= or current axes\n",
    "    \"\"\"\n",
    "        # from .../pylab_examples/ellipse_demo.py\n",
    "    e = Circle( xy=xy, radius=radius )\n",
    "    if ax is None:\n",
    "        ax = plt.gca()  # ax = subplot( 1,1,1 )\n",
    "    ax.add_artist(e)\n",
    "    e.set_clip_box(ax.bbox)\n",
    "    e.set_edgecolor( color )\n",
    "    e.set_facecolor( facecolor )  # \"none\" not None\n",
    "    e.set_alpha( alpha )"
   ]
  },
  {
   "cell_type": "code",
   "execution_count": null,
   "metadata": {},
   "outputs": [],
   "source": []
  }
 ],
 "metadata": {
  "kernelspec": {
   "display_name": "Python 3",
   "language": "python",
   "name": "python3"
  },
  "language_info": {
   "codemirror_mode": {
    "name": "ipython",
    "version": 3
   },
   "file_extension": ".py",
   "mimetype": "text/x-python",
   "name": "python",
   "nbconvert_exporter": "python",
   "pygments_lexer": "ipython3",
   "version": "3.7.2"
  }
 },
 "nbformat": 4,
 "nbformat_minor": 2
}
