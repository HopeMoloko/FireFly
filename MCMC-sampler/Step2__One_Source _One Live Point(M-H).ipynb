{
 "cells": [
  {
   "cell_type": "code",
   "execution_count": 1,
   "metadata": {},
   "outputs": [],
   "source": [
    "########################Import Modules##########################################\n",
    "import numpy as np\n",
    "import matplotlib.pyplot as plt\n",
    "import pandas as pd\n",
    "import scipy.stats as stats\n",
    "import corner\n",
    "import copy as Makecopy\n",
    "import time\n",
    "from matplotlib import colors\n",
    "import scipy as sp\n",
    "\n",
    "from ipywidgets import IntProgress\n",
    "from IPython.display import display\n",
    "\n",
    "from mpl_toolkits.axes_grid1 import make_axes_locatable\n",
    "\n",
    "from matplotlib.patches import Ellipse\n",
    "from matplotlib.collections import PatchCollection\n",
    "\n",
    "#####################################"
   ]
  },
  {
   "cell_type": "markdown",
   "metadata": {},
   "source": [
    "# Generate Image with One Source"
   ]
  },
  {
   "cell_type": "code",
   "execution_count": 60,
   "metadata": {},
   "outputs": [],
   "source": [
    "def Template_Equation(x,y,theta):\n",
    "    X,Y,A = theta\n",
    "    R = 3\n",
    "    template = A*np.exp(-(((x-X)**2 + (y-Y)**2)/(2*R**2)))\n",
    "    return template"
   ]
  },
  {
   "cell_type": "code",
   "execution_count": 82,
   "metadata": {},
   "outputs": [],
   "source": [
    "npix = 50\n",
    "x = np.arange(0, npix, 1, float)\n",
    "y = x[:,np.newaxis]\n",
    "\n",
    "\n",
    "#Locations ,Spatial extent and Flux\n",
    "X = 25\n",
    "Y = 25\n",
    "A = 15\n",
    "\n",
    "theta_pic = np.array([X,Y,A])\n",
    "\n",
    "#Gaussian Noise\n",
    "noise_sigma = 1.0\n",
    "Noise = np.random.normal(0,noise_sigma,(npix,npix))\n",
    "\n",
    "# Image data\n",
    "Img_data = Template_Equation(x,y,theta_pic) + Noise"
   ]
  },
  {
   "cell_type": "code",
   "execution_count": 83,
   "metadata": {},
   "outputs": [
    {
     "data": {
      "text/plain": [
       "Text(0,0.5,'Arbitrary Flux')"
      ]
     },
     "execution_count": 83,
     "metadata": {},
     "output_type": "execute_result"
    },
    {
     "data": {
      "image/png": "[encoded data removed]",
      "text/plain": [
       "<Figure size 432x288 with 2 Axes>"
      ]
     },
     "metadata": {
      "needs_background": "light"
     },
     "output_type": "display_data"
    }
   ],
   "source": [
    "ax = plt.subplot(111)\n",
    "im = ax.imshow(Img_data,origin='lower',cmap='afmhot',)\n",
    "divider = make_axes_locatable(ax)\n",
    "cax = divider.append_axes(\"right\", size=\"5%\", pad=0.05)\n",
    "\n",
    "plt.colorbar(im, cax=cax)\n",
    "ax.set_xlabel('X Position')\n",
    "ax.set_ylabel('Y Position')\n",
    "plt.ylabel('Arbitrary Flux')"
   ]
  },
  {
   "cell_type": "markdown",
   "metadata": {},
   "source": [
    "# Priors [ X,Y,A]"
   ]
  },
  {
   "cell_type": "code",
   "execution_count": 86,
   "metadata": {},
   "outputs": [],
   "source": [
    "def LogPrior(theta,theta_limits):\n",
    "    X,Y,A = theta\n",
    "    Xlimits,Ylimits = theta_limits\n",
    "    \n",
    "    if (X < Xlimits[0]) | (X > Xlimits[1]):\n",
    "        log_X_prior = -np.inf\n",
    "    else:\n",
    "        log_X_prior = np.log(1.0/(Xlimits[1] - Xlimits[0]))\n",
    "        \n",
    "    if (Y < Ylimits[0]) | (Y > Ylimits[1]):\n",
    "        log_Y_prior = -np.inf\n",
    "    else:\n",
    "        log_Y_prior = np.log(1.0/(Ylimits[1] - Ylimits[0]))\n",
    "    \n",
    "    if (A<0):\n",
    "        log_A_prior = -np.inf\n",
    "    else:\n",
    "        log_A_prior = np.log(np.exp(-A))\n",
    "    \n",
    "    return log_X_prior + log_Y_prior + log_A_prior"
   ]
  },
  {
   "cell_type": "markdown",
   "metadata": {},
   "source": [
    "# Likelihood"
   ]
  },
  {
   "cell_type": "code",
   "execution_count": 87,
   "metadata": {},
   "outputs": [],
   "source": [
    "def LogL(theta,data,sigmay):\n",
    "    '''\n",
    "    Returns the log-likelihood of drawing data values *y* at\n",
    "    known values *x* given Gaussian measurement noise with standard\n",
    "    deviation with known *sigmay*, where the \"true\" y values are\n",
    "\n",
    "    Returns: scalar log likelihood\n",
    "    '''\n",
    "    y_data = data\n",
    "    model = Template_Equation(x,y,theta)\n",
    "    logL = (np.sum(np.log(1./(np.sqrt((2.*np.pi)*sigmay**2)))) +\n",
    "            np.sum(-0.5 * (y_data - model)**2 / sigmay**2))\n",
    "    return logL"
   ]
  },
  {
   "cell_type": "markdown",
   "metadata": {},
   "source": [
    "# Posterior"
   ]
  },
  {
   "cell_type": "code",
   "execution_count": 88,
   "metadata": {},
   "outputs": [],
   "source": [
    "def LogPosterior(theta,theta_limits,data,sigmay):\n",
    "    logP = LogL(theta,data,sigmay) + LogPrior(theta,theta_limits)\n",
    "    return logP"
   ]
  },
  {
   "cell_type": "markdown",
   "metadata": {},
   "source": [
    "# Metropolis Hasting"
   ]
  },
  {
   "cell_type": "code",
   "execution_count": 89,
   "metadata": {},
   "outputs": [],
   "source": [
    "def metropolis(log_posterior,theta,data,sigmay,stepsize, nsteps):\n",
    "    \n",
    "    '''\n",
    "    log_posterior: function of theta\n",
    "    data:          data set\n",
    "    stepsize:      scalar or vector proposal distribution width\n",
    "    nsteps:        number of samples\n",
    "    \n",
    "    '''\n",
    "    \n",
    "    log_prob = log_posterior(theta,theta_limits,data,sigmay)\n",
    "    \n",
    "    # Store Markov chain as an array of samples:\n",
    "    chain = np.empty((nsteps, len(theta)))\n",
    "    log_probs = np.empty(nsteps)\n",
    "    \n",
    "    # Count accepted proposals:\n",
    "    naccept = 0\n",
    "    \n",
    "    for i in range(nsteps): \n",
    "        theta_new = theta + stepsize * np.random.randn(len(theta)) #Generate new sample\n",
    "        log_prob_new = log_posterior(theta_new,theta_limits,data, sigmay) # calculate post prob of new sample\n",
    "        \n",
    "        if (log_prob_new-log_prob) > np.log(np.random.rand()): # Accept new\n",
    "            \n",
    "            theta = theta_new        #\n",
    "            log_prob = log_prob_new\n",
    "            naccept += 1\n",
    "            \n",
    "        else: # Reject proposed sample\n",
    "            theta = theta\n",
    "            \n",
    "        chain[i] = theta\n",
    "        log_probs[i] = log_prob\n",
    "        \n",
    "    acceptance_rate = naccept/float(nsteps)\n",
    "    \n",
    "    return chain,log_probs,acceptance_rate"
   ]
  },
  {
   "cell_type": "code",
   "execution_count": 114,
   "metadata": {},
   "outputs": [],
   "source": [
    "#Intial mcmc params\n",
    "nsteps = 10000\n",
    "Xstep , Ystep , Astep = 0.1,0.2,0.1\n",
    "stepsize = np.array([Xstep,Ystep,Astep])\n",
    "\n",
    "#parameter limits\n",
    "Xlimits = [0.0, npix]\n",
    "Ylimits = [0.0,npix]\n",
    "\n",
    "theta_limits = (Xlimits, Ylimits)\n",
    "#mcmc initial samples\n",
    "X_start = 13\n",
    "Y_start = 15\n",
    "A_start = 10\n",
    "theta = np.array([X_start,Y_start,A_start])\n",
    "\n",
    "data = Img_data\n",
    "sigmay = Noise"
   ]
  },
  {
   "cell_type": "markdown",
   "metadata": {},
   "source": [
    "# Run M-H"
   ]
  },
  {
   "cell_type": "code",
   "execution_count": 115,
   "metadata": {},
   "outputs": [],
   "source": [
    "Chain,Log_probs,Acceptance = metropolis(LogPosterior,theta,data,sigmay,stepsize,nsteps)\n"
   ]
  },
  {
   "cell_type": "code",
   "execution_count": 116,
   "metadata": {},
   "outputs": [
    {
     "name": "stdout",
     "output_type": "stream",
     "text": [
      "0.0439\n"
     ]
    }
   ],
   "source": [
    "print(Acceptance)"
   ]
  },
  {
   "cell_type": "code",
   "execution_count": 117,
   "metadata": {},
   "outputs": [
    {
     "data": {
      "text/plain": [
       "Text(0,0.5,'A')"
      ]
     },
     "execution_count": 117,
     "metadata": {},
     "output_type": "execute_result"
    },
    {
     "data": {
      "image/png": "[encoded data removed]",
      "text/plain": [
       "<Figure size 720x504 with 3 Axes>"
      ]
     },
     "metadata": {
      "needs_background": "light"
     },
     "output_type": "display_data"
    }
   ],
   "source": [
    "# Pull m and b arrays out of the Markov chain and plot them:\n",
    "XX = [X for X,Y,A in Chain]\n",
    "YY = [Y for X,Y,A in Chain]\n",
    "AA = [A for X,Y,A in Chain]\n",
    "\n",
    "# Traces, for convergence inspection:\n",
    "plt.figure(figsize=(10,7))\n",
    "plt.subplot(3,1,1)\n",
    "plt.plot(XX, 'k-')\n",
    "plt.ylabel('X')\n",
    "\n",
    "plt.subplot(3,1,2)\n",
    "plt.plot(YY, 'k-')\n",
    "plt.ylabel('Y')\n",
    "\n",
    "plt.subplot(3,1,3)\n",
    "plt.plot(AA, 'k-')\n",
    "plt.ylabel('A')"
   ]
  },
  {
   "cell_type": "code",
   "execution_count": 118,
   "metadata": {},
   "outputs": [],
   "source": [
    "Mean_X = np.mean(XX[2000:])\n",
    "Mean_Y = np.mean(YY[2000:])\n",
    "Mean_A = np.mean(AA[2000:])"
   ]
  },
  {
   "cell_type": "code",
   "execution_count": 119,
   "metadata": {},
   "outputs": [
    {
     "data": {
      "text/plain": [
       "Text(0,0.5,'Arbitrary Flux')"
      ]
     },
     "execution_count": 119,
     "metadata": {},
     "output_type": "execute_result"
    },
    {
     "data": {
      "image/png": "[encoded data removed]",
      "text/plain": [
       "<Figure size 504x360 with 2 Axes>"
      ]
     },
     "metadata": {
      "needs_background": "light"
     },
     "output_type": "display_data"
    }
   ],
   "source": [
    "plt.figure(figsize=(7,5))\n",
    "ax = plt.gca()\n",
    "ellipses = []\n",
    "plt.xlim([0,npix])\n",
    "plt.ylim([0,npix])\n",
    "X_pos = [Mean_X]\n",
    "Y_pos = [Mean_Y]\n",
    "for ra, dec in zip(X_pos,Y_pos):\n",
    "    ellipse = Ellipse(xy=(ra, dec), width=2, height=2, angle=0)\n",
    "    ellipses.append(ellipse)\n",
    "\n",
    "p = PatchCollection(ellipses)\n",
    "ax.add_collection(p)\n",
    "\n",
    "im = ax.imshow(Img_data,origin='lower',cmap='afmhot',)\n",
    "divider = make_axes_locatable(ax)\n",
    "cax = divider.append_axes(\"right\", size=\"5%\", pad=0.05)\n",
    "\n",
    "plt.colorbar(im, cax=cax)\n",
    "ax.set_xlabel('X Position')\n",
    "ax.set_ylabel('Y Position')\n",
    "plt.ylabel('Arbitrary Flux')"
   ]
  },
  {
   "cell_type": "markdown",
   "metadata": {},
   "source": [
    "# Evaluate Z"
   ]
  },
  {
   "cell_type": "code",
   "execution_count": 123,
   "metadata": {},
   "outputs": [
    {
     "name": "stdout",
     "output_type": "stream",
     "text": [
      "logZ : -1953.9569498578924\n"
     ]
    }
   ],
   "source": [
    "for i in range(0, nsteps):\n",
    "    logX = -(np.arange(0, i+1) + 1.)/nsteps\n",
    "    \n",
    "logwt = logX.copy() + Log_probs\n",
    "wt = np.exp(logwt - logwt.max())\n",
    "\n",
    "def logsumexp(values):\n",
    "    biggest = np.max(values)\n",
    "    x = values - biggest\n",
    "    result = np.log(np.sum(np.exp(x))) + biggest\n",
    "    return result\n",
    "\n",
    "# Prior weights\n",
    "logw = logX.copy()\n",
    "# Normalise them\n",
    "logw -= logsumexp(logw)\n",
    "\n",
    "# Calculate marginal likelihood\n",
    "logZ = logsumexp(logw + Log_probs)\n",
    "print('logZ :',logZ)"
   ]
  },
  {
   "cell_type": "code",
   "execution_count": 124,
   "metadata": {},
   "outputs": [
    {
     "data": {
      "text/plain": [
       "array([-1.000e-04, -2.000e-04, -3.000e-04, ..., -9.998e-01, -9.999e-01,\n",
       "       -1.000e+00])"
      ]
     },
     "execution_count": 124,
     "metadata": {},
     "output_type": "execute_result"
    }
   ],
   "source": [
    "logX"
   ]
  },
  {
   "cell_type": "code",
   "execution_count": null,
   "metadata": {},
   "outputs": [],
   "source": []
  }
 ],
 "metadata": {
  "kernelspec": {
   "display_name": "Python 3",
   "language": "python",
   "name": "python3"
  },
  "language_info": {
   "codemirror_mode": {
    "name": "ipython",
    "version": 3
   },
   "file_extension": ".py",
   "mimetype": "text/x-python",
   "name": "python",
   "nbconvert_exporter": "python",
   "pygments_lexer": "ipython3",
   "version": "3.7.0"
  }
 },
 "nbformat": 4,
 "nbformat_minor": 2
}
