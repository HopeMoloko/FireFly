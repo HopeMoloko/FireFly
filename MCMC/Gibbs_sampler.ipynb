{
 "cells": [
  {
   "cell_type": "code",
   "execution_count": 1,
   "metadata": {},
   "outputs": [],
   "source": [
    "import numpy as np\n",
    "import scipy.stats as st\n",
    "import matplotlib.pyplot as plt"
   ]
  },
  {
   "cell_type": "code",
   "execution_count": 2,
   "metadata": {},
   "outputs": [],
   "source": [
    "X1 = np.random.multivariate_normal([5, 5], np.diag([0.5, 0.5]), size=20)"
   ]
  },
  {
   "cell_type": "code",
   "execution_count": 3,
   "metadata": {},
   "outputs": [
    {
     "data": {
      "text/plain": [
       "array([[5.53533227, 4.16105542],\n",
       "       [4.45983105, 4.70246697],\n",
       "       [4.63918324, 5.466388  ],\n",
       "       [5.21307352, 4.52692512],\n",
       "       [4.86654408, 5.83687112],\n",
       "       [6.22544808, 4.52883305],\n",
       "       [5.4189979 , 4.81872221],\n",
       "       [5.80868721, 3.68783275],\n",
       "       [6.38388637, 5.20444496],\n",
       "       [4.27407913, 4.35667914],\n",
       "       [5.09048304, 5.29574233],\n",
       "       [5.34086136, 4.74699397],\n",
       "       [4.40342605, 5.1552274 ],\n",
       "       [4.44916594, 2.90023923],\n",
       "       [4.88946097, 4.70030674],\n",
       "       [6.37028846, 3.71385634],\n",
       "       [4.60541825, 4.93408174],\n",
       "       [4.90874887, 4.11347863],\n",
       "       [5.04028617, 4.50552399],\n",
       "       [4.9059279 , 5.10529072]])"
      ]
     },
     "execution_count": 3,
     "metadata": {},
     "output_type": "execute_result"
    }
   ],
   "source": [
    "X1"
   ]
  },
  {
   "cell_type": "code",
   "execution_count": null,
   "metadata": {},
   "outputs": [],
   "source": []
  }
 ],
 "metadata": {
  "kernelspec": {
   "display_name": "Python 3",
   "language": "python",
   "name": "python3"
  },
  "language_info": {
   "codemirror_mode": {
    "name": "ipython",
    "version": 3
   },
   "file_extension": ".py",
   "mimetype": "text/x-python",
   "name": "python",
   "nbconvert_exporter": "python",
   "pygments_lexer": "ipython3",
   "version": "3.7.0"
  }
 },
 "nbformat": 4,
 "nbformat_minor": 2
}
