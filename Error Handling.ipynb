{
 "cells": [
  {
   "cell_type": "markdown",
   "metadata": {},
   "source": [
    "# You can create a set with the set() function"
   ]
  },
  {
   "cell_type": "code",
   "execution_count": 1,
   "metadata": {},
   "outputs": [
    {
     "name": "stdout",
     "output_type": "stream",
     "text": [
      "{'Dog', 'Hippo', 'Cat'}\n"
     ]
    }
   ],
   "source": [
    "unique_animals = set([\"Dog\", \"Cat\", \"Hippo\", \"Dog\", \"Cat\", \"Dog\", \"Dog\", \"Cat\"])\n",
    "print(unique_animals)"
   ]
  },
  {
   "cell_type": "markdown",
   "metadata": {},
   "source": [
    " - You can add items to a set using the add() method:\n",
    " - You can remove items from a set with the remove() method"
   ]
  },
  {
   "cell_type": "code",
   "execution_count": 2,
   "metadata": {},
   "outputs": [],
   "source": [
    "unique_animals.add(\"Tiger\")\n",
    "unique_animals.remove(\"Dog\")"
   ]
  },
  {
   "cell_type": "markdown",
   "metadata": {},
   "source": [
    "We can manage errors with something known as a try/except block. If you surround the code that causes an error with a try/except block, the error will be handled, and the code will continue to run:"
   ]
  },
  {
   "cell_type": "code",
   "execution_count": 3,
   "metadata": {},
   "outputs": [
    {
     "name": "stdout",
     "output_type": "stream",
     "text": [
      "There was an error\n"
     ]
    }
   ],
   "source": [
    "try:\n",
    "    int('')\n",
    "except Exception:\n",
    "    print(\"There was an error\")"
   ]
  },
  {
   "cell_type": "markdown",
   "metadata": {},
   "source": [
    "# Example"
   ]
  },
  {
   "cell_type": "code",
   "execution_count": 4,
   "metadata": {},
   "outputs": [
    {
     "name": "stdout",
     "output_type": "stream",
     "text": [
      "There was an error\n"
     ]
    }
   ],
   "source": [
    "try:\n",
    "    float('hello')\n",
    "except Exception:\n",
    "    print(\"There was an error\")"
   ]
  },
  {
   "cell_type": "markdown",
   "metadata": {},
   "source": [
    "# To see what type of error it is."
   ]
  },
  {
   "cell_type": "code",
   "execution_count": 5,
   "metadata": {},
   "outputs": [
    {
     "name": "stdout",
     "output_type": "stream",
     "text": [
      "<class 'ValueError'>\n"
     ]
    }
   ],
   "source": [
    "try:\n",
    "    int('')\n",
    "except Exception as exc:\n",
    "    print(type(exc))"
   ]
  },
  {
   "cell_type": "markdown",
   "metadata": {},
   "source": [
    "However, there are times when we don't want to do anything specific to handle errors; we just want the code to keep running. This is common when looping over a long list, and performing the same operation multiple times. In cases like this, printing lots of errors messages would be fairly annoying. For example, running the following code results in many errors:"
   ]
  },
  {
   "cell_type": "code",
   "execution_count": null,
   "metadata": {},
   "outputs": [],
   "source": []
  }
 ],
 "metadata": {
  "kernelspec": {
   "display_name": "Python 3",
   "language": "python",
   "name": "python3"
  },
  "language_info": {
   "codemirror_mode": {
    "name": "ipython",
    "version": 3
   },
   "file_extension": ".py",
   "mimetype": "text/x-python",
   "name": "python",
   "nbconvert_exporter": "python",
   "pygments_lexer": "ipython3",
   "version": "3.7.0"
  }
 },
 "nbformat": 4,
 "nbformat_minor": 2
}
