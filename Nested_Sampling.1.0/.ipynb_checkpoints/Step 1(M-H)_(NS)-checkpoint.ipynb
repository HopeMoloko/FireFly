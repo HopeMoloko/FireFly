{
 "cells": [
  {
   "cell_type": "code",
   "execution_count": 53,
   "metadata": {},
   "outputs": [],
   "source": [
    "########################Import Modules##########################################\n",
    "import numpy as np\n",
    "import matplotlib.pyplot as plt\n",
    "import pandas as pd\n",
    "import scipy.stats as stats\n",
    "import corner\n",
    "import copy as Makecopy\n",
    "import time\n",
    "from matplotlib import colors\n",
    "import scipy as sp\n",
    "\n",
    "from ipywidgets import IntProgress\n",
    "from IPython.display import display\n",
    "\n",
    "from mpl_toolkits.axes_grid1 import make_axes_locatable\n",
    "\n",
    "from matplotlib.patches import Ellipse\n",
    "from matplotlib.collections import PatchCollection\n",
    "\n",
    "#####################################"
   ]
  },
  {
   "cell_type": "markdown",
   "metadata": {},
   "source": [
    "# Generate Example Data"
   ]
  },
  {
   "cell_type": "code",
   "execution_count": 48,
   "metadata": {},
   "outputs": [],
   "source": [
    "def Generate_data(m,c,x):\n",
    "    noise = np.random.normal(0,5,len(x))\n",
    "    data = m*x + c + noise\n",
    "    \n",
    "    return data"
   ]
  },
  {
   "cell_type": "code",
   "execution_count": 49,
   "metadata": {},
   "outputs": [],
   "source": [
    "x = np.linspace(0,20)\n",
    "Data = Generate_data(4,3,x) + noise"
   ]
  },
  {
   "cell_type": "code",
   "execution_count": 51,
   "metadata": {},
   "outputs": [
    {
     "data": {
      "text/plain": [
       "Text(0,0.5,'y')"
      ]
     },
     "execution_count": 51,
     "metadata": {},
     "output_type": "execute_result"
    },
    {
     "data": {
      "image/png": "[encoded data removed]",
      "text/plain": [
       "<Figure size 432x288 with 1 Axes>"
      ]
     },
     "metadata": {
      "needs_background": "light"
     },
     "output_type": "display_data"
    }
   ],
   "source": [
    "plt.plot(x,Data,'o')\n",
    "plt.xlabel('x')\n",
    "plt.ylabel('y')"
   ]
  },
  {
   "cell_type": "markdown",
   "metadata": {},
   "source": [
    "# Model Equation"
   ]
  },
  {
   "cell_type": "code",
   "execution_count": 52,
   "metadata": {},
   "outputs": [],
   "source": [
    "def Model_Euqation(m,c,x):\n",
    "    y = m*x + c\n",
    "    return y"
   ]
  },
  {
   "cell_type": "markdown",
   "metadata": {},
   "source": [
    "# Priors on M and C."
   ]
  },
  {
   "cell_type": "code",
   "execution_count": 87,
   "metadata": {},
   "outputs": [
    {
     "data": {
      "text/plain": [
       "Text(0,0.5,'$P(c)$')"
      ]
     },
     "execution_count": 87,
     "metadata": {},
     "output_type": "execute_result"
    },
    {
     "data": {
      "image/png": "[encoded data removed]",
      "text/plain": [
       "<Figure size 432x288 with 2 Axes>"
      ]
     },
     "metadata": {
      "needs_background": "light"
     },
     "output_type": "display_data"
    }
   ],
   "source": [
    "fig,(ax1,ax2) = plt.subplots(1, 2)\n",
    "\n",
    "fig.subplots_adjust(left=0.03, right=0.97, hspace=0.3, wspace=0.5)\n",
    "\n",
    "ax1.hist(stats.norm.rvs(loc=5, scale=2, size=500));\n",
    "ax1.set_xlabel('m')\n",
    "ax1.set_ylabel('$P(m)$')\n",
    "\n",
    "ax2.hist(stats.norm.rvs(loc=5, scale=2, size=500));\n",
    "ax2.set_xlabel('c')\n",
    "ax2.set_ylabel('$P(c)$')"
   ]
  },
  {
   "cell_type": "code",
   "execution_count": 89,
   "metadata": {},
   "outputs": [],
   "source": [
    "def LogP_m(m):\n",
    "    P_m = stats.norm.pdf(m, loc=5, scale=1)\n",
    "    return np.log(P_m)\n",
    "\n",
    "def LogP_c(c):\n",
    "    P_c = stats.norm.pdf(c, loc=4, scale=1)\n",
    "    return np.log(P_c)"
   ]
  },
  {
   "cell_type": "markdown",
   "metadata": {},
   "source": [
    "# Likelihood function"
   ]
  },
  {
   "cell_type": "code",
   "execution_count": 90,
   "metadata": {},
   "outputs": [],
   "source": [
    "def LogL(data,model,sigma):\n",
    "    '''\n",
    "    Returns the log-likelihood of drawing data values *y* at\n",
    "    known values *x* given Gaussian measurement noise with standard\n",
    "    deviation with known *sigmay*, where the \"true\" y values are\n",
    "    *y = m * x + b*\n",
    "\n",
    "    x: list of x coordinates\n",
    "    y: list of y coordinates\n",
    "    sigmay: list of y uncertainties\n",
    "    m: scalar slope\n",
    "    c: scalar line intercept\n",
    "\n",
    "    Returns: scalar log likelihood\n",
    "    '''\n",
    "    logL = (np.sum(np.log(1./(np.sqrt(2.*np.pi) * sigmay))) +\n",
    "            np.sum(-0.5 * (data - (model))**2 / sigmay**2))\n",
    "    return logL"
   ]
  },
  {
   "cell_type": "markdown",
   "metadata": {},
   "source": [
    "# Posterior"
   ]
  },
  {
   "cell_type": "code",
   "execution_count": 92,
   "metadata": {},
   "outputs": [],
   "source": [
    "def LogPost(LogL,LogP_m,LogP_c):\n",
    "    logP = LogL + LogP_m + LogP_c\n",
    "    return logP"
   ]
  },
  {
   "cell_type": "code",
   "execution_count": null,
   "metadata": {},
   "outputs": [],
   "source": []
  }
 ],
 "metadata": {
  "kernelspec": {
   "display_name": "Python 3",
   "language": "python",
   "name": "python3"
  },
  "language_info": {
   "codemirror_mode": {
    "name": "ipython",
    "version": 3
   },
   "file_extension": ".py",
   "mimetype": "text/x-python",
   "name": "python",
   "nbconvert_exporter": "python",
   "pygments_lexer": "ipython3",
   "version": "3.7.0"
  }
 },
 "nbformat": 4,
 "nbformat_minor": 2
}
