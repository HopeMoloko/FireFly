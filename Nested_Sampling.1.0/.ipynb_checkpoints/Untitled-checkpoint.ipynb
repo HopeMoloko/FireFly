{
 "cells": [
  {
   "cell_type": "code",
   "execution_count": 1,
   "metadata": {},
   "outputs": [],
   "source": [
    "import numpy as np"
   ]
  },
  {
   "cell_type": "code",
   "execution_count": 3,
   "metadata": {},
   "outputs": [],
   "source": [
    "def logLike(cube): #Likelihood function\n",
    "    \n",
    "    k = num_of_model_sources\n",
    "    cov = np.cov(data)\n",
    "    inner_term1 = -0.5*((data - mu).T*(1/cov)*(data - mu))\n",
    "    cov_term2 = np.abs(cov)\n",
    "    \n",
    "    Likelihood = -0.5*k*(np.log(2*np.pi)-0.5*np.sum(np.log(cov_term2)+inner_term1)\n",
    "    \n",
    "    return Likelihood"
   ]
  },
  {
   "cell_type": "code",
   "execution_count": null,
   "metadata": {},
   "outputs": [],
   "source": []
  }
 ],
 "metadata": {
  "kernelspec": {
   "display_name": "Python 3",
   "language": "python",
   "name": "python3"
  },
  "language_info": {
   "codemirror_mode": {
    "name": "ipython",
    "version": 3
   },
   "file_extension": ".py",
   "mimetype": "text/x-python",
   "name": "python",
   "nbconvert_exporter": "python",
   "pygments_lexer": "ipython3",
   "version": "3.7.0"
  }
 },
 "nbformat": 4,
 "nbformat_minor": 2
}
